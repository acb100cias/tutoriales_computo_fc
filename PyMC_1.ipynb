{
  "nbformat": 4,
  "nbformat_minor": 0,
  "metadata": {
    "colab": {
      "private_outputs": true,
      "provenance": [],
      "authorship_tag": "ABX9TyMIGfFqZwdh4BfTib9QzOz0",
      "include_colab_link": true
    },
    "kernelspec": {
      "name": "python3",
      "display_name": "Python 3"
    },
    "language_info": {
      "name": "python"
    }
  },
  "cells": [
    {
      "cell_type": "markdown",
      "metadata": {
        "id": "view-in-github",
        "colab_type": "text"
      },
      "source": [
        "<a href=\"https://colab.research.google.com/github/acb100cias/tutoriales_computo_fc/blob/master/PyMC_1.ipynb\" target=\"_parent\"><img src=\"https://colab.research.google.com/assets/colab-badge.svg\" alt=\"Open In Colab\"/></a>"
      ]
    },
    {
      "cell_type": "code",
      "execution_count": null,
      "metadata": {
        "id": "q6mydWkYCIPF"
      },
      "outputs": [],
      "source": [
        "!pip install pymc\n"
      ]
    },
    {
      "cell_type": "code",
      "source": [
        "import arviz as az\n",
        "import matplotlib.pyplot as plt\n",
        "import numpy as np\n",
        "import pandas as pd"
      ],
      "metadata": {
        "id": "O19wzHuvCMO9"
      },
      "execution_count": null,
      "outputs": []
    },
    {
      "cell_type": "code",
      "source": [
        "RD=8927\n",
        "rng=np.random.default_rng(RD)\n",
        "az.style.use(\"arviz-darkgrid\")"
      ],
      "metadata": {
        "id": "Rki9b5fbCZsF"
      },
      "execution_count": null,
      "outputs": []
    },
    {
      "cell_type": "code",
      "source": [
        "alpha,sigma=1,1\n",
        "beta=[1,2.5]\n",
        "size=100\n",
        "X1=np.random.randn(size)\n",
        "X2=np.random.randn(size)*0.2\n",
        "\n",
        "Y=alpha+beta[0]*X1+beta[1]*X2+rng.normal(size=size)*sigma"
      ],
      "metadata": {
        "id": "mJqgw5gJCb-m"
      },
      "execution_count": null,
      "outputs": []
    },
    {
      "cell_type": "code",
      "source": [
        "fig,axes=plt.subplots(1,2,sharex=True,figsize=(10,4))\n",
        "axes[0].scatter(X1,Y,alpha=0.6)\n",
        "axes[1].scatter(X2,Y,alpha=0.6)\n",
        "axes[0].set_ylabel(\"Y\")\n",
        "axes[0].set_xlabel(\"X1\")\n",
        "axes[1].set_xlabel(\"X2\")"
      ],
      "metadata": {
        "id": "ojnfsSmECd7t"
      },
      "execution_count": null,
      "outputs": []
    },
    {
      "cell_type": "code",
      "source": [
        "import pymc as pm"
      ],
      "metadata": {
        "id": "Gxp0tnWBCgXj"
      },
      "execution_count": null,
      "outputs": []
    },
    {
      "cell_type": "code",
      "source": [
        "basic_model=pm.Model()"
      ],
      "metadata": {
        "id": "Hx_K1GreCn-s"
      },
      "execution_count": null,
      "outputs": []
    },
    {
      "cell_type": "code",
      "source": [
        "with basic_model:\n",
        "    alpha=pm.Normal(\"alpha\",mu=0,sigma=10)\n",
        "    beta=pm.Normal(\"beta\",mu=0,sigma=10,shape=2)\n",
        "    sigma=pm.HalfNormal(\"sigma\",sigma=1)\n",
        "    mu=alpha+beta[0]*X1+beta[1]*X2\n",
        "    Y_obs=pm.Normal(\"Y_obs\",mu=0,sigma=sigma,observed=Y)\n"
      ],
      "metadata": {
        "id": "9Nz4JB1fCvQl"
      },
      "execution_count": null,
      "outputs": []
    },
    {
      "cell_type": "code",
      "source": [
        "with basic_model:\n",
        "  idata=pm.sample()"
      ],
      "metadata": {
        "id": "vuRLocOKCyL1"
      },
      "execution_count": null,
      "outputs": []
    },
    {
      "cell_type": "code",
      "source": [
        "idata"
      ],
      "metadata": {
        "id": "kXGtmxbgC3oe"
      },
      "execution_count": null,
      "outputs": []
    },
    {
      "cell_type": "code",
      "source": [
        "az.plot_trace(idata,combined=True)"
      ],
      "metadata": {
        "id": "vd1vzHA7DAB9"
      },
      "execution_count": null,
      "outputs": []
    },
    {
      "cell_type": "code",
      "source": [
        "az.summary(idata,round_to=2)"
      ],
      "metadata": {
        "id": "hVHW6pvCDIw1"
      },
      "execution_count": null,
      "outputs": []
    },
    {
      "cell_type": "code",
      "source": [],
      "metadata": {
        "id": "JRNUalT9D9F3"
      },
      "execution_count": null,
      "outputs": []
    }
  ]
}