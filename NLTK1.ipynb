{
  "nbformat": 4,
  "nbformat_minor": 0,
  "metadata": {
    "colab": {
      "private_outputs": true,
      "provenance": [],
      "toc_visible": true,
      "authorship_tag": "ABX9TyNu3LtdZ0KuDxbMaJ8KxMPo",
      "include_colab_link": true
    },
    "kernelspec": {
      "name": "python3",
      "display_name": "Python 3"
    },
    "language_info": {
      "name": "python"
    }
  },
  "cells": [
    {
      "cell_type": "markdown",
      "metadata": {
        "id": "view-in-github",
        "colab_type": "text"
      },
      "source": [
        "<a href=\"https://colab.research.google.com/github/acb100cias/tutoriales_computo_fc/blob/master/NLTK1.ipynb\" target=\"_parent\"><img src=\"https://colab.research.google.com/assets/colab-badge.svg\" alt=\"Open In Colab\"/></a>"
      ]
    },
    {
      "cell_type": "code",
      "execution_count": null,
      "metadata": {
        "id": "uoNu_FcFZ2te"
      },
      "outputs": [],
      "source": [
        "!pip install nltk"
      ]
    },
    {
      "cell_type": "code",
      "source": [
        "import nltk"
      ],
      "metadata": {
        "id": "mHau-l_RZ6kq"
      },
      "execution_count": null,
      "outputs": []
    },
    {
      "cell_type": "code",
      "source": [
        "text='''Ciudad de México. En la Secretaría de Gobernación (SG) están “las puertas abiertas” para la familia LeBaron, aseveró la presidenta Claudia Sheinbaum Pardo, quien señaló que hasta ahora no han solicitado una reunión con ella.\n",
        "\n",
        "Agregó además que el caso “está en manos” de la Fiscalía General de la República (FGR).\n",
        "\n",
        "Esta mañana integrantes de esa familia se manifestaron en las inmediaciones de Palacio Nacional, en el marco del quinto aniversario de los crímenes, donde argumentando que si bien hay muchos detenidos, hasta ahora no hay nadie sentenciado por la masacre de nueve integrantes de esa familia (tres mujeres y seis niños) en los límites entre Sonora y Chihuahua el 4 de noviembre de 2019.\n",
        "\n",
        "Interrogada al respecto, la mandataria federal refirió: “Hay 36 detenidos por parte de la Fiscalía General de la República por este lamentable suceso, y sí, la Secretaria Gobernación tiene la orientación de que en caso de que así lo requieran, estarán siempre las puertas abiertas”.'''"
      ],
      "metadata": {
        "id": "eMZUznAbbPLq"
      },
      "execution_count": null,
      "outputs": []
    },
    {
      "cell_type": "code",
      "source": [
        "text"
      ],
      "metadata": {
        "id": "9NXGrmYqboIs"
      },
      "execution_count": null,
      "outputs": []
    },
    {
      "cell_type": "code",
      "source": [
        "nltk.download('punkt')"
      ],
      "metadata": {
        "id": "kRtHtp3Jbow9"
      },
      "execution_count": null,
      "outputs": []
    },
    {
      "cell_type": "code",
      "source": [
        "S=nltk.tokenize.sent_tokenize(text)"
      ],
      "metadata": {
        "id": "VLsn8vW3b76e"
      },
      "execution_count": null,
      "outputs": []
    },
    {
      "cell_type": "code",
      "source": [
        "S"
      ],
      "metadata": {
        "id": "Le8MI9TacX4z"
      },
      "execution_count": null,
      "outputs": []
    },
    {
      "cell_type": "code",
      "source": [
        "w=nltk.tokenize.word_tokenize(text)"
      ],
      "metadata": {
        "id": "BUPfH6Plcikj"
      },
      "execution_count": null,
      "outputs": []
    },
    {
      "cell_type": "code",
      "source": [
        "w"
      ],
      "metadata": {
        "id": "gqapTskActZ0"
      },
      "execution_count": null,
      "outputs": []
    },
    {
      "cell_type": "code",
      "source": [
        "from nltk.corpus import stopwords"
      ],
      "metadata": {
        "id": "VF_l2Mb_cuXd"
      },
      "execution_count": null,
      "outputs": []
    },
    {
      "cell_type": "code",
      "source": [
        "stopwords.words('english')"
      ],
      "metadata": {
        "id": "_V2tgh7odIIP"
      },
      "execution_count": null,
      "outputs": []
    },
    {
      "cell_type": "code",
      "source": [
        "t2='''\n",
        "vosotras, las protagonistas, seréis las líderes del equipo mágico.\n",
        "Habríamos tenido éxito si no fuera por aquel poderoso hechizo que tenía el villano.\n",
        "Muchos estaban preocupados, pero confío en que habré encontrado la solución a tiempo.\n",
        "Sentido tiene que haberles guiado hacia esta misión crucial.\n",
        "Si estéis listas para enfrentar los desafíos, seríais capaces de superar cualquier obstáculo.\n",
        "Tendrías que recordar que no se puede subestimar el poder que se oculta dentro de cada uno.\n",
        "'''"
      ],
      "metadata": {
        "id": "8LRLyCxleoCh"
      },
      "execution_count": null,
      "outputs": []
    },
    {
      "cell_type": "code",
      "source": [
        "nltk.download('stopwords')"
      ],
      "metadata": {
        "id": "nUbLrwRgdNMN"
      },
      "execution_count": null,
      "outputs": []
    },
    {
      "cell_type": "code",
      "source": [
        "sw=stopwords.words('spanish')\n",
        "f=[]\n",
        "pal=nltk.tokenize.word_tokenize(text)\n",
        "for p in pal:\n",
        "  if p not in  sw:\n",
        "    f.append(p)\n",
        "\n"
      ],
      "metadata": {
        "id": "dFuWIRBhdXCl"
      },
      "execution_count": null,
      "outputs": []
    },
    {
      "cell_type": "code",
      "source": [
        "len(pal)"
      ],
      "metadata": {
        "id": "qZt84OV5ecx2"
      },
      "execution_count": null,
      "outputs": []
    },
    {
      "cell_type": "code",
      "source": [
        "len(f)"
      ],
      "metadata": {
        "id": "-tq0vPNwedTl"
      },
      "execution_count": null,
      "outputs": []
    },
    {
      "cell_type": "code",
      "source": [
        "from nltk.stem import WordNetLemmatizer\n",
        "nltk.download('wordnet')"
      ],
      "metadata": {
        "id": "YWGlQDEJe3G9"
      },
      "execution_count": null,
      "outputs": []
    },
    {
      "cell_type": "markdown",
      "source": [],
      "metadata": {
        "id": "h2bPeZtHiJ9x"
      }
    },
    {
      "cell_type": "code",
      "source": [
        "lmt=WordNetLemmatizer()"
      ],
      "metadata": {
        "id": "XlJvKQVlfQ7g"
      },
      "execution_count": null,
      "outputs": []
    },
    {
      "cell_type": "code",
      "source": [
        "lmt.lemmatize('',pos='v')"
      ],
      "metadata": {
        "id": "0Pae6C-xfU1Q"
      },
      "execution_count": null,
      "outputs": []
    },
    {
      "cell_type": "code",
      "source": [
        "from nltk.corpus import wordnet\n",
        "nltk.download('universal_tagset')"
      ],
      "metadata": {
        "id": "nWbxOkqCfZt4"
      },
      "execution_count": null,
      "outputs": []
    },
    {
      "cell_type": "code",
      "source": [
        "def get_word_pos(word):\n",
        "  if word.startswith('ADJ'):\n",
        "    return wordnet.ADJ\n",
        "  elif word.startswith('V'):\n",
        "    return wordnet.VERB\n",
        "  elif word.startswith('N'):\n",
        "    return wordnet.NOUN\n",
        "  elif word.startswith('ADV'):\n",
        "    return wordnet.ADV\n",
        "  else:\n",
        "    return wordnet.NOUN\n",
        ""
      ],
      "metadata": {
        "id": "k6urLLzMgFW2"
      },
      "execution_count": null,
      "outputs": []
    },
    {
      "cell_type": "code",
      "source": [
        "t3='Luis´s dogs aren´t sitting calmly on the white mats'\n",
        "tt3=nltk.word_tokenize(t3)"
      ],
      "metadata": {
        "id": "ZlJ9ZtXQgqhX"
      },
      "execution_count": null,
      "outputs": []
    },
    {
      "cell_type": "code",
      "source": [
        "[WordNetLemmatizer().lemmatize(palabra) for palabra in tt3]"
      ],
      "metadata": {
        "id": "K9HZDEAJg7QR"
      },
      "execution_count": null,
      "outputs": []
    },
    {
      "cell_type": "code",
      "source": [
        "tt3"
      ],
      "metadata": {
        "id": "IDm_aX9Bg_vc"
      },
      "execution_count": null,
      "outputs": []
    },
    {
      "cell_type": "code",
      "source": [],
      "metadata": {
        "id": "wM93BmNchg3n"
      },
      "execution_count": null,
      "outputs": []
    }
  ]
}