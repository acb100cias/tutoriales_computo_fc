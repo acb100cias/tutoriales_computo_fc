{
 "cells": [
  {
   "cell_type": "code",
   "execution_count": 4,
   "id": "46d12fb8-773e-4c0a-84c5-65ca1cc8e952",
   "metadata": {
    "tags": []
   },
   "outputs": [
    {
     "name": "stdout",
     "output_type": "stream",
     "text": [
      "Defaulting to user installation because normal site-packages is not writeable\n",
      "Requirement already satisfied: numpy-financial in /usr/local/lib/python3.9/dist-packages (1.0.0)\n",
      "Requirement already satisfied: pyxirr in /home/augusto/.local/lib/python3.9/site-packages (0.10.4)\n",
      "Requirement already satisfied: numpy>=1.15 in /usr/local/lib/python3.9/dist-packages (from numpy-financial) (1.24.3)\n",
      "\u001b[33mDEPRECATION: textract 1.6.5 has a non-standard dependency specifier extract-msg<=0.29.*. pip 24.1 will enforce this behaviour change. A possible replacement is to upgrade to a newer version of textract or contact the author to suggest that they release a version with a conforming dependency specifiers. Discussion can be found at https://github.com/pypa/pip/issues/12063\u001b[0m\u001b[33m\n",
      "\u001b[0m\u001b[33mDEPRECATION: gpg 1.14.0-unknown has a non-standard version number. pip 24.1 will enforce this behaviour change. A possible replacement is to upgrade to a newer version of gpg or contact the author to suggest that they release a version with a conforming version number. Discussion can be found at https://github.com/pypa/pip/issues/12063\u001b[0m\u001b[33m\n",
      "\u001b[0m\n",
      "\u001b[1m[\u001b[0m\u001b[34;49mnotice\u001b[0m\u001b[1;39;49m]\u001b[0m\u001b[39;49m A new release of pip is available: \u001b[0m\u001b[31;49m24.0\u001b[0m\u001b[39;49m -> \u001b[0m\u001b[32;49m24.1.2\u001b[0m\n",
      "\u001b[1m[\u001b[0m\u001b[34;49mnotice\u001b[0m\u001b[1;39;49m]\u001b[0m\u001b[39;49m To update, run: \u001b[0m\u001b[32;49mpython3 -m pip install --upgrade pip\u001b[0m\n"
     ]
    }
   ],
   "source": [
    "!pip install numpy-financial pyxirr"
   ]
  },
  {
   "cell_type": "markdown",
   "id": "923d034c-bddf-4379-9dfd-6f39c2ecd42e",
   "metadata": {},
   "source": [
    "# Valores presente y futuro"
   ]
  },
  {
   "cell_type": "code",
   "execution_count": 5,
   "id": "d7be6e62-c5a9-434f-9dad-917f7da560e6",
   "metadata": {
    "tags": []
   },
   "outputs": [],
   "source": [
    "import numpy_financial as npf"
   ]
  },
  {
   "cell_type": "code",
   "execution_count": 19,
   "id": "ef53f06d-73e9-4c33-84c0-481ea12d19ee",
   "metadata": {
    "tags": []
   },
   "outputs": [],
   "source": [
    "tasa=0.05\n",
    "nper=10\n",
    "mp=-1000\n",
    "vp=0"
   ]
  },
  {
   "cell_type": "code",
   "execution_count": 20,
   "id": "daede823-4e50-43ba-a647-1864d2474ec5",
   "metadata": {
    "tags": []
   },
   "outputs": [],
   "source": [
    "vf=npf.fv(tasa,nper,mp,vp)"
   ]
  },
  {
   "cell_type": "code",
   "execution_count": 21,
   "id": "3a74edb9-1d5e-4b30-a492-589c10efc206",
   "metadata": {
    "tags": []
   },
   "outputs": [
    {
     "name": "stdout",
     "output_type": "stream",
     "text": [
      "Valor futuro: 12577.89\n",
      "Valor presente: 0.00\n"
     ]
    }
   ],
   "source": [
    "print(f\"Valor futuro: {vf:.2f}\" )\n",
    "print(f\"Valor presente: {vp:.2f}\")"
   ]
  },
  {
   "cell_type": "code",
   "execution_count": 22,
   "id": "0e56c2ef-53f8-41bb-96eb-c2b7e037ae95",
   "metadata": {
    "tags": []
   },
   "outputs": [
    {
     "name": "stdout",
     "output_type": "stream",
     "text": [
      "Valor presente: -4556.53\n",
      "Valor futuro: 20000.00\n"
     ]
    }
   ],
   "source": [
    "vf=20000\n",
    "vp=npf.pv(tasa,nper,mp,vf)\n",
    "print(f\"Valor presente: {vp:.2f}\")\n",
    "print(f\"Valor futuro: {vf:.2f}\" )"
   ]
  },
  {
   "cell_type": "code",
   "execution_count": 42,
   "id": "6e893608-5af1-4b5e-a9b1-f329fbb57b62",
   "metadata": {
    "tags": []
   },
   "outputs": [
    {
     "name": "stdout",
     "output_type": "stream",
     "text": [
      "Periodos: 7.31\n"
     ]
    }
   ],
   "source": [
    "nper=npf.nper(tasa,mp,-1000,10000)\n",
    "print(f\"Periodos: {nper:.2f}\")"
   ]
  },
  {
   "cell_type": "code",
   "execution_count": 50,
   "id": "62220ea7-b399-4e6d-ab3a-a6e5e2c17762",
   "metadata": {
    "tags": []
   },
   "outputs": [
    {
     "name": "stdout",
     "output_type": "stream",
     "text": [
      "Pagos: -515.43\n"
     ]
    }
   ],
   "source": [
    "mp=npf.pmt(tasa,12,-1000,10000)\n",
    "print(f\"Pagos: {mp:.2f}\")"
   ]
  },
  {
   "cell_type": "markdown",
   "id": "03e416e1-b253-4dfc-9831-e23a097d1d7e",
   "metadata": {},
   "source": [
    "# Valor Presente Neto y Tasa interna de retorno"
   ]
  },
  {
   "cell_type": "code",
   "execution_count": 63,
   "id": "9b70d0dc-099b-4ed4-92b1-f22b6f107a8c",
   "metadata": {
    "tags": []
   },
   "outputs": [],
   "source": [
    "flujo=[-1000,300,300,300,300]\n",
    "td=0.1"
   ]
  },
  {
   "cell_type": "code",
   "execution_count": 71,
   "id": "82a25ea6-e55f-40a4-aa49-d4cfcbcbe9a1",
   "metadata": {
    "tags": []
   },
   "outputs": [
    {
     "name": "stdout",
     "output_type": "stream",
     "text": [
      "VPN: -49.04\n"
     ]
    }
   ],
   "source": [
    "vpn=npf.npv(td,flujo)\n",
    "print(f\"VPN: {vpn:.2f}\")"
   ]
  },
  {
   "cell_type": "code",
   "execution_count": 72,
   "id": "c8fd5f51-38c2-452d-b1f9-78fc93bbcd5d",
   "metadata": {
    "tags": []
   },
   "outputs": [
    {
     "name": "stdout",
     "output_type": "stream",
     "text": [
      "TIR: 7.71%\n"
     ]
    }
   ],
   "source": [
    "tir=npf.irr(flujo)\n",
    "print(f\"TIR: {tir:.2%}\")"
   ]
  },
  {
   "cell_type": "code",
   "execution_count": null,
   "id": "93f3f2bf-6c12-4c4a-a9d8-df0492e8d864",
   "metadata": {},
   "outputs": [],
   "source": []
  }
 ],
 "metadata": {
  "kernelspec": {
   "display_name": "Python 3",
   "language": "python",
   "name": "python3"
  },
  "language_info": {
   "codemirror_mode": {
    "name": "ipython",
    "version": 3
   },
   "file_extension": ".py",
   "mimetype": "text/x-python",
   "name": "python",
   "nbconvert_exporter": "python",
   "pygments_lexer": "ipython3",
   "version": "3.9.2"
  }
 },
 "nbformat": 4,
 "nbformat_minor": 5
}
