{
 "cells": [
  {
   "cell_type": "code",
   "execution_count": 1,
   "id": "1f322e74-48cb-41db-a698-448faf0e7118",
   "metadata": {},
   "outputs": [],
   "source": [
    "import  numpy as np\n"
   ]
  },
  {
   "cell_type": "code",
   "execution_count": 2,
   "id": "5a01b858-9016-461b-8bc3-25d0b6102507",
   "metadata": {
    "tags": []
   },
   "outputs": [],
   "source": [
    "A=np.array([1,2,3,4,5,6,7])"
   ]
  },
  {
   "cell_type": "code",
   "execution_count": 6,
   "id": "0b4f6cc8-faea-4721-b05e-bebd7f456250",
   "metadata": {
    "tags": []
   },
   "outputs": [
    {
     "data": {
      "text/plain": [
       "array([2, 3, 4])"
      ]
     },
     "execution_count": 6,
     "metadata": {},
     "output_type": "execute_result"
    }
   ],
   "source": [
    "A[1:4]"
   ]
  },
  {
   "cell_type": "code",
   "execution_count": 8,
   "id": "3123e2c1-4c48-4f96-8923-8819a8e97706",
   "metadata": {
    "tags": []
   },
   "outputs": [
    {
     "data": {
      "text/plain": [
       "array([5, 6])"
      ]
     },
     "execution_count": 8,
     "metadata": {},
     "output_type": "execute_result"
    }
   ],
   "source": [
    "A[-3:-1]"
   ]
  },
  {
   "cell_type": "code",
   "execution_count": 9,
   "id": "c2ddc6bc-609d-4f17-a830-b65277b73c22",
   "metadata": {
    "tags": []
   },
   "outputs": [],
   "source": [
    "A1=list(range(1000))"
   ]
  },
  {
   "cell_type": "code",
   "execution_count": 11,
   "id": "ee1db52d-8bb3-4e17-b7f4-a458a7b9b8fc",
   "metadata": {
    "tags": []
   },
   "outputs": [],
   "source": [
    "A1=np.array(A1)"
   ]
  },
  {
   "cell_type": "code",
   "execution_count": 14,
   "id": "563ae107-4c6a-4834-9d85-9f284d799886",
   "metadata": {
    "tags": []
   },
   "outputs": [
    {
     "data": {
      "text/plain": [
       "array([970, 971, 972, 973, 974, 975, 976, 977, 978, 979, 980, 981, 982,\n",
       "       983, 984, 985, 986, 987, 988, 989])"
      ]
     },
     "execution_count": 14,
     "metadata": {},
     "output_type": "execute_result"
    }
   ],
   "source": [
    "A1[-30:-10]"
   ]
  },
  {
   "cell_type": "code",
   "execution_count": 18,
   "id": "19ab0f7c-ea7d-4187-9479-fa24e0da87c2",
   "metadata": {
    "tags": []
   },
   "outputs": [
    {
     "data": {
      "text/plain": [
       "array([50, 55, 60, 65, 70, 75, 80, 85, 90, 95])"
      ]
     },
     "execution_count": 18,
     "metadata": {},
     "output_type": "execute_result"
    }
   ],
   "source": [
    "A1[50:100:5]"
   ]
  },
  {
   "cell_type": "code",
   "execution_count": 21,
   "id": "4b73e9e7-db0e-406e-9d6d-ac86d0ea5c8e",
   "metadata": {
    "tags": []
   },
   "outputs": [
    {
     "data": {
      "text/plain": [
       "array([  0,  10,  20,  30,  40,  50,  60,  70,  80,  90, 100, 110, 120,\n",
       "       130, 140, 150, 160, 170, 180, 190, 200, 210, 220, 230, 240, 250,\n",
       "       260, 270, 280, 290, 300, 310, 320, 330, 340, 350, 360, 370, 380,\n",
       "       390, 400, 410, 420, 430, 440, 450, 460, 470, 480, 490, 500, 510,\n",
       "       520, 530, 540, 550, 560, 570, 580, 590, 600, 610, 620, 630, 640,\n",
       "       650, 660, 670, 680, 690, 700, 710, 720, 730, 740, 750, 760, 770,\n",
       "       780, 790, 800, 810, 820, 830, 840, 850, 860, 870, 880, 890, 900,\n",
       "       910, 920, 930, 940, 950, 960, 970, 980, 990])"
      ]
     },
     "execution_count": 21,
     "metadata": {},
     "output_type": "execute_result"
    }
   ],
   "source": [
    "A1[::10]"
   ]
  },
  {
   "cell_type": "code",
   "execution_count": 25,
   "id": "996b997e-2ede-4c63-8640-ae79c2b11af4",
   "metadata": {
    "tags": []
   },
   "outputs": [],
   "source": [
    "A2=np.array([A1,A1])"
   ]
  },
  {
   "cell_type": "code",
   "execution_count": 33,
   "id": "545b0d12-52b6-4ef5-b5c6-26b5c90b1855",
   "metadata": {
    "tags": []
   },
   "outputs": [
    {
     "data": {
      "text/plain": [
       "array([1, 2, 3])"
      ]
     },
     "execution_count": 33,
     "metadata": {},
     "output_type": "execute_result"
    }
   ],
   "source": [
    "A2[0,1:4]"
   ]
  },
  {
   "cell_type": "code",
   "execution_count": 38,
   "id": "3ddfdebc-c3ee-4bf5-8452-93746d342a70",
   "metadata": {
    "tags": []
   },
   "outputs": [],
   "source": [
    "A3=np.array([A1,A1*2])"
   ]
  },
  {
   "cell_type": "code",
   "execution_count": 46,
   "id": "5d157e10-c76e-4577-ad5e-ec9921707d94",
   "metadata": {
    "tags": []
   },
   "outputs": [
    {
     "data": {
      "text/plain": [
       "array([[10, 11, 12, 13, 14, 15, 16, 17, 18, 19],\n",
       "       [20, 22, 24, 26, 28, 30, 32, 34, 36, 38]])"
      ]
     },
     "execution_count": 46,
     "metadata": {},
     "output_type": "execute_result"
    }
   ],
   "source": [
    "A3[:,10:20]"
   ]
  },
  {
   "cell_type": "code",
   "execution_count": 47,
   "id": "802069e4-a369-4408-9b96-00586f1ada38",
   "metadata": {
    "tags": []
   },
   "outputs": [],
   "source": [
    "A3=np.array([A1,A1*2,A1*5])"
   ]
  },
  {
   "cell_type": "code",
   "execution_count": 56,
   "id": "b55d9ae2-d209-440f-b02a-f85bd2b6c80e",
   "metadata": {
    "tags": []
   },
   "outputs": [
    {
     "data": {
      "text/plain": [
       "array([[ 10,  15,  20,  25,  30,  35,  40,  45],\n",
       "       [ 20,  30,  40,  50,  60,  70,  80,  90],\n",
       "       [ 50,  75, 100, 125, 150, 175, 200, 225]])"
      ]
     },
     "execution_count": 56,
     "metadata": {},
     "output_type": "execute_result"
    }
   ],
   "source": [
    "A3[:,10:50:5]"
   ]
  },
  {
   "cell_type": "code",
   "execution_count": 58,
   "id": "2b696b79-d859-4c54-8033-bddd449ce878",
   "metadata": {
    "tags": []
   },
   "outputs": [],
   "source": [
    "A4=np.array(['manzana','platano','piña'])"
   ]
  },
  {
   "cell_type": "code",
   "execution_count": 62,
   "id": "cf2959f7-8f8d-4373-aee1-83a2f3a0c072",
   "metadata": {
    "tags": []
   },
   "outputs": [],
   "source": [
    "A5=np.array(['manzana','platano','piña',1,2,3,4.,5.,6.])"
   ]
  },
  {
   "cell_type": "code",
   "execution_count": 63,
   "id": "6833697b-5cb7-4566-829a-70aff1f0e124",
   "metadata": {
    "tags": []
   },
   "outputs": [
    {
     "data": {
      "text/plain": [
       "array(['manzana', 'platano', 'piña', '1', '2', '3', '4.0', '5.0', '6.0'],\n",
       "      dtype='<U32')"
      ]
     },
     "execution_count": 63,
     "metadata": {},
     "output_type": "execute_result"
    }
   ],
   "source": [
    "A5"
   ]
  },
  {
   "cell_type": "code",
   "execution_count": 82,
   "id": "a6c574f9-ba01-4878-8d7f-d9ec1526f25c",
   "metadata": {
    "tags": []
   },
   "outputs": [],
   "source": [
    "A6=A5[3:].astype('float')"
   ]
  },
  {
   "cell_type": "code",
   "execution_count": 77,
   "id": "07be6f1d-c2d7-4125-a685-12b20928812e",
   "metadata": {
    "tags": []
   },
   "outputs": [
    {
     "data": {
      "text/plain": [
       "array([ 1.,  4.,  9., 16., 25., 36.])"
      ]
     },
     "execution_count": 77,
     "metadata": {},
     "output_type": "execute_result"
    }
   ],
   "source": [
    "A6**2"
   ]
  },
  {
   "cell_type": "code",
   "execution_count": 81,
   "id": "60d446cb-3c7e-4b4d-b357-f80007d51449",
   "metadata": {
    "tags": []
   },
   "outputs": [],
   "source": [
    "A7=A5[3:].astype('float').copy()"
   ]
  },
  {
   "cell_type": "code",
   "execution_count": 87,
   "id": "51758867-0e9b-496f-a791-b5172ac4c5a1",
   "metadata": {
    "tags": []
   },
   "outputs": [
    {
     "data": {
      "text/plain": [
       "array([1., 2., 3., 4., 5., 6.])"
      ]
     },
     "execution_count": 87,
     "metadata": {},
     "output_type": "execute_result"
    }
   ],
   "source": [
    "A6.view()"
   ]
  },
  {
   "cell_type": "code",
   "execution_count": 89,
   "id": "067381e1-0ca8-4ea4-8c03-e400f5e0df0c",
   "metadata": {
    "tags": []
   },
   "outputs": [
    {
     "data": {
      "text/plain": [
       "array([1., 2., 3., 4., 5., 6.])"
      ]
     },
     "execution_count": 89,
     "metadata": {},
     "output_type": "execute_result"
    }
   ],
   "source": [
    "A7.view()"
   ]
  },
  {
   "cell_type": "code",
   "execution_count": null,
   "id": "95dbe904-e7c9-48fd-b386-a30626601275",
   "metadata": {},
   "outputs": [],
   "source": []
  }
 ],
 "metadata": {
  "kernelspec": {
   "display_name": "Python 3",
   "language": "python",
   "name": "python3"
  },
  "language_info": {
   "codemirror_mode": {
    "name": "ipython",
    "version": 3
   },
   "file_extension": ".py",
   "mimetype": "text/x-python",
   "name": "python",
   "nbconvert_exporter": "python",
   "pygments_lexer": "ipython3",
   "version": "3.9.2"
  }
 },
 "nbformat": 4,
 "nbformat_minor": 5
}
