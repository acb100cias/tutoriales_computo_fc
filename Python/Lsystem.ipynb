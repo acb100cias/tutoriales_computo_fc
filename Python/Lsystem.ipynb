{
 "cells": [
  {
   "cell_type": "code",
   "execution_count": 1,
   "id": "128c6947-84a7-4618-923a-32fe94bd3e37",
   "metadata": {
    "tags": []
   },
   "outputs": [],
   "source": [
    "import turtle"
   ]
  },
  {
   "cell_type": "code",
   "execution_count": 14,
   "id": "5c5378e7-e336-47a5-a188-587cc07508c1",
   "metadata": {
    "tags": []
   },
   "outputs": [],
   "source": [
    "def drawTriangle(points,color,mitortuga):\n",
    "    mitortuga.fillcolor(color)\n",
    "    mitortuga.up()\n",
    "    mitortuga.goto(points[0][0],points[0][1])\n",
    "    mitortuga.down()\n",
    "    mitortuga.begin_fill()\n",
    "    mitortuga.goto(points[1][0],points[1][1])\n",
    "    mitortuga.goto(points[2][0],points[2][1])\n",
    "    mitortuga.goto(points[0][0],points[0][1])"
   ]
  },
  {
   "cell_type": "code",
   "execution_count": 19,
   "id": "c8bf0251-7e76-4f0f-aa9a-7d5bb3313005",
   "metadata": {
    "tags": []
   },
   "outputs": [],
   "source": [
    "def getPM(p1,p2):\n",
    "    return((p1[0]+p2[0])/2,(p1[1]+p2[1])/2)"
   ]
  },
  {
   "cell_type": "code",
   "execution_count": 20,
   "id": "b4e2557a-f67b-4d3c-a250-bd861684498b",
   "metadata": {
    "tags": []
   },
   "outputs": [],
   "source": [
    "def sierpinski(points,grado,mitortuga):\n",
    "    colormap=['blue','red','green','white','yellow','violet','orange']\n",
    "    drawTriangle(points,colormap[grado],mitortuga)\n",
    "    if grado >0:\n",
    "        sierpinski([points[0],getPM(points[0],points[1]),\n",
    "                    getPM(points[0],points[2])],grado-1,mitortuga)\n",
    "        sierpinski([points[1],getPM(points[0],points[1]),\n",
    "                    getPM(points[1],points[2])],grado-1,mitortuga)\n",
    "        sierpinski([points[2],getPM(points[2],points[1]),\n",
    "                    getPM(points[0],points[2])],grado-1,mitortuga)"
   ]
  },
  {
   "cell_type": "code",
   "execution_count": 21,
   "id": "5048e31d-4134-48ae-8d6f-cc4f76dd52a2",
   "metadata": {
    "tags": []
   },
   "outputs": [],
   "source": [
    "def main():\n",
    "    mitortuga=turtle.Turtle()\n",
    "    mywin=turtle.Screen()\n",
    "    puntos=[[-100,-50],[0,100],[100,-50]]\n",
    "    sierpinski(puntos,6,mitortuga)\n",
    "    mywin.exitonclick()"
   ]
  },
  {
   "cell_type": "code",
   "execution_count": 13,
   "id": "c1d546ca-4200-4c5e-8e1d-c22ee61eb02a",
   "metadata": {
    "tags": []
   },
   "outputs": [
    {
     "data": {
      "text/plain": [
       "-50"
      ]
     },
     "execution_count": 13,
     "metadata": {},
     "output_type": "execute_result"
    }
   ],
   "source": [
    "puntos[0][1]"
   ]
  },
  {
   "cell_type": "code",
   "execution_count": 12,
   "id": "e6d2752d-d18e-4788-8e6f-7e0fcc56b2b2",
   "metadata": {
    "tags": []
   },
   "outputs": [],
   "source": [
    "puntos=[[-100,-50],[0,100],[100,-50]]"
   ]
  },
  {
   "cell_type": "code",
   "execution_count": null,
   "id": "28f63ad9-6284-4b44-a6f0-7c9a17390e56",
   "metadata": {
    "tags": []
   },
   "outputs": [],
   "source": [
    "main()"
   ]
  },
  {
   "cell_type": "markdown",
   "id": "e6af60a0-afe9-433e-ba57-679e4aec355b",
   "metadata": {},
   "source": []
  }
 ],
 "metadata": {
  "kernelspec": {
   "display_name": "Python 3",
   "language": "python",
   "name": "python3"
  },
  "language_info": {
   "codemirror_mode": {
    "name": "ipython",
    "version": 3
   },
   "file_extension": ".py",
   "mimetype": "text/x-python",
   "name": "python",
   "nbconvert_exporter": "python",
   "pygments_lexer": "ipython3",
   "version": "3.9.2"
  }
 },
 "nbformat": 4,
 "nbformat_minor": 5
}
