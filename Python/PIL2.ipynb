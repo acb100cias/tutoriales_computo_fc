{
 "cells": [
  {
   "cell_type": "code",
   "execution_count": 1,
   "id": "f65bcf6f-0912-49d3-ac02-d7a767087187",
   "metadata": {
    "tags": []
   },
   "outputs": [],
   "source": [
    "from PIL import Image"
   ]
  },
  {
   "cell_type": "code",
   "execution_count": 2,
   "id": "50bd1378-dfe5-40b1-a540-11c1997555ea",
   "metadata": {
    "tags": []
   },
   "outputs": [],
   "source": [
    "img=Image.open('/home/augusto/camaleon.jpg')"
   ]
  },
  {
   "cell_type": "code",
   "execution_count": 3,
   "id": "a0c00348-bb39-4b63-94f9-71e53923b383",
   "metadata": {
    "tags": []
   },
   "outputs": [
    {
     "data": {
      "text/plain": [
       "(516, 776)"
      ]
     },
     "execution_count": 3,
     "metadata": {},
     "output_type": "execute_result"
    }
   ],
   "source": [
    "img.size"
   ]
  },
  {
   "cell_type": "code",
   "execution_count": 4,
   "id": "c6e5e178-92b7-4fdb-9198-b1494c47fa89",
   "metadata": {
    "tags": []
   },
   "outputs": [
    {
     "data": {
      "text/plain": [
       "'JPEG'"
      ]
     },
     "execution_count": 4,
     "metadata": {},
     "output_type": "execute_result"
    }
   ],
   "source": [
    "img.format"
   ]
  },
  {
   "cell_type": "code",
   "execution_count": 5,
   "id": "bec3f402-fac8-46e8-840d-6372343b7dfd",
   "metadata": {
    "tags": []
   },
   "outputs": [
    {
     "data": {
      "text/plain": [
       "'RGB'"
      ]
     },
     "execution_count": 5,
     "metadata": {},
     "output_type": "execute_result"
    }
   ],
   "source": [
    "img.mode"
   ]
  },
  {
   "cell_type": "code",
   "execution_count": 6,
   "id": "ba6062e7-3dca-4058-9988-d0db8d72031c",
   "metadata": {
    "tags": []
   },
   "outputs": [],
   "source": [
    "img.show()"
   ]
  },
  {
   "cell_type": "code",
   "execution_count": 7,
   "id": "bd0b85bf-2ed7-434b-be8e-5650040c1ab6",
   "metadata": {
    "tags": []
   },
   "outputs": [],
   "source": [
    "img=img.rotate(90)"
   ]
  },
  {
   "cell_type": "code",
   "execution_count": 10,
   "id": "65126ccc-3c52-4e4d-b27d-1ab3f0c759ed",
   "metadata": {
    "tags": []
   },
   "outputs": [],
   "source": [
    "img.show()"
   ]
  },
  {
   "cell_type": "code",
   "execution_count": 9,
   "id": "5cf766e8-106c-410c-a225-614a7ed44ce2",
   "metadata": {
    "tags": []
   },
   "outputs": [
    {
     "data": {
      "text/plain": [
       "(516, 776)"
      ]
     },
     "execution_count": 9,
     "metadata": {},
     "output_type": "execute_result"
    }
   ],
   "source": [
    "img.size"
   ]
  },
  {
   "cell_type": "code",
   "execution_count": 11,
   "id": "38236302-480b-42cd-8b57-627212a1d24a",
   "metadata": {
    "tags": []
   },
   "outputs": [],
   "source": [
    "img=Image.open('/home/augusto/camaleon.jpg')"
   ]
  },
  {
   "cell_type": "code",
   "execution_count": 12,
   "id": "df8d4f3d-d14d-44c1-9986-2c20668d1e03",
   "metadata": {
    "tags": []
   },
   "outputs": [],
   "source": [
    "img2=img.rotate(90)"
   ]
  },
  {
   "cell_type": "code",
   "execution_count": 14,
   "id": "aad5ee58-9f03-45c7-b471-de4c2d4eb4f6",
   "metadata": {
    "tags": []
   },
   "outputs": [],
   "source": [
    "img3=img.transpose(method=Image.FLIP_TOP_BOTTOM)"
   ]
  },
  {
   "cell_type": "code",
   "execution_count": 15,
   "id": "123307db-aab7-4c64-9996-b61a6a8ae364",
   "metadata": {
    "tags": []
   },
   "outputs": [],
   "source": [
    "img2.show()"
   ]
  },
  {
   "cell_type": "code",
   "execution_count": 16,
   "id": "2adc4dad-f082-47f8-aa73-3a005ac99ca3",
   "metadata": {
    "tags": []
   },
   "outputs": [],
   "source": [
    "img3.show()"
   ]
  },
  {
   "cell_type": "code",
   "execution_count": 17,
   "id": "6e02d656-8282-49e2-b74a-92a176c576d4",
   "metadata": {
    "tags": []
   },
   "outputs": [],
   "source": [
    "w,h=img.size"
   ]
  },
  {
   "cell_type": "code",
   "execution_count": 20,
   "id": "4b901f82-fe3b-4931-98f2-bfebbf97f862",
   "metadata": {
    "tags": []
   },
   "outputs": [],
   "source": [
    "left=4\n",
    "top= h/5\n",
    "right=154\n",
    "bottom=3*h/5"
   ]
  },
  {
   "cell_type": "code",
   "execution_count": 21,
   "id": "fb338e30-d241-4380-88c4-6e52ae1bf7b9",
   "metadata": {
    "tags": []
   },
   "outputs": [],
   "source": [
    "img4=img.crop((left,top,right,bottom))"
   ]
  },
  {
   "cell_type": "code",
   "execution_count": 22,
   "id": "b27c2857-57ef-425f-a174-2b9bd3c6584d",
   "metadata": {
    "tags": []
   },
   "outputs": [],
   "source": [
    "img4.show()"
   ]
  },
  {
   "cell_type": "code",
   "execution_count": 25,
   "id": "228c023c-ce75-4c29-8480-2c3a1ca2e00a",
   "metadata": {
    "tags": []
   },
   "outputs": [],
   "source": [
    "img4=img4.resize((600,600))"
   ]
  },
  {
   "cell_type": "code",
   "execution_count": 26,
   "id": "680f5ec8-befd-44a8-a8ae-bfcdc5e7faf3",
   "metadata": {
    "tags": []
   },
   "outputs": [],
   "source": [
    "img4.show()"
   ]
  },
  {
   "cell_type": "code",
   "execution_count": 32,
   "id": "b7f6e0b5-747a-440c-b60a-9114559ac5f4",
   "metadata": {
    "tags": []
   },
   "outputs": [],
   "source": [
    "img5=Image.open('/home/augusto/olas.jpg')"
   ]
  },
  {
   "cell_type": "code",
   "execution_count": 28,
   "id": "151630da-39cc-4964-83fe-499b08c662a7",
   "metadata": {
    "tags": []
   },
   "outputs": [],
   "source": [
    "img5.show()"
   ]
  },
  {
   "cell_type": "code",
   "execution_count": 29,
   "id": "07b71eec-8f90-4945-9e3c-90e5f264bffc",
   "metadata": {
    "tags": []
   },
   "outputs": [],
   "source": [
    "M=(100,100)"
   ]
  },
  {
   "cell_type": "code",
   "execution_count": 30,
   "id": "df0d782e-916b-4ca8-b843-d9ef867aa2d4",
   "metadata": {
    "tags": []
   },
   "outputs": [],
   "source": [
    "img5.thumbnail(M)\n"
   ]
  },
  {
   "cell_type": "code",
   "execution_count": 31,
   "id": "78008d41-7f36-4eea-952d-0c50dc1bd47c",
   "metadata": {
    "tags": []
   },
   "outputs": [],
   "source": [
    "img5.show()"
   ]
  },
  {
   "cell_type": "code",
   "execution_count": 46,
   "id": "8f3d1c44-a5be-410c-9333-523df93917df",
   "metadata": {
    "tags": []
   },
   "outputs": [],
   "source": [
    "from PIL import ImageFilter\n",
    "img6=img5.filter(ImageFilter.BoxBlur(4)) "
   ]
  },
  {
   "cell_type": "code",
   "execution_count": 47,
   "id": "b0ccfb9d-511f-4e67-bbd1-af13d546e708",
   "metadata": {
    "tags": []
   },
   "outputs": [],
   "source": [
    "img6.show()"
   ]
  },
  {
   "cell_type": "code",
   "execution_count": null,
   "id": "3b2d9aea-a342-4bbc-9c92-9e4abfca6ede",
   "metadata": {},
   "outputs": [],
   "source": []
  }
 ],
 "metadata": {
  "kernelspec": {
   "display_name": "Python 3",
   "language": "python",
   "name": "python3"
  },
  "language_info": {
   "codemirror_mode": {
    "name": "ipython",
    "version": 3
   },
   "file_extension": ".py",
   "mimetype": "text/x-python",
   "name": "python",
   "nbconvert_exporter": "python",
   "pygments_lexer": "ipython3",
   "version": "3.9.2"
  }
 },
 "nbformat": 4,
 "nbformat_minor": 5
}
