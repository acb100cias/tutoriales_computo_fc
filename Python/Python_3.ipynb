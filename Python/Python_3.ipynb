{
 "cells": [
  {
   "cell_type": "markdown",
   "metadata": {},
   "source": [
    "# Matrices en python\n",
    "\n",
    "En este tutorial veremos algunos aspectos del álgebra lineal de matrices en python.\n",
    "\n",
    "## Álgebra de matrices"
   ]
  },
  {
   "cell_type": "code",
   "execution_count": 1,
   "metadata": {
    "collapsed": true
   },
   "outputs": [],
   "source": [
    "from numpy import *"
   ]
  },
  {
   "cell_type": "markdown",
   "metadata": {},
   "source": [
    "Escribir la matriz:\n",
    "\n",
    "$$ {\\begin{array}{ccc}1&2&3\\\\1&0&5\\\\0&0&1\\end{array}} $$"
   ]
  },
  {
   "cell_type": "code",
   "execution_count": 2,
   "metadata": {
    "collapsed": true
   },
   "outputs": [],
   "source": [
    "M=array([[1,2,3],[1,0,5],[0,0,1]])"
   ]
  },
  {
   "cell_type": "code",
   "execution_count": 4,
   "metadata": {
    "collapsed": false
   },
   "outputs": [
    {
     "data": {
      "text/plain": [
       "array([[1, 2, 3],\n",
       "       [1, 0, 5],\n",
       "       [0, 0, 1]])"
      ]
     },
     "execution_count": 4,
     "metadata": {},
     "output_type": "execute_result"
    }
   ],
   "source": [
    "M.view()    "
   ]
  },
  {
   "cell_type": "code",
   "execution_count": 3,
   "metadata": {
    "collapsed": false
   },
   "outputs": [
    {
     "data": {
      "text/plain": [
       "numpy.ndarray"
      ]
     },
     "execution_count": 3,
     "metadata": {},
     "output_type": "execute_result"
    }
   ],
   "source": [
    "type(M)"
   ]
  },
  {
   "cell_type": "code",
   "execution_count": null,
   "metadata": {
    "collapsed": true
   },
   "outputs": [],
   "source": [
    "M."
   ]
  },
  {
   "cell_type": "markdown",
   "metadata": {},
   "source": [
    "Calculamos su traza"
   ]
  },
  {
   "cell_type": "code",
   "execution_count": 5,
   "metadata": {
    "collapsed": false
   },
   "outputs": [
    {
     "data": {
      "text/plain": [
       "2"
      ]
     },
     "execution_count": 5,
     "metadata": {},
     "output_type": "execute_result"
    }
   ],
   "source": [
    "M.trace()"
   ]
  },
  {
   "cell_type": "markdown",
   "metadata": {},
   "source": [
    "Trasponemos"
   ]
  },
  {
   "cell_type": "code",
   "execution_count": 6,
   "metadata": {
    "collapsed": false
   },
   "outputs": [
    {
     "data": {
      "text/plain": [
       "array([[1, 1, 0],\n",
       "       [2, 0, 0],\n",
       "       [3, 5, 1]])"
      ]
     },
     "execution_count": 6,
     "metadata": {},
     "output_type": "execute_result"
    }
   ],
   "source": [
    "M.T"
   ]
  },
  {
   "cell_type": "code",
   "execution_count": 7,
   "metadata": {
    "collapsed": false
   },
   "outputs": [
    {
     "data": {
      "text/plain": [
       "array([1, 0, 1])"
      ]
     },
     "execution_count": 7,
     "metadata": {},
     "output_type": "execute_result"
    }
   ],
   "source": [
    "M.diagonal()"
   ]
  },
  {
   "cell_type": "code",
   "execution_count": 8,
   "metadata": {
    "collapsed": false
   },
   "outputs": [
    {
     "data": {
      "text/plain": [
       "array([[1, 1, 0],\n",
       "       [2, 0, 0],\n",
       "       [3, 5, 1]])"
      ]
     },
     "execution_count": 8,
     "metadata": {},
     "output_type": "execute_result"
    }
   ],
   "source": [
    "M.transpose()"
   ]
  },
  {
   "cell_type": "markdown",
   "metadata": {
    "collapsed": true
   },
   "source": [
    "Calcular el determinante"
   ]
  },
  {
   "cell_type": "code",
   "execution_count": null,
   "metadata": {
    "collapsed": true
   },
   "outputs": [],
   "source": [
    "linalg."
   ]
  },
  {
   "cell_type": "code",
   "execution_count": 9,
   "metadata": {
    "collapsed": false
   },
   "outputs": [
    {
     "data": {
      "text/plain": [
       "-2.0"
      ]
     },
     "execution_count": 9,
     "metadata": {},
     "output_type": "execute_result"
    }
   ],
   "source": [
    "linalg.det(M)"
   ]
  },
  {
   "cell_type": "markdown",
   "metadata": {},
   "source": [
    "## Calcular los eigenvalores y eigenvectores\n"
   ]
  },
  {
   "cell_type": "code",
   "execution_count": 10,
   "metadata": {
    "collapsed": false
   },
   "outputs": [
    {
     "data": {
      "text/plain": [
       "(array([ 2., -1.,  1.]), array([[ 0.89442719, -0.70710678, -0.96362411],\n",
       "        [ 0.4472136 ,  0.70710678, -0.22237479],\n",
       "        [ 0.        ,  0.        ,  0.14824986]]))"
      ]
     },
     "execution_count": 10,
     "metadata": {},
     "output_type": "execute_result"
    }
   ],
   "source": [
    "linalg.eig(M)"
   ]
  },
  {
   "cell_type": "code",
   "execution_count": 14,
   "metadata": {
    "collapsed": false
   },
   "outputs": [
    {
     "data": {
      "text/plain": [
       "1.0"
      ]
     },
     "execution_count": 14,
     "metadata": {},
     "output_type": "execute_result"
    }
   ],
   "source": [
    "linalg.eig(M)[0][2]"
   ]
  },
  {
   "cell_type": "code",
   "execution_count": 19,
   "metadata": {
    "collapsed": false
   },
   "outputs": [
    {
     "data": {
      "text/plain": [
       "array([-0.96362411, -0.22237479,  0.14824986])"
      ]
     },
     "execution_count": 19,
     "metadata": {},
     "output_type": "execute_result"
    }
   ],
   "source": [
    "linalg.eig(M)[1].T[2]"
   ]
  },
  {
   "cell_type": "markdown",
   "metadata": {},
   "source": [
    "## Operaciones con matrices"
   ]
  },
  {
   "cell_type": "code",
   "execution_count": 26,
   "metadata": {
    "collapsed": false
   },
   "outputs": [],
   "source": [
    "M1=array([random.random(3)*10,random.random(3)*10,random.random(3)*10])\n",
    "M2=array([random.random(3)*10,random.random(3)*10,random.random(3)*10])"
   ]
  },
  {
   "cell_type": "code",
   "execution_count": 22,
   "metadata": {
    "collapsed": false
   },
   "outputs": [
    {
     "data": {
      "text/plain": [
       "array([252.03561078, 696.2855864 , 359.81511061])"
      ]
     },
     "execution_count": 22,
     "metadata": {},
     "output_type": "execute_result"
    }
   ],
   "source": [
    "random.random(3)*1000"
   ]
  },
  {
   "cell_type": "code",
   "execution_count": 28,
   "metadata": {
    "collapsed": false
   },
   "outputs": [
    {
     "data": {
      "text/plain": [
       "array([[7.23842536, 8.68995715, 1.4374555 ],\n",
       "       [0.27366867, 9.40414618, 9.56768029],\n",
       "       [2.98595263, 9.64900778, 6.50021677]])"
      ]
     },
     "execution_count": 28,
     "metadata": {},
     "output_type": "execute_result"
    }
   ],
   "source": [
    "M2"
   ]
  },
  {
   "cell_type": "code",
   "execution_count": 29,
   "metadata": {
    "collapsed": false
   },
   "outputs": [],
   "source": [
    "M1=trunc(M1)"
   ]
  },
  {
   "cell_type": "code",
   "execution_count": 30,
   "metadata": {
    "collapsed": false
   },
   "outputs": [],
   "source": [
    "M2=trunc(M2)"
   ]
  },
  {
   "cell_type": "code",
   "execution_count": 35,
   "metadata": {
    "collapsed": false
   },
   "outputs": [
    {
     "data": {
      "text/plain": [
       "array([[5., 8., 3.],\n",
       "       [8., 2., 3.],\n",
       "       [5., 3., 2.]])"
      ]
     },
     "execution_count": 35,
     "metadata": {},
     "output_type": "execute_result"
    }
   ],
   "source": [
    "M1"
   ]
  },
  {
   "cell_type": "code",
   "execution_count": 32,
   "metadata": {
    "collapsed": false
   },
   "outputs": [
    {
     "data": {
      "text/plain": [
       "array([[7., 8., 1.],\n",
       "       [0., 9., 9.],\n",
       "       [2., 9., 6.]])"
      ]
     },
     "execution_count": 32,
     "metadata": {},
     "output_type": "execute_result"
    }
   ],
   "source": [
    "M2"
   ]
  },
  {
   "cell_type": "code",
   "execution_count": 33,
   "metadata": {
    "collapsed": false
   },
   "outputs": [
    {
     "data": {
      "text/plain": [
       "array([[12., 16.,  4.],\n",
       "       [ 8., 11., 12.],\n",
       "       [ 7., 12.,  8.]])"
      ]
     },
     "execution_count": 33,
     "metadata": {},
     "output_type": "execute_result"
    }
   ],
   "source": [
    "M1+M2"
   ]
  },
  {
   "cell_type": "code",
   "execution_count": 34,
   "metadata": {
    "collapsed": false
   },
   "outputs": [
    {
     "data": {
      "text/plain": [
       "array([[35., 64.,  3.],\n",
       "       [ 0., 18., 27.],\n",
       "       [10., 27., 12.]])"
      ]
     },
     "execution_count": 34,
     "metadata": {},
     "output_type": "execute_result"
    }
   ],
   "source": [
    "M1*M2"
   ]
  },
  {
   "cell_type": "code",
   "execution_count": 38,
   "metadata": {
    "collapsed": false
   },
   "outputs": [
    {
     "data": {
      "text/plain": [
       "array([[ 41., 139.,  95.],\n",
       "       [ 62., 109.,  44.],\n",
       "       [ 39.,  85.,  44.]])"
      ]
     },
     "execution_count": 38,
     "metadata": {},
     "output_type": "execute_result"
    }
   ],
   "source": [
    "dot(M1,M2)"
   ]
  },
  {
   "cell_type": "code",
   "execution_count": 39,
   "metadata": {
    "collapsed": false
   },
   "outputs": [],
   "source": [
    "m1=linalg.inv(M1)"
   ]
  },
  {
   "cell_type": "code",
   "execution_count": 40,
   "metadata": {
    "collapsed": false
   },
   "outputs": [
    {
     "data": {
      "text/plain": [
       "array([[-0.55555556, -0.77777778,  2.        ],\n",
       "       [-0.11111111, -0.55555556,  1.        ],\n",
       "       [ 1.55555556,  2.77777778, -6.        ]])"
      ]
     },
     "execution_count": 40,
     "metadata": {},
     "output_type": "execute_result"
    }
   ],
   "source": [
    "m1"
   ]
  },
  {
   "cell_type": "code",
   "execution_count": 44,
   "metadata": {
    "collapsed": false
   },
   "outputs": [
    {
     "data": {
      "text/plain": [
       "array([[ 1.00000000e+00,  0.00000000e+00, -8.88178420e-16],\n",
       "       [ 8.88178420e-16,  1.00000000e+00,  0.00000000e+00],\n",
       "       [ 1.77635684e-15, -1.77635684e-15,  1.00000000e+00]])"
      ]
     },
     "execution_count": 44,
     "metadata": {},
     "output_type": "execute_result"
    }
   ],
   "source": [
    "dot(m1,M1)"
   ]
  },
  {
   "cell_type": "code",
   "execution_count": 47,
   "metadata": {
    "collapsed": false
   },
   "outputs": [
    {
     "data": {
      "text/plain": [
       "array([[ 0.,  0., -0.],\n",
       "       [ 0.,  1.,  0.],\n",
       "       [ 0., -0.,  1.]])"
      ]
     },
     "execution_count": 47,
     "metadata": {},
     "output_type": "execute_result"
    }
   ],
   "source": [
    "trunc(dot(m1,M1))"
   ]
  },
  {
   "cell_type": "code",
   "execution_count": 48,
   "metadata": {
    "collapsed": false
   },
   "outputs": [],
   "source": [
    "I1=dot(m1,M1)"
   ]
  },
  {
   "cell_type": "code",
   "execution_count": 50,
   "metadata": {
    "collapsed": false
   },
   "outputs": [
    {
     "data": {
      "text/plain": [
       "array([[ 0.,  0., -0.],\n",
       "       [ 0.,  1., -0.],\n",
       "       [ 0., -0.,  1.]])"
      ]
     },
     "execution_count": 50,
     "metadata": {},
     "output_type": "execute_result"
    }
   ],
   "source": [
    "trunc(linalg.matrix_power(I1,4))"
   ]
  },
  {
   "cell_type": "code",
   "execution_count": 51,
   "metadata": {
    "collapsed": false
   },
   "outputs": [
    {
     "data": {
      "text/plain": [
       "array([[1.19116725e+11, 9.54132918e+10, 5.49401338e+10],\n",
       "       [1.00987153e+11, 8.08981765e+10, 4.65793414e+10],\n",
       "       [7.67032587e+10, 6.14429724e+10, 3.53783064e+10]])"
      ]
     },
     "execution_count": 51,
     "metadata": {},
     "output_type": "execute_result"
    }
   ],
   "source": [
    "linalg.matrix_power(M1,10)"
   ]
  },
  {
   "cell_type": "markdown",
   "metadata": {
    "collapsed": true
   },
   "source": [
    "# Proyecto\n",
    "\n",
    "**1. Construir dos matrices aleatorias de tamaño 100 x 100**\n",
    "\n",
    "**2. Calcular la suma de la n-esima potencia y calcular su espectro**\n",
    "\n",
    "**3. Calcular el determinante y la inversa**\n",
    "\n",
    "**4. Visualizar las matrices**"
   ]
  },
  {
   "cell_type": "code",
   "execution_count": 52,
   "metadata": {
    "collapsed": false
   },
   "outputs": [],
   "source": [
    "N=100\n",
    "r=[]\n",
    "for i in range(N):\n",
    "    r.append(random.random(N)*100)\n",
    "matriz1=trunc(array(r))    "
   ]
  },
  {
   "cell_type": "code",
   "execution_count": 53,
   "metadata": {
    "collapsed": false
   },
   "outputs": [
    {
     "data": {
      "text/plain": [
       "(100, 100)"
      ]
     },
     "execution_count": 53,
     "metadata": {},
     "output_type": "execute_result"
    }
   ],
   "source": [
    "matriz1.shape\n"
   ]
  },
  {
   "cell_type": "code",
   "execution_count": 54,
   "metadata": {
    "collapsed": false
   },
   "outputs": [
    {
     "data": {
      "text/plain": [
       "array([[28.,  7., 34., ..., 60.,  5.,  0.],\n",
       "       [ 0., 99., 22., ..., 19., 50., 87.],\n",
       "       [63., 59., 28., ..., 72., 36., 71.],\n",
       "       ...,\n",
       "       [68.,  3.,  6., ..., 68., 56., 77.],\n",
       "       [67., 22., 42., ..., 95., 53., 64.],\n",
       "       [90., 73., 22., ..., 14., 95., 62.]])"
      ]
     },
     "execution_count": 54,
     "metadata": {},
     "output_type": "execute_result"
    }
   ],
   "source": [
    "matriz1"
   ]
  },
  {
   "cell_type": "code",
   "execution_count": 55,
   "metadata": {
    "collapsed": true
   },
   "outputs": [],
   "source": [
    "def crear_matriz(N):\n",
    "    r=[]\n",
    "    for i in range(N):\n",
    "        r.append(random.random(N)*100)\n",
    "    return trunc(array(r))  \n",
    "    "
   ]
  },
  {
   "cell_type": "code",
   "execution_count": 71,
   "metadata": {
    "collapsed": false
   },
   "outputs": [],
   "source": [
    "matriz1,matriz2=crear_matriz(100),crear_matriz(100)"
   ]
  },
  {
   "cell_type": "code",
   "execution_count": 72,
   "metadata": {
    "collapsed": false
   },
   "outputs": [
    {
     "data": {
      "text/plain": [
       "array([[80., 32.,  7., ..., 15., 57., 44.],\n",
       "       [17., 39.,  2., ..., 35., 21., 95.],\n",
       "       [10., 66., 83., ..., 83., 55.,  8.],\n",
       "       ...,\n",
       "       [74., 40., 55., ..., 60.,  5., 17.],\n",
       "       [29., 53., 80., ..., 84., 15., 12.],\n",
       "       [87., 75., 52., ..., 84., 12., 48.]])"
      ]
     },
     "execution_count": 72,
     "metadata": {},
     "output_type": "execute_result"
    }
   ],
   "source": [
    "matriz1"
   ]
  },
  {
   "cell_type": "code",
   "execution_count": 73,
   "metadata": {
    "collapsed": false
   },
   "outputs": [
    {
     "data": {
      "text/plain": [
       "array([[70., 62., 74., ..., 50., 13., 95.],\n",
       "       [91., 51., 34., ..., 75., 34., 41.],\n",
       "       [ 9., 10., 81., ..., 97., 70., 94.],\n",
       "       ...,\n",
       "       [37., 90., 76., ..., 12., 89., 27.],\n",
       "       [96.,  2., 59., ..., 79.,  0., 60.],\n",
       "       [32., 74.,  9., ..., 98., 29., 99.]])"
      ]
     },
     "execution_count": 73,
     "metadata": {},
     "output_type": "execute_result"
    }
   ],
   "source": [
    "matriz2"
   ]
  },
  {
   "cell_type": "code",
   "execution_count": 74,
   "metadata": {
    "collapsed": true
   },
   "outputs": [],
   "source": [
    "def n_mat(M,n):\n",
    "    return linalg.matrix_power(M,n)\n",
    "def sumat(M,N):\n",
    "    return M+N"
   ]
  },
  {
   "cell_type": "code",
   "execution_count": 75,
   "metadata": {
    "collapsed": false
   },
   "outputs": [
    {
     "data": {
      "text/plain": [
       "array([[150.,  94.,  81., ...,  65.,  70., 139.],\n",
       "       [108.,  90.,  36., ..., 110.,  55., 136.],\n",
       "       [ 19.,  76., 164., ..., 180., 125., 102.],\n",
       "       ...,\n",
       "       [111., 130., 131., ...,  72.,  94.,  44.],\n",
       "       [125.,  55., 139., ..., 163.,  15.,  72.],\n",
       "       [119., 149.,  61., ..., 182.,  41., 147.]])"
      ]
     },
     "execution_count": 75,
     "metadata": {},
     "output_type": "execute_result"
    }
   ],
   "source": [
    "sumat(matriz1,matriz2)"
   ]
  },
  {
   "cell_type": "code",
   "execution_count": 76,
   "metadata": {
    "collapsed": false
   },
   "outputs": [
    {
     "data": {
      "text/plain": [
       "array([[9.68525324e+34, 8.52434361e+34, 8.95499341e+34, ...,\n",
       "        9.14488250e+34, 8.64745636e+34, 1.04135348e+35],\n",
       "       [9.81768922e+34, 8.64090533e+34, 9.07744384e+34, ...,\n",
       "        9.26992946e+34, 8.76570153e+34, 1.05559293e+35],\n",
       "       [8.56765903e+34, 7.54070830e+34, 7.92166485e+34, ...,\n",
       "        8.08964239e+34, 7.64961491e+34, 9.21190325e+34],\n",
       "       ...,\n",
       "       [8.65259057e+34, 7.61545964e+34, 8.00019263e+34, ...,\n",
       "        8.16983533e+34, 7.72544585e+34, 9.30322121e+34],\n",
       "       [8.79213683e+34, 7.73827938e+34, 8.12921722e+34, ...,\n",
       "        8.30159587e+34, 7.85003941e+34, 9.45326063e+34],\n",
       "       [9.04121990e+34, 7.95750645e+34, 8.35951964e+34, ...,\n",
       "        8.53678181e+34, 8.07243266e+34, 9.72107347e+34]])"
      ]
     },
     "execution_count": 76,
     "metadata": {},
     "output_type": "execute_result"
    }
   ],
   "source": [
    "n_mat(matriz1,10)"
   ]
  },
  {
   "cell_type": "code",
   "execution_count": 77,
   "metadata": {
    "collapsed": false
   },
   "outputs": [
    {
     "data": {
      "text/plain": [
       "array([[1.78756909e+35, 1.62890858e+35, 1.75917623e+35, ...,\n",
       "        1.70002643e+35, 1.74474263e+35, 1.94245755e+35],\n",
       "       [1.86620993e+35, 1.70256299e+35, 1.84038227e+35, ...,\n",
       "        1.77525308e+35, 1.82683124e+35, 2.02864641e+35],\n",
       "       [1.71852753e+35, 1.57104266e+35, 1.70088911e+35, ...,\n",
       "        1.63547276e+35, 1.69085540e+35, 1.86929217e+35],\n",
       "       ...,\n",
       "       [1.75001875e+35, 1.60032054e+35, 1.73299321e+35, ...,\n",
       "        1.66554932e+35, 1.72314808e+35, 1.90372622e+35],\n",
       "       [1.77074457e+35, 1.61902178e+35, 1.75303585e+35, ...,\n",
       "        1.68521956e+35, 1.74288254e+35, 1.92617976e+35],\n",
       "       [1.68447270e+35, 1.53554286e+35, 1.65882724e+35, ...,\n",
       "        1.60210616e+35, 1.64566766e+35, 1.83064168e+35]])"
      ]
     },
     "execution_count": 77,
     "metadata": {},
     "output_type": "execute_result"
    }
   ],
   "source": [
    "sumat(n_mat(matriz1,10),n_mat(matriz2,10))"
   ]
  },
  {
   "cell_type": "code",
   "execution_count": 78,
   "metadata": {
    "collapsed": true
   },
   "outputs": [],
   "source": [
    "def n_sumat(M,N,n):\n",
    "    return linalg.matrix_power(M,n)+linalg.matrix_power(N,n)\n"
   ]
  },
  {
   "cell_type": "code",
   "execution_count": 100,
   "metadata": {
    "collapsed": false
   },
   "outputs": [],
   "source": [
    "A=n_sumat(matriz1,matriz2,30)"
   ]
  },
  {
   "cell_type": "code",
   "execution_count": 80,
   "metadata": {
    "collapsed": false
   },
   "outputs": [
    {
     "data": {
      "text/plain": [
       "array([[1.78756909e+35, 1.62890858e+35, 1.75917623e+35, ...,\n",
       "        1.70002643e+35, 1.74474263e+35, 1.94245755e+35],\n",
       "       [1.86620993e+35, 1.70256299e+35, 1.84038227e+35, ...,\n",
       "        1.77525308e+35, 1.82683124e+35, 2.02864641e+35],\n",
       "       [1.71852753e+35, 1.57104266e+35, 1.70088911e+35, ...,\n",
       "        1.63547276e+35, 1.69085540e+35, 1.86929217e+35],\n",
       "       ...,\n",
       "       [1.75001875e+35, 1.60032054e+35, 1.73299321e+35, ...,\n",
       "        1.66554932e+35, 1.72314808e+35, 1.90372622e+35],\n",
       "       [1.77074457e+35, 1.61902178e+35, 1.75303585e+35, ...,\n",
       "        1.68521956e+35, 1.74288254e+35, 1.92617976e+35],\n",
       "       [1.68447270e+35, 1.53554286e+35, 1.65882724e+35, ...,\n",
       "        1.60210616e+35, 1.64566766e+35, 1.83064168e+35]])"
      ]
     },
     "execution_count": 80,
     "metadata": {},
     "output_type": "execute_result"
    }
   ],
   "source": [
    "A"
   ]
  },
  {
   "cell_type": "code",
   "execution_count": 81,
   "metadata": {
    "collapsed": false
   },
   "outputs": [
    {
     "data": {
      "text/plain": [
       "(array([ 1.75391621e+37+0.00000000e+00j, -4.57531385e+33+0.00000000e+00j,\n",
       "         8.22806475e+24+4.77974377e+24j,  8.22806475e+24-4.77974377e+24j,\n",
       "         1.24486704e+24+7.48035956e+24j,  1.24486704e+24-7.48035956e+24j,\n",
       "        -5.88244272e+24+3.71021567e+24j, -5.88244272e+24-3.71021567e+24j,\n",
       "         6.14394939e+24+0.00000000e+00j,  4.37324410e+24+2.74189867e+24j,\n",
       "         4.37324410e+24-2.74189867e+24j,  4.36375425e+24+0.00000000e+00j,\n",
       "        -3.38373485e+24+1.77802757e+24j, -3.38373485e+24-1.77802757e+24j,\n",
       "        -3.73580656e+24+0.00000000e+00j, -1.58899196e+24+3.10073743e+24j,\n",
       "        -1.58899196e+24-3.10073743e+24j,  3.51668446e+24+0.00000000e+00j,\n",
       "        -1.95074524e+24+2.23688583e+24j, -1.95074524e+24-2.23688583e+24j,\n",
       "         6.21999567e+23+2.77271058e+24j,  6.21999567e+23-2.77271058e+24j,\n",
       "        -2.04253868e+24+1.72741619e+24j, -2.04253868e+24-1.72741619e+24j,\n",
       "        -6.55624810e+23+2.51263612e+24j, -6.55624810e+23-2.51263612e+24j,\n",
       "         2.54267660e+24+0.00000000e+00j,  2.13798859e+24+1.59187963e+24j,\n",
       "         2.13798859e+24-1.59187963e+24j,  1.16146912e+24+2.04522970e+24j,\n",
       "         1.16146912e+24-2.04522970e+24j,  1.99753891e+24+1.12960909e+24j,\n",
       "         1.99753891e+24-1.12960909e+24j, -1.83557911e+24+8.39348043e+23j,\n",
       "        -1.83557911e+24-8.39348043e+23j,  6.11252491e+23+1.87963086e+24j,\n",
       "         6.11252491e+23-1.87963086e+24j, -1.81617121e+24+0.00000000e+00j,\n",
       "         1.72702170e+24+0.00000000e+00j, -1.29829727e+23+1.67290141e+24j,\n",
       "        -1.29829727e+23-1.67290141e+24j, -1.28781064e+24+6.53225623e+23j,\n",
       "        -1.28781064e+24-6.53225623e+23j,  3.38888864e+23+1.19316193e+24j,\n",
       "         3.38888864e+23-1.19316193e+24j, -1.14985194e+24+3.47396227e+23j,\n",
       "        -1.14985194e+24-3.47396227e+23j,  1.06661360e+24+0.00000000e+00j,\n",
       "         8.25029680e+23+7.86197528e+23j,  8.25029680e+23-7.86197528e+23j,\n",
       "         3.12967085e+22+1.10802046e+24j,  3.12967085e+22-1.10802046e+24j,\n",
       "         9.19962243e+23+4.39554019e+23j,  9.19962243e+23-4.39554019e+23j,\n",
       "        -6.26304282e+23+7.32762944e+23j, -6.26304282e+23-7.32762944e+23j,\n",
       "        -7.29770665e+23+2.76570326e+23j, -7.29770665e+23-2.76570326e+23j,\n",
       "        -9.52214138e+22+6.85818424e+23j, -9.52214138e+22-6.85818424e+23j,\n",
       "         4.52942506e+23+5.03670754e+23j,  4.52942506e+23-5.03670754e+23j,\n",
       "         1.01188788e+23+6.00068436e+23j,  1.01188788e+23-6.00068436e+23j,\n",
       "        -5.44700917e+23+0.00000000e+00j,  5.08857839e+23+1.14500214e+23j,\n",
       "         5.08857839e+23-1.14500214e+23j, -4.45715075e+23+1.81661439e+23j,\n",
       "        -4.45715075e+23-1.81661439e+23j, -3.41586532e+23+2.33663971e+23j,\n",
       "        -3.41586532e+23-2.33663971e+23j, -3.68963956e+23+0.00000000e+00j,\n",
       "         3.34454716e+23+9.10028906e+22j,  3.34454716e+23-9.10028906e+22j,\n",
       "         1.99121390e+23+2.57821936e+23j,  1.99121390e+23-2.57821936e+23j,\n",
       "        -6.17550458e+22+2.94705452e+23j, -6.17550458e+22-2.94705452e+23j,\n",
       "        -1.40425442e+23+2.53484413e+23j, -1.40425442e+23-2.53484413e+23j,\n",
       "         2.79697079e+23+0.00000000e+00j,  1.42469882e+23+2.01535019e+23j,\n",
       "         1.42469882e+23-2.01535019e+23j, -2.10093322e+23+7.98548435e+22j,\n",
       "        -2.10093322e+23-7.98548435e+22j, -1.21710650e+23+0.00000000e+00j,\n",
       "         9.30052523e+22+1.30564622e+23j,  9.30052523e+22-1.30564622e+23j,\n",
       "        -3.22250649e+22+1.30904156e+23j, -3.22250649e+22-1.30904156e+23j,\n",
       "        -1.00642891e+23+0.00000000e+00j,  8.69072763e+22+0.00000000e+00j,\n",
       "        -4.80001770e+22+4.78788893e+22j, -4.80001770e+22-4.78788893e+22j,\n",
       "        -7.66592259e+21+4.97096215e+22j, -7.66592259e+21-4.97096215e+22j,\n",
       "         4.76294659e+22+3.49883700e+22j,  4.76294659e+22-3.49883700e+22j,\n",
       "         8.20385653e+21+4.68892107e+21j,  8.20385653e+21-4.68892107e+21j]),\n",
       " array([[-0.1015325 +0.00000000e+00j, -0.11007935+0.00000000e+00j,\n",
       "         -0.05084473+2.80379503e-02j, ..., -0.05233377-1.00854125e-01j,\n",
       "          0.08228412+1.80415011e-02j,  0.08228412-1.80415011e-02j],\n",
       "        [-0.10615939+0.00000000e+00j, -0.03462046+0.00000000e+00j,\n",
       "         -0.07358616+5.85644702e-02j, ...,  0.01218458-3.57758936e-02j,\n",
       "          0.03128584-2.36445884e-03j,  0.03128584+2.36445884e-03j],\n",
       "        [-0.09801651+0.00000000e+00j,  0.09749593+0.00000000e+00j,\n",
       "         -0.00680462+8.65335852e-02j, ...,  0.08492688+1.72677761e-01j,\n",
       "         -0.16695396-9.64203011e-03j, -0.16695396+9.64203011e-03j],\n",
       "        ...,\n",
       "        [-0.09985192+0.00000000e+00j,  0.11898998+0.00000000e+00j,\n",
       "          0.06454745-5.59454271e-03j, ..., -0.04920987+6.24278871e-02j,\n",
       "         -0.06503644+4.48557995e-05j, -0.06503644-4.48557995e-05j],\n",
       "        [-0.10101427+0.00000000e+00j,  0.11026147+0.00000000e+00j,\n",
       "          0.02441543+5.14588922e-02j, ...,  0.0101126 +7.08799108e-02j,\n",
       "         -0.14617222+1.01171464e-02j, -0.14617222-1.01171464e-02j],\n",
       "        [-0.09572331+0.00000000e+00j, -0.08036465+0.00000000e+00j,\n",
       "         -0.10375312-4.29115020e-02j, ...,  0.02351112-1.12585373e-01j,\n",
       "          0.09639416-1.70364819e-02j,  0.09639416+1.70364819e-02j]]))"
      ]
     },
     "execution_count": 81,
     "metadata": {},
     "output_type": "execute_result"
    }
   ],
   "source": [
    "linalg.eig(A)"
   ]
  },
  {
   "cell_type": "code",
   "execution_count": 85,
   "metadata": {
    "collapsed": false
   },
   "outputs": [
    {
     "data": {
      "text/plain": [
       "-7.134175135604119e+224"
      ]
     },
     "execution_count": 85,
     "metadata": {},
     "output_type": "execute_result"
    }
   ],
   "source": [
    "linalg.det(matriz2)"
   ]
  },
  {
   "cell_type": "code",
   "execution_count": 86,
   "metadata": {
    "collapsed": false
   },
   "outputs": [
    {
     "data": {
      "text/plain": [
       "array([[-1.65565246e-23,  3.80628805e-23,  7.55843064e-24, ...,\n",
       "         7.52507628e-23, -3.35220626e-23,  4.11791823e-23],\n",
       "       [-1.36635703e-23,  2.46357865e-23,  2.09226810e-24, ...,\n",
       "         4.83158482e-23, -2.02758363e-23,  2.84322109e-23],\n",
       "       [ 4.82502616e-23, -9.28734873e-23, -1.08224610e-23, ...,\n",
       "        -1.97116337e-22,  7.48387769e-23, -1.30607088e-22],\n",
       "       ...,\n",
       "       [ 1.76524889e-23, -3.73520527e-23, -3.15157608e-24, ...,\n",
       "        -8.04324289e-23,  3.19120442e-23, -5.04510223e-23],\n",
       "       [ 5.26694718e-23, -8.88787323e-23, -4.26201548e-24, ...,\n",
       "        -1.94266498e-22,  7.33863274e-23, -1.36766230e-22],\n",
       "       [-3.89526707e-23,  6.36206162e-23,  4.76559244e-24, ...,\n",
       "         1.42293231e-22, -4.83822475e-23,  1.10039458e-22]])"
      ]
     },
     "execution_count": 86,
     "metadata": {},
     "output_type": "execute_result"
    }
   ],
   "source": [
    "linalg.inv(A)"
   ]
  },
  {
   "cell_type": "code",
   "execution_count": 87,
   "metadata": {
    "collapsed": false
   },
   "outputs": [],
   "source": [
    "def funcionM(M):\n",
    "    print('el determinante es:'+str(linalg.det(M))) "
   ]
  },
  {
   "cell_type": "code",
   "execution_count": 90,
   "metadata": {
    "collapsed": false
   },
   "outputs": [
    {
     "name": "stdout",
     "output_type": "stream",
     "text": [
      "el determinante es:-inf\n"
     ]
    }
   ],
   "source": [
    "funcionM(A)"
   ]
  },
  {
   "cell_type": "code",
   "execution_count": 91,
   "metadata": {
    "collapsed": true
   },
   "outputs": [],
   "source": [
    "import matplotlib.image as img\n",
    "import matplotlib.pyplot as plt\n"
   ]
  },
  {
   "cell_type": "code",
   "execution_count": 95,
   "metadata": {
    "collapsed": false
   },
   "outputs": [
    {
     "data": {
      "text/plain": [
       "<matplotlib.image.AxesImage at 0x7fb3be2e6710>"
      ]
     },
     "execution_count": 95,
     "metadata": {},
     "output_type": "execute_result"
    },
    {
     "data": {
      "image/png": "[encoded data removed]",
      "text/plain": [
       "<Figure size 432x288 with 1 Axes>"
      ]
     },
     "metadata": {
      "needs_background": "light"
     },
     "output_type": "display_data"
    }
   ],
   "source": [
    "plt.imshow(matriz1,cmap='hot')"
   ]
  },
  {
   "cell_type": "code",
   "execution_count": 96,
   "metadata": {
    "collapsed": false
   },
   "outputs": [
    {
     "data": {
      "text/plain": [
       "<matplotlib.image.AxesImage at 0x7fb3be2cc950>"
      ]
     },
     "execution_count": 96,
     "metadata": {},
     "output_type": "execute_result"
    },
    {
     "data": {
      "image/png": "[encoded data removed]",
      "text/plain": [
       "<Figure size 432x288 with 1 Axes>"
      ]
     },
     "metadata": {
      "needs_background": "light"
     },
     "output_type": "display_data"
    }
   ],
   "source": [
    "plt.imshow(matriz2,cmap='hot')"
   ]
  },
  {
   "cell_type": "code",
   "execution_count": 101,
   "metadata": {
    "collapsed": false
   },
   "outputs": [
    {
     "data": {
      "text/plain": [
       "<matplotlib.image.AxesImage at 0x7fb3be18f090>"
      ]
     },
     "execution_count": 101,
     "metadata": {},
     "output_type": "execute_result"
    },
    {
     "data": {
      "image/png": "[encoded data removed]",
      "text/plain": [
       "<Figure size 432x288 with 1 Axes>"
      ]
     },
     "metadata": {
      "needs_background": "light"
     },
     "output_type": "display_data"
    }
   ],
   "source": [
    "plt.imshow(A,cmap='winter')"
   ]
  },
  {
   "cell_type": "code",
   "execution_count": null,
   "metadata": {
    "collapsed": true
   },
   "outputs": [],
   "source": []
  }
 ],
 "metadata": {
  "kernelspec": {
   "display_name": "Python 3",
   "language": "python",
   "name": "python3"
  },
  "language_info": {
   "codemirror_mode": {
    "name": "ipython",
    "version": 2
   },
   "file_extension": ".py",
   "mimetype": "text/x-python",
   "name": "python",
   "nbconvert_exporter": "python",
   "pygments_lexer": "ipython2",
   "version": "2.7.13"
  }
 },
 "nbformat": 4,
 "nbformat_minor": 2
}
