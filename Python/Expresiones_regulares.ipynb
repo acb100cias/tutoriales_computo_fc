{
 "cells": [
  {
   "cell_type": "code",
   "execution_count": 1,
   "id": "3690219d-3618-4661-9f60-2697ad6567ad",
   "metadata": {},
   "outputs": [],
   "source": [
    "import  re"
   ]
  },
  {
   "cell_type": "code",
   "execution_count": 47,
   "id": "1a27f019-cc1e-482d-ade7-847761317fcf",
   "metadata": {
    "tags": []
   },
   "outputs": [],
   "source": [
    "cadena1='Python es un leguaje de programacion util, moderno, sencillo. Si quieres aprender python sigue los tutoriales de este canal.'"
   ]
  },
  {
   "cell_type": "code",
   "execution_count": 5,
   "id": "d7e8a3a2-b879-4f88-a07b-8339b3e8aadf",
   "metadata": {
    "tags": []
   },
   "outputs": [
    {
     "data": {
      "text/plain": [
       "'Python es un leguaje de programacion util, moderno, sencillo. Si quieres aprender python sigue los tutoriales de este canal.'"
      ]
     },
     "execution_count": 5,
     "metadata": {},
     "output_type": "execute_result"
    }
   ],
   "source": [
    "cadena1"
   ]
  },
  {
   "cell_type": "code",
   "execution_count": 10,
   "id": "dd76cc10-23dc-4bd8-b1a9-a1240ad31d60",
   "metadata": {
    "tags": []
   },
   "outputs": [
    {
     "data": {
      "text/plain": [
       "<re.Match object; span=(82, 88), match='python'>"
      ]
     },
     "execution_count": 10,
     "metadata": {},
     "output_type": "execute_result"
    }
   ],
   "source": [
    "re.search('python',cadena1)"
   ]
  },
  {
   "cell_type": "code",
   "execution_count": 11,
   "id": "a7f4f32a-d2d4-4cab-bf45-90b5660138b8",
   "metadata": {
    "tags": []
   },
   "outputs": [
    {
     "data": {
      "text/plain": [
       "'python'"
      ]
     },
     "execution_count": 11,
     "metadata": {},
     "output_type": "execute_result"
    }
   ],
   "source": [
    "cadena1[82:88]"
   ]
  },
  {
   "cell_type": "code",
   "execution_count": 24,
   "id": "3ae2161c-0e14-42b7-9f1d-b6c08a0b4de8",
   "metadata": {
    "tags": []
   },
   "outputs": [
    {
     "data": {
      "text/plain": [
       "<re.Match object; span=(0, 6), match='Python'>"
      ]
     },
     "execution_count": 24,
     "metadata": {},
     "output_type": "execute_result"
    }
   ],
   "source": [
    "re.search('Python',cadena1)"
   ]
  },
  {
   "cell_type": "code",
   "execution_count": 25,
   "id": "3f94430e-e614-4f04-9ec8-ba2de35215c7",
   "metadata": {
    "tags": []
   },
   "outputs": [
    {
     "data": {
      "text/plain": [
       "['Python', 'Python']"
      ]
     },
     "execution_count": 25,
     "metadata": {},
     "output_type": "execute_result"
    }
   ],
   "source": [
    "re.findall('Python',cadena1)"
   ]
  },
  {
   "cell_type": "code",
   "execution_count": 33,
   "id": "7bc7d09e-3984-4b04-bc1c-15b06e33409a",
   "metadata": {
    "tags": []
   },
   "outputs": [
    {
     "data": {
      "text/plain": [
       "['Python es un leguaje de programacion util, moderno, sencillo',\n",
       " ' Si quieres aprender Python sigue los tutoriales de este canal',\n",
       " '']"
      ]
     },
     "execution_count": 33,
     "metadata": {},
     "output_type": "execute_result"
    }
   ],
   "source": [
    "cadena1.split('.')"
   ]
  },
  {
   "cell_type": "code",
   "execution_count": 34,
   "id": "803e7e95-b73a-4d3e-bffc-8e96eb152f19",
   "metadata": {
    "tags": []
   },
   "outputs": [
    {
     "data": {
      "text/plain": [
       "'Python es un leguaje de programacion util, moderno, sencillo. Si quieres aprender Python sigue los tutoriales de este canal.'"
      ]
     },
     "execution_count": 34,
     "metadata": {},
     "output_type": "execute_result"
    }
   ],
   "source": [
    "cadena1"
   ]
  },
  {
   "cell_type": "code",
   "execution_count": 48,
   "id": "aa8a4520-7b85-427a-9c65-c51649c7a2b9",
   "metadata": {
    "tags": []
   },
   "outputs": [],
   "source": [
    "patron='.ython'"
   ]
  },
  {
   "cell_type": "code",
   "execution_count": 49,
   "id": "faf3d43f-c29f-44bc-ba75-5a8a93e35e5a",
   "metadata": {
    "tags": []
   },
   "outputs": [
    {
     "data": {
      "text/plain": [
       "['Python', 'python']"
      ]
     },
     "execution_count": 49,
     "metadata": {},
     "output_type": "execute_result"
    }
   ],
   "source": [
    "re.findall(patron,cadena1)"
   ]
  },
  {
   "cell_type": "code",
   "execution_count": 51,
   "id": "228c9694-5987-417a-a047-7013bc442d60",
   "metadata": {
    "tags": []
   },
   "outputs": [],
   "source": [
    "cadena2='TGGTCAAGCTCTTTCAACCCTTTTTCAACGACACTAATCATATGTACTGCTTCCAACATCCCACCACTAACACCAAAACCACCATTCTCGATGTCGAAGATCTGGTCACTTGTGCTGGAACCATTGCCAGTAGTACGTCTCAGCACTCCGCTATTATATGGGATCAAATGGCACTTGGTCAAGATACGTCGGCAGCGAAATGTGGTAATTTGGACTATATAGTATAGCTATAGTTATGTGTAGTAGTCTCGTAGTCGCCACCCTTAGTTAGTATCACTTCAATAGAACTTCCCCTTGCTTGTGTATGTGCCTGAA'"
   ]
  },
  {
   "cell_type": "code",
   "execution_count": 68,
   "id": "341cf58a-dcf4-42c8-85dd-2ff218b83797",
   "metadata": {
    "tags": []
   },
   "outputs": [],
   "source": [
    "patron2='.[A][C][A].'"
   ]
  },
  {
   "cell_type": "code",
   "execution_count": 69,
   "id": "0a862f5a-87b2-4e91-9353-9b3c51b80f00",
   "metadata": {
    "tags": []
   },
   "outputs": [
    {
     "data": {
      "text/plain": [
       "['GACAC', 'AACAT', 'AACAC']"
      ]
     },
     "execution_count": 69,
     "metadata": {},
     "output_type": "execute_result"
    }
   ],
   "source": [
    "re.findall(patron2,cadena2)"
   ]
  },
  {
   "cell_type": "code",
   "execution_count": 70,
   "id": "43e54818-02c7-4ba5-b790-3bd9c2236e95",
   "metadata": {
    "tags": []
   },
   "outputs": [],
   "source": [
    "cadena3='Al evento asistieron 546 personas, 296 mujeres y 250 hombres'"
   ]
  },
  {
   "cell_type": "code",
   "execution_count": 71,
   "id": "c0010438-c9aa-4400-979d-a229eccaff0e",
   "metadata": {
    "tags": []
   },
   "outputs": [],
   "source": [
    "patron3='[0-9]+'"
   ]
  },
  {
   "cell_type": "code",
   "execution_count": 72,
   "id": "fe5b5743-cc33-463f-86f4-0ba0250dcc04",
   "metadata": {
    "tags": []
   },
   "outputs": [
    {
     "data": {
      "text/plain": [
       "['546', '296', '250']"
      ]
     },
     "execution_count": 72,
     "metadata": {},
     "output_type": "execute_result"
    }
   ],
   "source": [
    "re.findall(patron3, cadena3)"
   ]
  },
  {
   "cell_type": "code",
   "execution_count": 90,
   "id": "9fd824af-49a2-4566-84c5-3b2f0b20bf8b",
   "metadata": {
    "tags": []
   },
   "outputs": [],
   "source": [
    "patron4='[a-z]+'"
   ]
  },
  {
   "cell_type": "code",
   "execution_count": 91,
   "id": "e184266f-8711-4381-a577-4fa404e2af27",
   "metadata": {
    "tags": []
   },
   "outputs": [
    {
     "data": {
      "text/plain": [
       "['l', 'evento', 'asistieron', 'personas', 'mujeres', 'y', 'hombres']"
      ]
     },
     "execution_count": 91,
     "metadata": {},
     "output_type": "execute_result"
    }
   ],
   "source": [
    "re.findall(patron4, cadena3)"
   ]
  },
  {
   "cell_type": "code",
   "execution_count": 93,
   "id": "eb6864a8-3b72-4264-98e3-5a363ebd2007",
   "metadata": {
    "tags": []
   },
   "outputs": [],
   "source": [
    "from pandas import *"
   ]
  },
  {
   "cell_type": "code",
   "execution_count": 94,
   "id": "ff90289e-55bf-485b-ab81-83932cf6291e",
   "metadata": {
    "tags": []
   },
   "outputs": [],
   "source": [
    "mail=read_csv('/home/augusto/Descargas/data kaggle/spam_assassin.csv')"
   ]
  },
  {
   "cell_type": "code",
   "execution_count": 97,
   "id": "b8ee4181-9913-4264-9ee3-bccb6e3c8551",
   "metadata": {
    "tags": []
   },
   "outputs": [
    {
     "data": {
      "text/plain": [
       "\"From ilug-admin@linux.ie Mon Jul 29 11:28:02 2002 Return-Path: <ilug-admin@linux.ie> Delivered-To: yyyy@localhost.netnoteinc.com Received: from localhost (localhost [127.0.0.1]) by phobos.labs.netnoteinc.com (Postfix) with ESMTP id A13D94414F for <jm@localhost>; Mon, 29 Jul 2002 06:25:11 -0400 (EDT) Received: from phobos [127.0.0.1] by localhost with IMAP (fetchmail-5.9.0) for jm@localhost (single-drop); Mon, 29 Jul 2002 11:25:11 +0100 (IST) Received: from lugh.tuatha.org (root@lugh.tuatha.org [194.125.145.45]) by dogma.slashnull.org (8.11.6/8.11.6) with ESMTP id g6RHn7i17130 for <jm-ilug@jmason.org>; Sat, 27 Jul 2002 18:49:07 +0100 Received: from lugh (root@localhost [127.0.0.1]) by lugh.tuatha.org (8.9.3/8.9.3) with ESMTP id SAA25016; Sat, 27 Jul 2002 18:45:03 +0100 X-Authentication-Warning: lugh.tuatha.org: Host root@localhost [127.0.0.1] claimed to be lugh Received: from mail1.mail.iol.ie (mail1.mail.iol.ie [194.125.2.192]) by lugh.tuatha.org (8.9.3/8.9.3) with ESMTP id SAA24977 for <ilug@linux.ie>; Sat, 27 Jul 2002 18:44:56 +0100 Received: from dialup125-a.ts551.cwt.esat.net ([193.203.140.125] helo=Hobbiton.cod.ie) by mail1.mail.iol.ie with esmtp (Exim 3.35 #1) id 17YVVF-0001W4-00 for ilug@linux.ie; Sat, 27 Jul 2002 18:37:18 +0100 Received: (from cdaly@localhost) by Hobbiton.cod.ie (8.11.6/8.9.3) id g6RDRoO04681 for ilug@linux.ie; Sat, 27 Jul 2002 14:27:50 +0100 Date: Sat, 27 Jul 2002 14:27:49 +0100 From: Conor Daly <conor.daly@oceanfree.net> To: ILUG main list <ilug@linux.ie> Subject: Re: [ILUG] Architecture crossover trouble w RH7.2 (solved) Message-Id: <20020727142749.B4438@Hobbiton.cod.ie> Mail-Followup-To: ILUG main list <ilug@linux.ie> References: <0D443C91DCE9CD40B1C795BA222A729E018854FA@milexc01.maxtor.com> MIME-Version: 1.0 Content-Type: text/plain; charset=us-ascii Content-Disposition: inline User-Agent: Mutt/1.2.5i In-Reply-To: <0D443C91DCE9CD40B1C795BA222A729E018854FA@milexc01.maxtor.com>; from conor_wynne@maxtor.com on Fri, Jul 26, 2002 at 03:56:22PM +0100 Sender: ilug-admin@linux.ie Errors-To: ilug-admin@linux.ie X-Mailman-Version: 1.1 Precedence: bulk List-Id: Irish Linux Users' Group <ilug.linux.ie> X-Beenthere: ilug@linux.ie On Fri, Jul 26, 2002 at 03:56:22PM +0100 or so it is rumoured hereabouts, Wynne, Conor thought: > Surely it would be faster to save you conf files, install it on the box > again, copy back you confs and voila. > All you car about are the confs as the boite has no DATA right? Yeah, but then I'd have to remember _exactly_ which confs I'd modified and they're not all in /etc either... > Thats what I would do, but you sysadmins have to make life as difficult & > complicated as possible ;--) Yup... In this case, I had two issues. 1. I mirrored the disk to give to someone else to work on but the box he has available has only a P1 or P2 processor. 2. My celeron box has been crashing the backup software so I wanted to try out the backup in a different box to make sure it's hardware related. Again, it's also an interesting exercise... > Have you thought about mirroring the system drives? Might save you serious > hassle down the line. Oh, I'm doing that too. This is going to Africa so I'm aiming for as robust as possible with belt, braces and probably an all-in-one jumpsuit! I'll be mirroring the disk but that is worth only so much (eg. lightning strike taking out the disk(s) or system compromise) I'm also going for a backup to CDR with an automated restore http://www.mondorescue.org . The admin out there wouldn't be able to build the system again if the mobo got fried and the replacement was the wrong arch but an i386 compatible install will mean just dropping in the HD and booting (ish)... Conor -- Conor Daly <conor.daly@oceanfree.net> Domestic Sysadmin :-) --------------------- Faenor.cod.ie 2:32pm up 64 days, 23:49, 0 users, load average: 0.00, 0.00, 0.00 Hobbiton.cod.ie 2:19pm up 7 days, 20:56, 1 user, load average: 0.05, 0.02, 0.00 -- Irish Linux Users' Group: ilug@linux.ie http://www.linux.ie/mailman/listinfo/ilug for (un)subscription information. List maintainer: listmaster@linux.ie\""
      ]
     },
     "execution_count": 97,
     "metadata": {},
     "output_type": "execute_result"
    }
   ],
   "source": [
    "mail.text[0]"
   ]
  },
  {
   "cell_type": "code",
   "execution_count": 98,
   "id": "45dbd870-cd36-4bc1-8671-4d04387062af",
   "metadata": {
    "tags": []
   },
   "outputs": [],
   "source": [
    "patron5='[a-z]+@[a-z]+[.][a-z]+'"
   ]
  },
  {
   "cell_type": "code",
   "execution_count": 99,
   "id": "e0552536-8eed-4fa2-91ff-d188366a1bdd",
   "metadata": {
    "tags": []
   },
   "outputs": [
    {
     "data": {
      "text/plain": [
       "['admin@linux.ie',\n",
       " 'admin@linux.ie',\n",
       " 'yyyy@localhost.netnoteinc',\n",
       " 'root@lugh.tuatha',\n",
       " 'ilug@jmason.org',\n",
       " 'ilug@linux.ie',\n",
       " 'ilug@linux.ie',\n",
       " 'ilug@linux.ie',\n",
       " 'daly@oceanfree.net',\n",
       " 'ilug@linux.ie',\n",
       " 'ilug@linux.ie',\n",
       " 'wynne@maxtor.com',\n",
       " 'admin@linux.ie',\n",
       " 'admin@linux.ie',\n",
       " 'ilug@linux.ie',\n",
       " 'daly@oceanfree.net',\n",
       " 'ilug@linux.ie',\n",
       " 'listmaster@linux.ie']"
      ]
     },
     "execution_count": 99,
     "metadata": {},
     "output_type": "execute_result"
    }
   ],
   "source": [
    "re.findall(patron5,mail.text[0])"
   ]
  },
  {
   "cell_type": "code",
   "execution_count": 100,
   "id": "a163ceeb-a4d5-4c58-b3aa-3e95d7416b55",
   "metadata": {
    "tags": []
   },
   "outputs": [],
   "source": [
    "dic={'Direccion':[]}\n",
    "for i in mail.text:\n",
    "    L=re.findall(patron5,i)\n",
    "    for j in L:\n",
    "        dic['Direccion'].append(j)\n",
    "    "
   ]
  },
  {
   "cell_type": "code",
   "execution_count": 103,
   "id": "91d9a293-e88f-43e8-8e94-2d326fcf679a",
   "metadata": {
    "tags": []
   },
   "outputs": [
    {
     "data": {
      "text/html": [
       "<div>\n",
       "<style scoped>\n",
       "    .dataframe tbody tr th:only-of-type {\n",
       "        vertical-align: middle;\n",
       "    }\n",
       "\n",
       "    .dataframe tbody tr th {\n",
       "        vertical-align: top;\n",
       "    }\n",
       "\n",
       "    .dataframe thead th {\n",
       "        text-align: right;\n",
       "    }\n",
       "</style>\n",
       "<table border=\"1\" class=\"dataframe\">\n",
       "  <thead>\n",
       "    <tr style=\"text-align: right;\">\n",
       "      <th></th>\n",
       "      <th>Direccion</th>\n",
       "    </tr>\n",
       "  </thead>\n",
       "  <tbody>\n",
       "    <tr>\n",
       "      <th>0</th>\n",
       "      <td>admin@linux.ie</td>\n",
       "    </tr>\n",
       "    <tr>\n",
       "      <th>2</th>\n",
       "      <td>yyyy@localhost.netnoteinc</td>\n",
       "    </tr>\n",
       "    <tr>\n",
       "      <th>3</th>\n",
       "      <td>root@lugh.tuatha</td>\n",
       "    </tr>\n",
       "    <tr>\n",
       "      <th>4</th>\n",
       "      <td>ilug@jmason.org</td>\n",
       "    </tr>\n",
       "    <tr>\n",
       "      <th>5</th>\n",
       "      <td>ilug@linux.ie</td>\n",
       "    </tr>\n",
       "    <tr>\n",
       "      <th>...</th>\n",
       "      <td>...</td>\n",
       "    </tr>\n",
       "    <tr>\n",
       "      <th>77401</th>\n",
       "      <td>qmail@mail.free</td>\n",
       "    </tr>\n",
       "    <tr>\n",
       "      <th>77408</th>\n",
       "      <td>root@celtic.wizardr</td>\n",
       "    </tr>\n",
       "    <tr>\n",
       "      <th>77410</th>\n",
       "      <td>yyyycc@celtic.wizardr</td>\n",
       "    </tr>\n",
       "    <tr>\n",
       "      <th>77436</th>\n",
       "      <td>sathar@amtelsa.com</td>\n",
       "    </tr>\n",
       "    <tr>\n",
       "      <th>77530</th>\n",
       "      <td>root@maxwell.gta</td>\n",
       "    </tr>\n",
       "  </tbody>\n",
       "</table>\n",
       "<p>5824 rows × 1 columns</p>\n",
       "</div>"
      ],
      "text/plain": [
       "                       Direccion\n",
       "0                 admin@linux.ie\n",
       "2      yyyy@localhost.netnoteinc\n",
       "3               root@lugh.tuatha\n",
       "4                ilug@jmason.org\n",
       "5                  ilug@linux.ie\n",
       "...                          ...\n",
       "77401            qmail@mail.free\n",
       "77408        root@celtic.wizardr\n",
       "77410      yyyycc@celtic.wizardr\n",
       "77436         sathar@amtelsa.com\n",
       "77530           root@maxwell.gta\n",
       "\n",
       "[5824 rows x 1 columns]"
      ]
     },
     "execution_count": 103,
     "metadata": {},
     "output_type": "execute_result"
    }
   ],
   "source": [
    "DataFrame(dic).drop_duplicates()"
   ]
  },
  {
   "cell_type": "code",
   "execution_count": null,
   "id": "50ed233a-d40b-4eff-adb9-a444eeb47973",
   "metadata": {},
   "outputs": [],
   "source": []
  }
 ],
 "metadata": {
  "kernelspec": {
   "display_name": "Python 3",
   "language": "python",
   "name": "python3"
  },
  "language_info": {
   "codemirror_mode": {
    "name": "ipython",
    "version": 3
   },
   "file_extension": ".py",
   "mimetype": "text/x-python",
   "name": "python",
   "nbconvert_exporter": "python",
   "pygments_lexer": "ipython3",
   "version": "3.9.2"
  }
 },
 "nbformat": 4,
 "nbformat_minor": 5
}
