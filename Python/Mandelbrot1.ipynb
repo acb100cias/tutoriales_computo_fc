{
 "cells": [
  {
   "cell_type": "code",
   "execution_count": 1,
   "id": "9462f73b-a3c6-4110-ab57-e5422ba28475",
   "metadata": {
    "tags": []
   },
   "outputs": [],
   "source": [
    "import numpy as np\n",
    "import matplotlib.pyplot as plt"
   ]
  },
  {
   "cell_type": "code",
   "execution_count": 2,
   "id": "75bc9a26-430d-48c7-ad38-1287f63ead31",
   "metadata": {
    "tags": []
   },
   "outputs": [],
   "source": [
    "def matComp(xmin,xmax,ymin,ymax,dens):\n",
    "    re=np.linspace(xmax,xmin,int(xmax-xmin)*dens)\n",
    "    im=np.linspace(ymax,ymin,int(ymax-ymin)*dens)\n",
    "    return re[np.newaxis,:]+im[:,np.newaxis]*1j"
   ]
  },
  {
   "cell_type": "code",
   "execution_count": 5,
   "id": "4d3e16c8-30e8-4ee0-b828-d58617a43d54",
   "metadata": {
    "tags": []
   },
   "outputs": [],
   "source": [
    "def esEstable(c,N):\n",
    "    z=0\n",
    "    for _ in range(N):\n",
    "        z=z**2+c\n",
    "    return abs(z) <= 2"
   ]
  },
  {
   "cell_type": "code",
   "execution_count": 6,
   "id": "3678b73c-219c-4ed4-89b7-b5101b59b9f3",
   "metadata": {
    "tags": []
   },
   "outputs": [],
   "source": [
    "def getMandelbrot_chafa(c,N):\n",
    "    mask=esEstable(c,N)\n",
    "    return c[mask]"
   ]
  },
  {
   "cell_type": "code",
   "execution_count": 23,
   "id": "de13d97b-a2c3-4e79-9575-d68e69446880",
   "metadata": {
    "tags": []
   },
   "outputs": [
    {
     "name": "stderr",
     "output_type": "stream",
     "text": [
      "<ipython-input-5-0f0510638f31>:4: RuntimeWarning: overflow encountered in square\n",
      "  z=z**2+c\n",
      "<ipython-input-5-0f0510638f31>:4: RuntimeWarning: invalid value encountered in square\n",
      "  z=z**2+c\n"
     ]
    },
    {
     "data": {
      "image/png": "[encoded data removed]",
      "text/plain": [
       "<Figure size 432x288 with 1 Axes>"
      ]
     },
     "metadata": {
      "needs_background": "light"
     },
     "output_type": "display_data"
    }
   ],
   "source": [
    "c=matComp(-2,0.5,-1.5,1.5,840)\n",
    "mb=getMandelbrot_chafa(c,50)\n",
    "plt.scatter(mb.real,mb.imag,s=1,color='black',marker=',')\n",
    "plt.axis(\"off\")\n",
    "plt.gca().set_aspect('equal')\n",
    "plt.tight_layout()"
   ]
  },
  {
   "cell_type": "code",
   "execution_count": 25,
   "id": "5dcbb359-78a3-4d97-8af9-0af9c0e6c705",
   "metadata": {
    "tags": []
   },
   "outputs": [
    {
     "name": "stderr",
     "output_type": "stream",
     "text": [
      "<ipython-input-5-0f0510638f31>:4: RuntimeWarning: overflow encountered in square\n",
      "  z=z**2+c\n",
      "<ipython-input-5-0f0510638f31>:4: RuntimeWarning: invalid value encountered in square\n",
      "  z=z**2+c\n"
     ]
    },
    {
     "data": {
      "image/png": "[encoded data removed]",
      "text/plain": [
       "<Figure size 432x288 with 1 Axes>"
      ]
     },
     "metadata": {
      "needs_background": "light"
     },
     "output_type": "display_data"
    }
   ],
   "source": [
    "c=matComp(-2,0.5,-1.5,1.5,840)\n",
    "#mb=getMandelbrot_chafa(c,50)\n",
    "plt.imshow(esEstable(c,50),cmap='binary')\n",
    "plt.axis(\"off\")\n",
    "plt.gca().set_aspect('equal')\n",
    "plt.tight_layout()"
   ]
  },
  {
   "cell_type": "code",
   "execution_count": null,
   "id": "e0120020-23dc-4530-b8d3-07ee91b915f4",
   "metadata": {},
   "outputs": [],
   "source": []
  }
 ],
 "metadata": {
  "kernelspec": {
   "display_name": "Python 3",
   "language": "python",
   "name": "python3"
  },
  "language_info": {
   "codemirror_mode": {
    "name": "ipython",
    "version": 3
   },
   "file_extension": ".py",
   "mimetype": "text/x-python",
   "name": "python",
   "nbconvert_exporter": "python",
   "pygments_lexer": "ipython3",
   "version": "3.9.2"
  }
 },
 "nbformat": 4,
 "nbformat_minor": 5
}
