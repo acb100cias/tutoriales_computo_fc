{
 "cells": [
  {
   "cell_type": "code",
   "execution_count": 1,
   "id": "fee78e59-0be7-4b90-90f2-c5a9b368c9eb",
   "metadata": {},
   "outputs": [],
   "source": [
    "import numpy_financial as npf"
   ]
  },
  {
   "cell_type": "markdown",
   "id": "88e46303-3285-4347-a7f4-07a4e4faf1d4",
   "metadata": {},
   "source": [
    "# Análisis de depreciación"
   ]
  },
  {
   "cell_type": "code",
   "execution_count": 2,
   "id": "c4e9379d-e0b2-483f-9ce9-bebbff55dd03",
   "metadata": {
    "tags": []
   },
   "outputs": [],
   "source": [
    "def dlr(costo,vb,vu):\n",
    "    depan=(costo-vb)/vu\n",
    "    return depan\n",
    "def dbdd(costo,vb,cu,per):\n",
    "    td=2/vu\n",
    "    dpa=0\n",
    "    for _ in range(per):\n",
    "        dac=(costo-dpa)*td\n",
    "        dpa+=dac\n",
    "    return min(dac,costo-vb)"
   ]
  },
  {
   "cell_type": "code",
   "execution_count": 3,
   "id": "37f4b178-040a-4811-9754-b2e98761d0d2",
   "metadata": {
    "tags": []
   },
   "outputs": [
    {
     "name": "stdout",
     "output_type": "stream",
     "text": [
      "Depreciación en el periodo 3:1440.00\n",
      "Depreciación anual:1600.00\n"
     ]
    }
   ],
   "source": [
    "costo=10000\n",
    "vb=2000\n",
    "vu=5\n",
    "per=3\n",
    "\n",
    "depreciacion=dbdd(costo,vb,vu,per)\n",
    "print(f\"Depreciación en el periodo {per}:{depreciacion:.2f}\")\n",
    "\n",
    "dep=dlr(costo,vb,vu)\n",
    "print(f\"Depreciación anual:{dep:.2f}\")"
   ]
  },
  {
   "cell_type": "markdown",
   "id": "4afef37e-4fc2-40c1-99c3-9801f0c30fc5",
   "metadata": {},
   "source": [
    "# Cálculos con Tasas de retorno"
   ]
  },
  {
   "cell_type": "code",
   "execution_count": 5,
   "id": "ebdccf4b-fcaf-4dfd-aaff-7b698d015fd1",
   "metadata": {
    "tags": []
   },
   "outputs": [],
   "source": [
    "from pyxirr import xirr\n",
    "import pandas as pd\n",
    "from datetime import date"
   ]
  },
  {
   "cell_type": "code",
   "execution_count": 6,
   "id": "fe1af4bd-37a1-4bed-97ca-7ba25f8a3983",
   "metadata": {
    "tags": []
   },
   "outputs": [],
   "source": [
    "# Flujos de efectivo\n",
    "flujo=[-1000,200,250,300,350]\n",
    "fechas=[date(2019,1,1),date(2020,1,1),date(2021,1,1),date(2022,1,1),date(2023,1,1)]\n",
    "# tasa financiamiento\n",
    "tf=0.1\n",
    "#tasa de reinversion\n",
    "tr=0.12\n",
    "#columnas\n",
    "xirr(fechas,flujo)\n",
    "#tuplas\n",
    "xirr(zip(fechas,flujo))\n",
    "#calcular TIRM\n",
    "tirm=npf.mirr(flujo,tf,tr)\n",
    "\n",
    "\n"
   ]
  },
  {
   "cell_type": "code",
   "execution_count": 7,
   "id": "0d4956ac-2da9-4508-b692-aa019f90faab",
   "metadata": {
    "tags": []
   },
   "outputs": [],
   "source": [
    "#Calcular TIR\n",
    "xirr=xirr(pd.DataFrame({\"fechas\":fechas,\"flujo de efectivo\":flujo}))\n"
   ]
  },
  {
   "cell_type": "code",
   "execution_count": 8,
   "id": "1b3b263d-7af3-41bd-81ac-79f0e064c5d7",
   "metadata": {
    "tags": []
   },
   "outputs": [
    {
     "data": {
      "text/plain": [
       "0.03581809674636049"
      ]
     },
     "execution_count": 8,
     "metadata": {},
     "output_type": "execute_result"
    }
   ],
   "source": [
    "xirr"
   ]
  },
  {
   "cell_type": "code",
   "execution_count": 9,
   "id": "7b76ca47-fa39-4b7d-98df-30618b149c74",
   "metadata": {
    "tags": []
   },
   "outputs": [
    {
     "data": {
      "text/html": [
       "<div>\n",
       "<style scoped>\n",
       "    .dataframe tbody tr th:only-of-type {\n",
       "        vertical-align: middle;\n",
       "    }\n",
       "\n",
       "    .dataframe tbody tr th {\n",
       "        vertical-align: top;\n",
       "    }\n",
       "\n",
       "    .dataframe thead th {\n",
       "        text-align: right;\n",
       "    }\n",
       "</style>\n",
       "<table border=\"1\" class=\"dataframe\">\n",
       "  <thead>\n",
       "    <tr style=\"text-align: right;\">\n",
       "      <th></th>\n",
       "      <th>fechas</th>\n",
       "      <th>flujo de efectivo</th>\n",
       "    </tr>\n",
       "  </thead>\n",
       "  <tbody>\n",
       "    <tr>\n",
       "      <th>0</th>\n",
       "      <td>2019-01-01</td>\n",
       "      <td>-1000</td>\n",
       "    </tr>\n",
       "    <tr>\n",
       "      <th>1</th>\n",
       "      <td>2020-01-01</td>\n",
       "      <td>200</td>\n",
       "    </tr>\n",
       "    <tr>\n",
       "      <th>2</th>\n",
       "      <td>2021-01-01</td>\n",
       "      <td>250</td>\n",
       "    </tr>\n",
       "    <tr>\n",
       "      <th>3</th>\n",
       "      <td>2022-01-01</td>\n",
       "      <td>300</td>\n",
       "    </tr>\n",
       "    <tr>\n",
       "      <th>4</th>\n",
       "      <td>2023-01-01</td>\n",
       "      <td>350</td>\n",
       "    </tr>\n",
       "  </tbody>\n",
       "</table>\n",
       "</div>"
      ],
      "text/plain": [
       "       fechas  flujo de efectivo\n",
       "0  2019-01-01              -1000\n",
       "1  2020-01-01                200\n",
       "2  2021-01-01                250\n",
       "3  2022-01-01                300\n",
       "4  2023-01-01                350"
      ]
     },
     "execution_count": 9,
     "metadata": {},
     "output_type": "execute_result"
    }
   ],
   "source": [
    "pd.DataFrame({\"fechas\":fechas,\"flujo de efectivo\":flujo})"
   ]
  },
  {
   "cell_type": "code",
   "execution_count": 11,
   "id": "646b29b9-f488-43ea-9a32-ce3da5cd6043",
   "metadata": {
    "tags": []
   },
   "outputs": [
    {
     "name": "stdout",
     "output_type": "stream",
     "text": [
      " La TIRM es: 6.38%\n",
      "La TIR es: 3.58%\n"
     ]
    }
   ],
   "source": [
    "print(f\" La TIRM es: {tirm:.2%}\")\n",
    "print(f\"La TIR es: {xirr:.2%}\")"
   ]
  },
  {
   "cell_type": "code",
   "execution_count": null,
   "id": "137a900d-5956-4f42-9c9f-8ce862b9977e",
   "metadata": {},
   "outputs": [],
   "source": []
  }
 ],
 "metadata": {
  "kernelspec": {
   "display_name": "Python 3",
   "language": "python",
   "name": "python3"
  },
  "language_info": {
   "codemirror_mode": {
    "name": "ipython",
    "version": 3
   },
   "file_extension": ".py",
   "mimetype": "text/x-python",
   "name": "python",
   "nbconvert_exporter": "python",
   "pygments_lexer": "ipython3",
   "version": "3.9.2"
  }
 },
 "nbformat": 4,
 "nbformat_minor": 5
}
