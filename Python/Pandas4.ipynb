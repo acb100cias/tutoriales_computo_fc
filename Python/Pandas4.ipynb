{
 "cells": [
  {
   "cell_type": "code",
   "execution_count": 3,
   "id": "d22366b7-6f1c-4dcb-8a7b-0ea668ade2ea",
   "metadata": {
    "tags": []
   },
   "outputs": [],
   "source": [
    "from pandas import *"
   ]
  },
  {
   "cell_type": "code",
   "execution_count": 2,
   "id": "f4d0c770-34da-48fb-910c-a86536f18c79",
   "metadata": {
    "tags": []
   },
   "outputs": [],
   "source": [
    "dir='/home/augusto/Descargas/data kaggle/'"
   ]
  },
  {
   "cell_type": "code",
   "execution_count": 13,
   "id": "e8cf0ba4-72cc-4769-b743-9535590d546c",
   "metadata": {
    "tags": []
   },
   "outputs": [],
   "source": [
    "marvel0=read_csv(dir+'marvel.csv',encoding='latin1')"
   ]
  },
  {
   "cell_type": "code",
   "execution_count": 14,
   "id": "a9f2f24d-66d6-4fa4-980d-06c25c253296",
   "metadata": {
    "tags": []
   },
   "outputs": [
    {
     "name": "stdout",
     "output_type": "stream",
     "text": [
      "<class 'pandas.core.frame.DataFrame'>\n",
      "RangeIndex: 66 entries, 0 to 65\n",
      "Data columns (total 8 columns):\n",
      " #   Column                          Non-Null Count  Dtype \n",
      "---  ------                          --------------  ----- \n",
      " 0   Title                           66 non-null     object\n",
      " 1   Distributor(s)                  66 non-null     object\n",
      " 2   Release date(United States)     66 non-null     object\n",
      " 3   Bud­get (mil­lions)             65 non-null     object\n",
      " 4   Opening weekend(North America)  66 non-null     object\n",
      " 5   North America                   66 non-null     object\n",
      " 6   Other territories               66 non-null     object\n",
      " 7   Worldwide                       66 non-null     object\n",
      "dtypes: object(8)\n",
      "memory usage: 4.2+ KB\n"
     ]
    }
   ],
   "source": [
    "marvel0.info()"
   ]
  },
  {
   "cell_type": "code",
   "execution_count": 15,
   "id": "c82e6530-65ee-4606-a83e-0f28f3364843",
   "metadata": {
    "tags": []
   },
   "outputs": [
    {
     "data": {
      "text/html": [
       "<div>\n",
       "<style scoped>\n",
       "    .dataframe tbody tr th:only-of-type {\n",
       "        vertical-align: middle;\n",
       "    }\n",
       "\n",
       "    .dataframe tbody tr th {\n",
       "        vertical-align: top;\n",
       "    }\n",
       "\n",
       "    .dataframe thead th {\n",
       "        text-align: right;\n",
       "    }\n",
       "</style>\n",
       "<table border=\"1\" class=\"dataframe\">\n",
       "  <thead>\n",
       "    <tr style=\"text-align: right;\">\n",
       "      <th></th>\n",
       "      <th>Title</th>\n",
       "      <th>Distributor(s)</th>\n",
       "      <th>Release date(United States)</th>\n",
       "      <th>Bud­get (mil­lions)</th>\n",
       "      <th>Opening weekend(North America)</th>\n",
       "      <th>North America</th>\n",
       "      <th>Other territories</th>\n",
       "      <th>Worldwide</th>\n",
       "    </tr>\n",
       "  </thead>\n",
       "  <tbody>\n",
       "    <tr>\n",
       "      <th>0</th>\n",
       "      <td>Howard the Duck</td>\n",
       "      <td>Universal Pictures</td>\n",
       "      <td>August 1 1986</td>\n",
       "      <td>$37</td>\n",
       "      <td>$5070136</td>\n",
       "      <td>$16295774</td>\n",
       "      <td>$21667000</td>\n",
       "      <td>$37962774</td>\n",
       "    </tr>\n",
       "    <tr>\n",
       "      <th>1</th>\n",
       "      <td>Blade</td>\n",
       "      <td>New Line Cinema</td>\n",
       "      <td>August 21 1998</td>\n",
       "      <td>$45</td>\n",
       "      <td>$17073856</td>\n",
       "      <td>$70087718</td>\n",
       "      <td>$61095812</td>\n",
       "      <td>$131183530</td>\n",
       "    </tr>\n",
       "    <tr>\n",
       "      <th>2</th>\n",
       "      <td>X-Men</td>\n",
       "      <td>20th Century Fox</td>\n",
       "      <td>July 14 2000</td>\n",
       "      <td>$75</td>\n",
       "      <td>$54471475</td>\n",
       "      <td>$157299717</td>\n",
       "      <td>$139039810</td>\n",
       "      <td>$296339527</td>\n",
       "    </tr>\n",
       "    <tr>\n",
       "      <th>3</th>\n",
       "      <td>Blade II</td>\n",
       "      <td>New Line Cinema</td>\n",
       "      <td>March 22 2002</td>\n",
       "      <td>$54</td>\n",
       "      <td>$32528016</td>\n",
       "      <td>$82348319</td>\n",
       "      <td>$72661713</td>\n",
       "      <td>$155010032</td>\n",
       "    </tr>\n",
       "    <tr>\n",
       "      <th>4</th>\n",
       "      <td>Spider-Man</td>\n",
       "      <td>Sony Pictures</td>\n",
       "      <td>May 3 2002</td>\n",
       "      <td>$139</td>\n",
       "      <td>$114844116</td>\n",
       "      <td>$403706375</td>\n",
       "      <td>$418002176</td>\n",
       "      <td>$821708551</td>\n",
       "    </tr>\n",
       "  </tbody>\n",
       "</table>\n",
       "</div>"
      ],
      "text/plain": [
       "             Title      Distributor(s) Release date(United States)  \\\n",
       "0  Howard the Duck  Universal Pictures               August 1 1986   \n",
       "1            Blade     New Line Cinema              August 21 1998   \n",
       "2            X-Men    20th Century Fox                July 14 2000   \n",
       "3         Blade II     New Line Cinema               March 22 2002   \n",
       "4       Spider-Man       Sony Pictures                  May 3 2002   \n",
       "\n",
       "  Bud­get (mil­lions) Opening weekend(North America) North America  \\\n",
       "0                 $37                       $5070136     $16295774   \n",
       "1                 $45                      $17073856     $70087718   \n",
       "2                 $75                      $54471475    $157299717   \n",
       "3                 $54                      $32528016     $82348319   \n",
       "4                $139                     $114844116    $403706375   \n",
       "\n",
       "  Other territories   Worldwide  \n",
       "0         $21667000   $37962774  \n",
       "1         $61095812  $131183530  \n",
       "2        $139039810  $296339527  \n",
       "3         $72661713  $155010032  \n",
       "4        $418002176  $821708551  "
      ]
     },
     "execution_count": 15,
     "metadata": {},
     "output_type": "execute_result"
    }
   ],
   "source": [
    "marvel0.head()"
   ]
  },
  {
   "cell_type": "code",
   "execution_count": 16,
   "id": "d29802f0-81f3-4174-99cd-f1a5872c5dd2",
   "metadata": {
    "tags": []
   },
   "outputs": [
    {
     "data": {
      "text/html": [
       "<div>\n",
       "<style scoped>\n",
       "    .dataframe tbody tr th:only-of-type {\n",
       "        vertical-align: middle;\n",
       "    }\n",
       "\n",
       "    .dataframe tbody tr th {\n",
       "        vertical-align: top;\n",
       "    }\n",
       "\n",
       "    .dataframe thead th {\n",
       "        text-align: right;\n",
       "    }\n",
       "</style>\n",
       "<table border=\"1\" class=\"dataframe\">\n",
       "  <thead>\n",
       "    <tr style=\"text-align: right;\">\n",
       "      <th></th>\n",
       "      <th>Title</th>\n",
       "      <th>Distributor(s)</th>\n",
       "      <th>Release date(United States)</th>\n",
       "      <th>Bud­get (mil­lions)</th>\n",
       "      <th>Opening weekend(North America)</th>\n",
       "      <th>North America</th>\n",
       "      <th>Other territories</th>\n",
       "      <th>Worldwide</th>\n",
       "    </tr>\n",
       "  </thead>\n",
       "  <tbody>\n",
       "    <tr>\n",
       "      <th>61</th>\n",
       "      <td>Venom: Let There Be Carnage</td>\n",
       "      <td>Sony Pictures</td>\n",
       "      <td>October 1 2021</td>\n",
       "      <td>$110</td>\n",
       "      <td>$90033210</td>\n",
       "      <td>$213550366</td>\n",
       "      <td>$288500000</td>\n",
       "      <td>$502050366</td>\n",
       "    </tr>\n",
       "    <tr>\n",
       "      <th>62</th>\n",
       "      <td>Eternals</td>\n",
       "      <td>Walt Disney Studios Motion Pictures</td>\n",
       "      <td>November 5 2021</td>\n",
       "      <td>$200</td>\n",
       "      <td>$85021497</td>\n",
       "      <td>$164870234</td>\n",
       "      <td>$237194665</td>\n",
       "      <td>$402064899</td>\n",
       "    </tr>\n",
       "    <tr>\n",
       "      <th>63</th>\n",
       "      <td>Spider-Man: No Way Home</td>\n",
       "      <td>Sony Pictures</td>\n",
       "      <td>December 17 2021</td>\n",
       "      <td>$200</td>\n",
       "      <td>$260138569</td>\n",
       "      <td>$780418859</td>\n",
       "      <td>$1072000000</td>\n",
       "      <td>$1852418859</td>\n",
       "    </tr>\n",
       "    <tr>\n",
       "      <th>64</th>\n",
       "      <td>Total</td>\n",
       "      <td>Total</td>\n",
       "      <td>Total</td>\n",
       "      <td>$8424</td>\n",
       "      <td>$5688487114</td>\n",
       "      <td>$15809734872</td>\n",
       "      <td>$24430137918</td>\n",
       "      <td>$40239878672</td>\n",
       "    </tr>\n",
       "    <tr>\n",
       "      <th>65</th>\n",
       "      <td>Average</td>\n",
       "      <td>Average</td>\n",
       "      <td>Average</td>\n",
       "      <td>$142.352</td>\n",
       "      <td>$83992268</td>\n",
       "      <td>$228139366</td>\n",
       "      <td>$344915384</td>\n",
       "      <td>$573054859</td>\n",
       "    </tr>\n",
       "  </tbody>\n",
       "</table>\n",
       "</div>"
      ],
      "text/plain": [
       "                          Title                       Distributor(s)  \\\n",
       "61  Venom: Let There Be Carnage                        Sony Pictures   \n",
       "62                     Eternals  Walt Disney Studios Motion Pictures   \n",
       "63      Spider-Man: No Way Home                        Sony Pictures   \n",
       "64                        Total                                Total   \n",
       "65                      Average                              Average   \n",
       "\n",
       "   Release date(United States) Bud­get (mil­lions)  \\\n",
       "61              October 1 2021                $110   \n",
       "62             November 5 2021                $200   \n",
       "63            December 17 2021                $200   \n",
       "64                       Total               $8424   \n",
       "65                     Average            $142.352   \n",
       "\n",
       "   Opening weekend(North America) North America Other territories  \\\n",
       "61                      $90033210    $213550366        $288500000   \n",
       "62                      $85021497    $164870234        $237194665   \n",
       "63                     $260138569    $780418859       $1072000000   \n",
       "64                    $5688487114  $15809734872      $24430137918   \n",
       "65                      $83992268    $228139366        $344915384   \n",
       "\n",
       "       Worldwide  \n",
       "61    $502050366  \n",
       "62    $402064899  \n",
       "63   $1852418859  \n",
       "64  $40239878672  \n",
       "65    $573054859  "
      ]
     },
     "execution_count": 16,
     "metadata": {},
     "output_type": "execute_result"
    }
   ],
   "source": [
    "marvel0.tail()"
   ]
  },
  {
   "cell_type": "code",
   "execution_count": 19,
   "id": "3cb7f342-912a-41e0-be5e-3a61b4438095",
   "metadata": {
    "tags": []
   },
   "outputs": [],
   "source": [
    "marvel1=marvel0.loc[0:63]"
   ]
  },
  {
   "cell_type": "code",
   "execution_count": 20,
   "id": "a09d5b84-e660-463e-b2ed-4ee0ea7d4baa",
   "metadata": {
    "tags": []
   },
   "outputs": [
    {
     "data": {
      "text/plain": [
       "Index(['Title', 'Distributor(s)', 'Release date(United States)',\n",
       "       'Bud­get (mil­lions)', 'Opening weekend(North America)',\n",
       "       'North America', 'Other territories', 'Worldwide'],\n",
       "      dtype='object')"
      ]
     },
     "execution_count": 20,
     "metadata": {},
     "output_type": "execute_result"
    }
   ],
   "source": [
    "marvel1.keys()"
   ]
  },
  {
   "cell_type": "code",
   "execution_count": 26,
   "id": "a2d90fda-773c-434b-8e08-e5f53552f947",
   "metadata": {
    "tags": []
   },
   "outputs": [
    {
     "data": {
      "text/plain": [
       "str"
      ]
     },
     "execution_count": 26,
     "metadata": {},
     "output_type": "execute_result"
    }
   ],
   "source": [
    "type(marvel1['Bud­get (mil­lions)'][0])"
   ]
  },
  {
   "cell_type": "code",
   "execution_count": 30,
   "id": "ab4aa888-9ee4-47fc-abb5-4804b26b6527",
   "metadata": {
    "tags": []
   },
   "outputs": [
    {
     "data": {
      "text/plain": [
       "37"
      ]
     },
     "execution_count": 30,
     "metadata": {},
     "output_type": "execute_result"
    }
   ],
   "source": [
    "int(marvel1['Bud­get (mil­lions)'][0][1:])"
   ]
  },
  {
   "cell_type": "code",
   "execution_count": 36,
   "id": "8c36c3dd-ed68-4191-9fe8-ccd7aa5fcdd9",
   "metadata": {
    "tags": []
   },
   "outputs": [],
   "source": [
    "marvel2=DataFrame()"
   ]
  },
  {
   "cell_type": "code",
   "execution_count": 37,
   "id": "d6dd8c39-78e7-4b20-a780-5505fa142ca9",
   "metadata": {
    "tags": []
   },
   "outputs": [],
   "source": [
    "marvel2['Title']=marvel1['Title']"
   ]
  },
  {
   "cell_type": "code",
   "execution_count": 38,
   "id": "550b5a75-0a85-4468-8509-e6413b5cbbc8",
   "metadata": {
    "tags": []
   },
   "outputs": [],
   "source": [
    "marvel2['Dist']=marvel1['Distributor(s)']"
   ]
  },
  {
   "cell_type": "code",
   "execution_count": 52,
   "id": "1ad184ee-b88e-4ca1-a480-899c0146f3e8",
   "metadata": {
    "tags": []
   },
   "outputs": [
    {
     "ename": "ValueError",
     "evalue": "cannot convert float NaN to integer",
     "output_type": "error",
     "traceback": [
      "\u001b[0;31m---------------------------------------------------------------------------\u001b[0m",
      "\u001b[0;31mValueError\u001b[0m                                Traceback (most recent call last)",
      "\u001b[0;32m<ipython-input-52-0a7d79353c88>\u001b[0m in \u001b[0;36m<module>\u001b[0;34m\u001b[0m\n\u001b[1;32m      5\u001b[0m         \u001b[0mb\u001b[0m\u001b[0;34m.\u001b[0m\u001b[0mappend\u001b[0m\u001b[0;34m(\u001b[0m\u001b[0mint\u001b[0m\u001b[0;34m(\u001b[0m\u001b[0mi\u001b[0m\u001b[0;34m[\u001b[0m\u001b[0;36m1\u001b[0m\u001b[0;34m:\u001b[0m\u001b[0;34m]\u001b[0m\u001b[0;34m)\u001b[0m\u001b[0;34m)\u001b[0m\u001b[0;34m\u001b[0m\u001b[0;34m\u001b[0m\u001b[0m\n\u001b[1;32m      6\u001b[0m     \u001b[0;32melse\u001b[0m\u001b[0;34m:\u001b[0m\u001b[0;34m\u001b[0m\u001b[0;34m\u001b[0m\u001b[0m\n\u001b[0;32m----> 7\u001b[0;31m         \u001b[0mb\u001b[0m\u001b[0;34m.\u001b[0m\u001b[0mappend\u001b[0m\u001b[0;34m(\u001b[0m\u001b[0mint\u001b[0m\u001b[0;34m(\u001b[0m\u001b[0mi\u001b[0m\u001b[0;34m)\u001b[0m\u001b[0;34m)\u001b[0m\u001b[0;34m\u001b[0m\u001b[0;34m\u001b[0m\u001b[0m\n\u001b[0m\u001b[1;32m      8\u001b[0m \u001b[0;34m\u001b[0m\u001b[0m\n\u001b[1;32m      9\u001b[0m \u001b[0;34m\u001b[0m\u001b[0m\n",
      "\u001b[0;31mValueError\u001b[0m: cannot convert float NaN to integer"
     ]
    }
   ],
   "source": [
    "b=[]\n",
    "for i in marvel1['Bud­get (mil­lions)']:\n",
    "    #print(type(i))\n",
    "    if type(i)==str:\n",
    "        b.append(int(i[1:]))\n",
    "    else:\n",
    "        b.append(int(i))\n",
    "    \n",
    "    \n",
    "    "
   ]
  },
  {
   "cell_type": "code",
   "execution_count": 55,
   "id": "b242e68d-1ecf-4b61-9292-0ee1e21d1893",
   "metadata": {
    "tags": []
   },
   "outputs": [
    {
     "name": "stdout",
     "output_type": "stream",
     "text": [
      "0 $37 <class 'str'>\n",
      "1 $45 <class 'str'>\n",
      "2 $75 <class 'str'>\n",
      "3 $54 <class 'str'>\n",
      "4 $139 <class 'str'>\n",
      "5 $78 <class 'str'>\n",
      "6 $110 <class 'str'>\n",
      "7 $137 <class 'str'>\n",
      "8 $33 <class 'str'>\n",
      "9 $200 <class 'str'>\n",
      "10 $65 <class 'str'>\n",
      "11 $43 <class 'str'>\n",
      "12 $100 <class 'str'>\n",
      "13 $210 <class 'str'>\n",
      "14 $110 <class 'str'>\n",
      "15 $258 <class 'str'>\n",
      "16 $130 <class 'str'>\n",
      "17 $140 <class 'str'>\n",
      "18 $150 <class 'str'>\n",
      "19 $35 <class 'str'>\n",
      "20 $150 <class 'str'>\n",
      "21 $200 <class 'str'>\n",
      "22 $150 <class 'str'>\n",
      "23 $160 <class 'str'>\n",
      "24 $140 <class 'str'>\n",
      "25 $57 <class 'str'>\n",
      "26 $220 <class 'str'>\n",
      "27 $230 <class 'str'>\n",
      "28 $200 <class 'str'>\n",
      "29 $120 <class 'str'>\n",
      "30 $170 <class 'str'>\n",
      "31 $170 <class 'str'>\n",
      "32 $255 <class 'str'>\n",
      "33 $200 <class 'str'>\n",
      "34 $170 <class 'str'>\n",
      "35 $165 <class 'str'>\n",
      "36 $250 <class 'str'>\n",
      "37 $130 <class 'str'>\n",
      "38 $120 <class 'str'>\n",
      "39 $58 <class 'str'>\n",
      "40 $250 <class 'str'>\n",
      "41 $178 <class 'str'>\n",
      "42 $165 <class 'str'>\n",
      "43 $97 <class 'str'>\n",
      "44 $200 <class 'str'>\n",
      "45 $175 <class 'str'>\n",
      "46 nan <class 'float'>\n",
      "47 $180 <class 'str'>\n",
      "48 $200 <class 'str'>\n",
      "49 $316 <class 'str'>\n",
      "50 $110 <class 'str'>\n",
      "51 $162 <class 'str'>\n",
      "52 $100 <class 'str'>\n",
      "53 $90 <class 'str'>\n",
      "54 $152 <class 'str'>\n",
      "55 $356 <class 'str'>\n",
      "56 $200 <class 'str'>\n",
      "57 $160 <class 'str'>\n",
      "58 $67 <class 'str'>\n",
      "59 $200 <class 'str'>\n",
      "60 $150 <class 'str'>\n",
      "61 $110 <class 'str'>\n",
      "62 $200 <class 'str'>\n",
      "63 $200 <class 'str'>\n"
     ]
    }
   ],
   "source": [
    "for i in range(len(marvel1['Bud­get (mil­lions)'])):\n",
    "               print(i,marvel1['Bud­get (mil­lions)'][i],type(marvel1['Bud­get (mil­lions)'][i]))\n",
    "    "
   ]
  },
  {
   "cell_type": "code",
   "execution_count": 61,
   "id": "3f5bb928-ea1a-4d99-abdb-9be940c7489f",
   "metadata": {
    "tags": []
   },
   "outputs": [],
   "source": [
    "marvel3=marvel1.dropna()"
   ]
  },
  {
   "cell_type": "code",
   "execution_count": 64,
   "id": "34ecf8d0-827b-4e0c-971a-1bd4e6fe3380",
   "metadata": {
    "tags": []
   },
   "outputs": [],
   "source": [
    "marvel3=marvel3.reset_index()"
   ]
  },
  {
   "cell_type": "code",
   "execution_count": 67,
   "id": "50c81528-eeb3-41d6-9e8e-2f2e53d55400",
   "metadata": {
    "tags": []
   },
   "outputs": [],
   "source": [
    "marvel3=marvel3.drop('index',axis=1)"
   ]
  },
  {
   "cell_type": "code",
   "execution_count": 68,
   "id": "5c211126-91ba-44e9-a227-573326577e8d",
   "metadata": {
    "tags": []
   },
   "outputs": [],
   "source": [
    "b=[]\n",
    "for i in marvel3['Bud­get (mil­lions)']:\n",
    "    #print(type(i))\n",
    "    if type(i)==str:\n",
    "        b.append(int(i[1:]))\n",
    "    else:\n",
    "        b.append(int(i))"
   ]
  },
  {
   "cell_type": "code",
   "execution_count": 77,
   "id": "bc480013-c011-4b53-af18-eb662fa041cd",
   "metadata": {
    "tags": []
   },
   "outputs": [],
   "source": [
    "marvel2=DataFrame()\n",
    "marvel2['Title']=marvel3['Title']\n",
    "marvel2['Dist']=marvel3['Distributor(s)']\n"
   ]
  },
  {
   "cell_type": "code",
   "execution_count": 79,
   "id": "ee1748cb-9dac-4da7-aff2-efccec0ce22d",
   "metadata": {
    "tags": []
   },
   "outputs": [],
   "source": [
    "marvel2['budget']=b"
   ]
  },
  {
   "cell_type": "code",
   "execution_count": 80,
   "id": "6787178b-033c-4c5c-a14c-e76a1dc17ce5",
   "metadata": {
    "tags": []
   },
   "outputs": [
    {
     "data": {
      "text/html": [
       "<div>\n",
       "<style scoped>\n",
       "    .dataframe tbody tr th:only-of-type {\n",
       "        vertical-align: middle;\n",
       "    }\n",
       "\n",
       "    .dataframe tbody tr th {\n",
       "        vertical-align: top;\n",
       "    }\n",
       "\n",
       "    .dataframe thead th {\n",
       "        text-align: right;\n",
       "    }\n",
       "</style>\n",
       "<table border=\"1\" class=\"dataframe\">\n",
       "  <thead>\n",
       "    <tr style=\"text-align: right;\">\n",
       "      <th></th>\n",
       "      <th>Title</th>\n",
       "      <th>Dist</th>\n",
       "      <th>budget</th>\n",
       "    </tr>\n",
       "  </thead>\n",
       "  <tbody>\n",
       "    <tr>\n",
       "      <th>0</th>\n",
       "      <td>Howard the Duck</td>\n",
       "      <td>Universal Pictures</td>\n",
       "      <td>37</td>\n",
       "    </tr>\n",
       "    <tr>\n",
       "      <th>1</th>\n",
       "      <td>Blade</td>\n",
       "      <td>New Line Cinema</td>\n",
       "      <td>45</td>\n",
       "    </tr>\n",
       "    <tr>\n",
       "      <th>2</th>\n",
       "      <td>X-Men</td>\n",
       "      <td>20th Century Fox</td>\n",
       "      <td>75</td>\n",
       "    </tr>\n",
       "    <tr>\n",
       "      <th>3</th>\n",
       "      <td>Blade II</td>\n",
       "      <td>New Line Cinema</td>\n",
       "      <td>54</td>\n",
       "    </tr>\n",
       "    <tr>\n",
       "      <th>4</th>\n",
       "      <td>Spider-Man</td>\n",
       "      <td>Sony Pictures</td>\n",
       "      <td>139</td>\n",
       "    </tr>\n",
       "    <tr>\n",
       "      <th>...</th>\n",
       "      <td>...</td>\n",
       "      <td>...</td>\n",
       "      <td>...</td>\n",
       "    </tr>\n",
       "    <tr>\n",
       "      <th>58</th>\n",
       "      <td>Black Widow</td>\n",
       "      <td>Walt Disney Studios Motion Pictures</td>\n",
       "      <td>200</td>\n",
       "    </tr>\n",
       "    <tr>\n",
       "      <th>59</th>\n",
       "      <td>Shang-Chi and the Legend of the Ten Rings</td>\n",
       "      <td>Walt Disney Studios Motion Pictures</td>\n",
       "      <td>150</td>\n",
       "    </tr>\n",
       "    <tr>\n",
       "      <th>60</th>\n",
       "      <td>Venom: Let There Be Carnage</td>\n",
       "      <td>Sony Pictures</td>\n",
       "      <td>110</td>\n",
       "    </tr>\n",
       "    <tr>\n",
       "      <th>61</th>\n",
       "      <td>Eternals</td>\n",
       "      <td>Walt Disney Studios Motion Pictures</td>\n",
       "      <td>200</td>\n",
       "    </tr>\n",
       "    <tr>\n",
       "      <th>62</th>\n",
       "      <td>Spider-Man: No Way Home</td>\n",
       "      <td>Sony Pictures</td>\n",
       "      <td>200</td>\n",
       "    </tr>\n",
       "  </tbody>\n",
       "</table>\n",
       "<p>63 rows × 3 columns</p>\n",
       "</div>"
      ],
      "text/plain": [
       "                                        Title  \\\n",
       "0                             Howard the Duck   \n",
       "1                                       Blade   \n",
       "2                                       X-Men   \n",
       "3                                    Blade II   \n",
       "4                                  Spider-Man   \n",
       "..                                        ...   \n",
       "58                                Black Widow   \n",
       "59  Shang-Chi and the Legend of the Ten Rings   \n",
       "60                Venom: Let There Be Carnage   \n",
       "61                                   Eternals   \n",
       "62                    Spider-Man: No Way Home   \n",
       "\n",
       "                                   Dist  budget  \n",
       "0                    Universal Pictures      37  \n",
       "1                       New Line Cinema      45  \n",
       "2                      20th Century Fox      75  \n",
       "3                       New Line Cinema      54  \n",
       "4                         Sony Pictures     139  \n",
       "..                                  ...     ...  \n",
       "58  Walt Disney Studios Motion Pictures     200  \n",
       "59  Walt Disney Studios Motion Pictures     150  \n",
       "60                        Sony Pictures     110  \n",
       "61  Walt Disney Studios Motion Pictures     200  \n",
       "62                        Sony Pictures     200  \n",
       "\n",
       "[63 rows x 3 columns]"
      ]
     },
     "execution_count": 80,
     "metadata": {},
     "output_type": "execute_result"
    }
   ],
   "source": [
    "marvel2"
   ]
  },
  {
   "cell_type": "code",
   "execution_count": 81,
   "id": "3c3dff2f-d700-44c6-8489-116710bf57dc",
   "metadata": {
    "tags": []
   },
   "outputs": [
    {
     "data": {
      "text/plain": [
       "Index(['Title', 'Distributor(s)', 'Release date(United States)',\n",
       "       'Bud­get (mil­lions)', 'Opening weekend(North America)',\n",
       "       'North America', 'Other territories', 'Worldwide'],\n",
       "      dtype='object')"
      ]
     },
     "execution_count": 81,
     "metadata": {},
     "output_type": "execute_result"
    }
   ],
   "source": [
    "marvel3.keys()"
   ]
  },
  {
   "cell_type": "code",
   "execution_count": 82,
   "id": "950e216f-1862-4f8d-ab53-290c2905890a",
   "metadata": {
    "tags": []
   },
   "outputs": [
    {
     "data": {
      "text/plain": [
       "0        August 1 1986\n",
       "1       August 21 1998\n",
       "2         July 14 2000\n",
       "3        March 22 2002\n",
       "4           May 3 2002\n",
       "            ...       \n",
       "58         July 9 2021\n",
       "59    September 3 2021\n",
       "60      October 1 2021\n",
       "61     November 5 2021\n",
       "62    December 17 2021\n",
       "Name: Release date(United States), Length: 63, dtype: object"
      ]
     },
     "execution_count": 82,
     "metadata": {},
     "output_type": "execute_result"
    }
   ],
   "source": [
    "marvel3['Release date(United States)']"
   ]
  },
  {
   "cell_type": "code",
   "execution_count": 100,
   "id": "07a4c248-709d-436a-be0b-9b905271bbd5",
   "metadata": {
    "tags": []
   },
   "outputs": [],
   "source": [
    "dic1={'relDate':[],'year':[],'month':[],'day':[]}\n",
    "for fecha in marvel3['Release date(United States)']:\n",
    "    dic1['relDate'].append(to_datetime(fecha).date())\n",
    "    dic1['year'].append(to_datetime(fecha).year)\n",
    "    dic1['month'].append(to_datetime(fecha).month)\n",
    "    dic1['day'].append(to_datetime(fecha).day)\n",
    "    "
   ]
  },
  {
   "cell_type": "code",
   "execution_count": 104,
   "id": "ba9e5c11-7a9c-4034-b949-282623305bb9",
   "metadata": {
    "tags": []
   },
   "outputs": [],
   "source": [
    "marvel2=marvel2.join(DataFrame(dic1))"
   ]
  },
  {
   "cell_type": "code",
   "execution_count": 109,
   "id": "aa75efda-6901-4fcd-8aa4-1b3b9f382e9b",
   "metadata": {
    "tags": []
   },
   "outputs": [
    {
     "data": {
      "text/plain": [
       "0       $37962774\n",
       "1      $131183530\n",
       "2      $296339527\n",
       "3      $155010032\n",
       "4      $821708551\n",
       "         ...     \n",
       "58     $379631351\n",
       "59     $432243292\n",
       "60     $502050366\n",
       "61     $402064899\n",
       "62    $1852418859\n",
       "Name: Worldwide, Length: 63, dtype: object"
      ]
     },
     "execution_count": 109,
     "metadata": {},
     "output_type": "execute_result"
    }
   ],
   "source": [
    "marvel3['Worldwide']"
   ]
  },
  {
   "cell_type": "code",
   "execution_count": 114,
   "id": "390c8f0b-21df-41fa-a3ee-a1047872fea6",
   "metadata": {
    "tags": []
   },
   "outputs": [
    {
     "name": "stdout",
     "output_type": "stream",
     "text": [
      "37962774\n",
      "131183530\n",
      "296339527\n",
      "155010032\n",
      "821708551\n",
      "179179718\n",
      "407711549\n",
      "245360480\n",
      "54700105\n",
      "788976453\n",
      "128905366\n",
      "56681566\n",
      "330579719\n",
      "459359555\n",
      "228738393\n",
      "890871626\n",
      "301913131\n",
      "585174222\n",
      "263427551\n",
      "10100036\n",
      "373062864\n",
      "623933331\n",
      "449326618\n",
      "353624124\n",
      "370569774\n",
      "132563930\n",
      "1518812988\n",
      "757930663\n",
      "1214811252\n",
      "414828246\n",
      "644571402\n",
      "714264267\n",
      "708982323\n",
      "747862775\n",
      "773328629\n",
      "657827828\n",
      "1405403694\n",
      "519311965\n",
      "167882881\n",
      "783112979\n",
      "1153304495\n",
      "543934105\n",
      "677718395\n",
      "616795600\n",
      "863756051\n",
      "880166924\n",
      "853977126\n",
      "1346913161\n",
      "2048359754\n",
      "785046920\n",
      "622674139\n",
      "855013954\n",
      "375540831\n",
      "1128274794\n",
      "2797800564\n",
      "252442974\n",
      "1131927996\n",
      "48675066\n",
      "379631351\n",
      "432243292\n",
      "502050366\n",
      "402064899\n",
      "1852418859\n"
     ]
    }
   ],
   "source": [
    "rec=[]\n",
    "for i in marvel3['Worldwide']:\n",
    "    #print(type(i))\n",
    "    print(i[1:])\n",
    "    rec.append(int(i[1:]))"
   ]
  },
  {
   "cell_type": "code",
   "execution_count": 116,
   "id": "f36055b3-f5da-41fe-b140-36c5596f4ca4",
   "metadata": {
    "tags": []
   },
   "outputs": [],
   "source": [
    "import numpy as np\n",
    "\n",
    "Rec=array(rec)"
   ]
  },
  {
   "cell_type": "code",
   "execution_count": 119,
   "id": "a42f54b4-70a4-441e-95d1-f075d07c03a5",
   "metadata": {
    "tags": []
   },
   "outputs": [],
   "source": [
    "REC=Rec/1000000"
   ]
  },
  {
   "cell_type": "code",
   "execution_count": 120,
   "id": "62ccacb1-d384-4736-8777-0516ad282a04",
   "metadata": {
    "tags": []
   },
   "outputs": [],
   "source": [
    "marvel2['Recaudado']=REC"
   ]
  },
  {
   "cell_type": "code",
   "execution_count": 121,
   "id": "ce7119ed-15f4-4be9-b61a-a267eda6a05c",
   "metadata": {
    "tags": []
   },
   "outputs": [],
   "source": [
    "marvel2['ganancia']=marvel2['Recaudado']-marvel2['budget']"
   ]
  },
  {
   "cell_type": "code",
   "execution_count": 122,
   "id": "9374f9d5-4ce8-4b56-a44c-67fece3baad2",
   "metadata": {
    "tags": []
   },
   "outputs": [
    {
     "data": {
      "text/html": [
       "<div>\n",
       "<style scoped>\n",
       "    .dataframe tbody tr th:only-of-type {\n",
       "        vertical-align: middle;\n",
       "    }\n",
       "\n",
       "    .dataframe tbody tr th {\n",
       "        vertical-align: top;\n",
       "    }\n",
       "\n",
       "    .dataframe thead th {\n",
       "        text-align: right;\n",
       "    }\n",
       "</style>\n",
       "<table border=\"1\" class=\"dataframe\">\n",
       "  <thead>\n",
       "    <tr style=\"text-align: right;\">\n",
       "      <th></th>\n",
       "      <th>Title</th>\n",
       "      <th>Dist</th>\n",
       "      <th>budget</th>\n",
       "      <th>relDate</th>\n",
       "      <th>year</th>\n",
       "      <th>month</th>\n",
       "      <th>day</th>\n",
       "      <th>Recaudado</th>\n",
       "      <th>ganancia</th>\n",
       "    </tr>\n",
       "  </thead>\n",
       "  <tbody>\n",
       "    <tr>\n",
       "      <th>0</th>\n",
       "      <td>Howard the Duck</td>\n",
       "      <td>Universal Pictures</td>\n",
       "      <td>37</td>\n",
       "      <td>1986-08-01</td>\n",
       "      <td>1986</td>\n",
       "      <td>8</td>\n",
       "      <td>1</td>\n",
       "      <td>37.962774</td>\n",
       "      <td>0.962774</td>\n",
       "    </tr>\n",
       "    <tr>\n",
       "      <th>1</th>\n",
       "      <td>Blade</td>\n",
       "      <td>New Line Cinema</td>\n",
       "      <td>45</td>\n",
       "      <td>1998-08-21</td>\n",
       "      <td>1998</td>\n",
       "      <td>8</td>\n",
       "      <td>21</td>\n",
       "      <td>131.18353</td>\n",
       "      <td>86.18353</td>\n",
       "    </tr>\n",
       "    <tr>\n",
       "      <th>2</th>\n",
       "      <td>X-Men</td>\n",
       "      <td>20th Century Fox</td>\n",
       "      <td>75</td>\n",
       "      <td>2000-07-14</td>\n",
       "      <td>2000</td>\n",
       "      <td>7</td>\n",
       "      <td>14</td>\n",
       "      <td>296.339527</td>\n",
       "      <td>221.339527</td>\n",
       "    </tr>\n",
       "    <tr>\n",
       "      <th>3</th>\n",
       "      <td>Blade II</td>\n",
       "      <td>New Line Cinema</td>\n",
       "      <td>54</td>\n",
       "      <td>2002-03-22</td>\n",
       "      <td>2002</td>\n",
       "      <td>3</td>\n",
       "      <td>22</td>\n",
       "      <td>155.010032</td>\n",
       "      <td>101.010032</td>\n",
       "    </tr>\n",
       "    <tr>\n",
       "      <th>4</th>\n",
       "      <td>Spider-Man</td>\n",
       "      <td>Sony Pictures</td>\n",
       "      <td>139</td>\n",
       "      <td>2002-05-03</td>\n",
       "      <td>2002</td>\n",
       "      <td>5</td>\n",
       "      <td>3</td>\n",
       "      <td>821.708551</td>\n",
       "      <td>682.708551</td>\n",
       "    </tr>\n",
       "    <tr>\n",
       "      <th>...</th>\n",
       "      <td>...</td>\n",
       "      <td>...</td>\n",
       "      <td>...</td>\n",
       "      <td>...</td>\n",
       "      <td>...</td>\n",
       "      <td>...</td>\n",
       "      <td>...</td>\n",
       "      <td>...</td>\n",
       "      <td>...</td>\n",
       "    </tr>\n",
       "    <tr>\n",
       "      <th>58</th>\n",
       "      <td>Black Widow</td>\n",
       "      <td>Walt Disney Studios Motion Pictures</td>\n",
       "      <td>200</td>\n",
       "      <td>2021-07-09</td>\n",
       "      <td>2021</td>\n",
       "      <td>7</td>\n",
       "      <td>9</td>\n",
       "      <td>379.631351</td>\n",
       "      <td>179.631351</td>\n",
       "    </tr>\n",
       "    <tr>\n",
       "      <th>59</th>\n",
       "      <td>Shang-Chi and the Legend of the Ten Rings</td>\n",
       "      <td>Walt Disney Studios Motion Pictures</td>\n",
       "      <td>150</td>\n",
       "      <td>2021-09-03</td>\n",
       "      <td>2021</td>\n",
       "      <td>9</td>\n",
       "      <td>3</td>\n",
       "      <td>432.243292</td>\n",
       "      <td>282.243292</td>\n",
       "    </tr>\n",
       "    <tr>\n",
       "      <th>60</th>\n",
       "      <td>Venom: Let There Be Carnage</td>\n",
       "      <td>Sony Pictures</td>\n",
       "      <td>110</td>\n",
       "      <td>2021-10-01</td>\n",
       "      <td>2021</td>\n",
       "      <td>10</td>\n",
       "      <td>1</td>\n",
       "      <td>502.050366</td>\n",
       "      <td>392.050366</td>\n",
       "    </tr>\n",
       "    <tr>\n",
       "      <th>61</th>\n",
       "      <td>Eternals</td>\n",
       "      <td>Walt Disney Studios Motion Pictures</td>\n",
       "      <td>200</td>\n",
       "      <td>2021-11-05</td>\n",
       "      <td>2021</td>\n",
       "      <td>11</td>\n",
       "      <td>5</td>\n",
       "      <td>402.064899</td>\n",
       "      <td>202.064899</td>\n",
       "    </tr>\n",
       "    <tr>\n",
       "      <th>62</th>\n",
       "      <td>Spider-Man: No Way Home</td>\n",
       "      <td>Sony Pictures</td>\n",
       "      <td>200</td>\n",
       "      <td>2021-12-17</td>\n",
       "      <td>2021</td>\n",
       "      <td>12</td>\n",
       "      <td>17</td>\n",
       "      <td>1852.418859</td>\n",
       "      <td>1652.418859</td>\n",
       "    </tr>\n",
       "  </tbody>\n",
       "</table>\n",
       "<p>63 rows × 9 columns</p>\n",
       "</div>"
      ],
      "text/plain": [
       "                                        Title  \\\n",
       "0                             Howard the Duck   \n",
       "1                                       Blade   \n",
       "2                                       X-Men   \n",
       "3                                    Blade II   \n",
       "4                                  Spider-Man   \n",
       "..                                        ...   \n",
       "58                                Black Widow   \n",
       "59  Shang-Chi and the Legend of the Ten Rings   \n",
       "60                Venom: Let There Be Carnage   \n",
       "61                                   Eternals   \n",
       "62                    Spider-Man: No Way Home   \n",
       "\n",
       "                                   Dist  budget     relDate  year  month  day  \\\n",
       "0                    Universal Pictures      37  1986-08-01  1986      8    1   \n",
       "1                       New Line Cinema      45  1998-08-21  1998      8   21   \n",
       "2                      20th Century Fox      75  2000-07-14  2000      7   14   \n",
       "3                       New Line Cinema      54  2002-03-22  2002      3   22   \n",
       "4                         Sony Pictures     139  2002-05-03  2002      5    3   \n",
       "..                                  ...     ...         ...   ...    ...  ...   \n",
       "58  Walt Disney Studios Motion Pictures     200  2021-07-09  2021      7    9   \n",
       "59  Walt Disney Studios Motion Pictures     150  2021-09-03  2021      9    3   \n",
       "60                        Sony Pictures     110  2021-10-01  2021     10    1   \n",
       "61  Walt Disney Studios Motion Pictures     200  2021-11-05  2021     11    5   \n",
       "62                        Sony Pictures     200  2021-12-17  2021     12   17   \n",
       "\n",
       "      Recaudado     ganancia  \n",
       "0     37.962774     0.962774  \n",
       "1     131.18353     86.18353  \n",
       "2    296.339527   221.339527  \n",
       "3    155.010032   101.010032  \n",
       "4    821.708551   682.708551  \n",
       "..          ...          ...  \n",
       "58   379.631351   179.631351  \n",
       "59   432.243292   282.243292  \n",
       "60   502.050366   392.050366  \n",
       "61   402.064899   202.064899  \n",
       "62  1852.418859  1652.418859  \n",
       "\n",
       "[63 rows x 9 columns]"
      ]
     },
     "execution_count": 122,
     "metadata": {},
     "output_type": "execute_result"
    }
   ],
   "source": [
    "marvel2"
   ]
  },
  {
   "cell_type": "code",
   "execution_count": 126,
   "id": "af84bee6-3ae7-4257-a6a5-f6577f6ecdf5",
   "metadata": {
    "tags": []
   },
   "outputs": [
    {
     "data": {
      "text/html": [
       "<div>\n",
       "<style scoped>\n",
       "    .dataframe tbody tr th:only-of-type {\n",
       "        vertical-align: middle;\n",
       "    }\n",
       "\n",
       "    .dataframe tbody tr th {\n",
       "        vertical-align: top;\n",
       "    }\n",
       "\n",
       "    .dataframe thead th {\n",
       "        text-align: right;\n",
       "    }\n",
       "</style>\n",
       "<table border=\"1\" class=\"dataframe\">\n",
       "  <thead>\n",
       "    <tr style=\"text-align: right;\">\n",
       "      <th></th>\n",
       "      <th>Title</th>\n",
       "      <th>Dist</th>\n",
       "      <th>budget</th>\n",
       "      <th>relDate</th>\n",
       "      <th>year</th>\n",
       "      <th>month</th>\n",
       "      <th>day</th>\n",
       "      <th>Recaudado</th>\n",
       "      <th>ganancia</th>\n",
       "    </tr>\n",
       "  </thead>\n",
       "  <tbody>\n",
       "    <tr>\n",
       "      <th>19</th>\n",
       "      <td>Punisher: War Zone</td>\n",
       "      <td>Lionsgate Films</td>\n",
       "      <td>35</td>\n",
       "      <td>2008-12-05</td>\n",
       "      <td>2008</td>\n",
       "      <td>12</td>\n",
       "      <td>5</td>\n",
       "      <td>10.100036</td>\n",
       "      <td>-24.899964</td>\n",
       "    </tr>\n",
       "  </tbody>\n",
       "</table>\n",
       "</div>"
      ],
      "text/plain": [
       "                 Title             Dist  budget     relDate  year  month  day  \\\n",
       "19  Punisher: War Zone  Lionsgate Films      35  2008-12-05  2008     12    5   \n",
       "\n",
       "    Recaudado   ganancia  \n",
       "19  10.100036 -24.899964  "
      ]
     },
     "execution_count": 126,
     "metadata": {},
     "output_type": "execute_result"
    }
   ],
   "source": [
    "marvel2.loc[marvel2.ganancia==marvel2.ganancia.min()]"
   ]
  },
  {
   "cell_type": "code",
   "execution_count": 127,
   "id": "ee92c052-0167-4d5b-8d19-bcf22f5867a2",
   "metadata": {
    "tags": []
   },
   "outputs": [
    {
     "data": {
      "text/html": [
       "<div>\n",
       "<style scoped>\n",
       "    .dataframe tbody tr th:only-of-type {\n",
       "        vertical-align: middle;\n",
       "    }\n",
       "\n",
       "    .dataframe tbody tr th {\n",
       "        vertical-align: top;\n",
       "    }\n",
       "\n",
       "    .dataframe thead th {\n",
       "        text-align: right;\n",
       "    }\n",
       "</style>\n",
       "<table border=\"1\" class=\"dataframe\">\n",
       "  <thead>\n",
       "    <tr style=\"text-align: right;\">\n",
       "      <th></th>\n",
       "      <th>budget</th>\n",
       "      <th>year</th>\n",
       "      <th>month</th>\n",
       "      <th>day</th>\n",
       "      <th>Recaudado</th>\n",
       "      <th>ganancia</th>\n",
       "    </tr>\n",
       "  </thead>\n",
       "  <tbody>\n",
       "    <tr>\n",
       "      <th>count</th>\n",
       "      <td>63.000000</td>\n",
       "      <td>63.000000</td>\n",
       "      <td>63.000000</td>\n",
       "      <td>63.000000</td>\n",
       "      <td>63.000000</td>\n",
       "      <td>63.000000</td>\n",
       "    </tr>\n",
       "    <tr>\n",
       "      <th>mean</th>\n",
       "      <td>150.507937</td>\n",
       "      <td>2011.952381</td>\n",
       "      <td>6.333333</td>\n",
       "      <td>10.714286</td>\n",
       "      <td>638.994096</td>\n",
       "      <td>488.486159</td>\n",
       "    </tr>\n",
       "    <tr>\n",
       "      <th>std</th>\n",
       "      <td>68.530632</td>\n",
       "      <td>6.977911</td>\n",
       "      <td>2.834124</td>\n",
       "      <td>8.514558</td>\n",
       "      <td>513.137120</td>\n",
       "      <td>463.008170</td>\n",
       "    </tr>\n",
       "    <tr>\n",
       "      <th>min</th>\n",
       "      <td>33.000000</td>\n",
       "      <td>1986.000000</td>\n",
       "      <td>1.000000</td>\n",
       "      <td>1.000000</td>\n",
       "      <td>10.100036</td>\n",
       "      <td>-24.899964</td>\n",
       "    </tr>\n",
       "    <tr>\n",
       "      <th>25%</th>\n",
       "      <td>105.000000</td>\n",
       "      <td>2007.000000</td>\n",
       "      <td>5.000000</td>\n",
       "      <td>3.500000</td>\n",
       "      <td>299.126329</td>\n",
       "      <td>175.772241</td>\n",
       "    </tr>\n",
       "    <tr>\n",
       "      <th>50%</th>\n",
       "      <td>150.000000</td>\n",
       "      <td>2014.000000</td>\n",
       "      <td>6.000000</td>\n",
       "      <td>7.000000</td>\n",
       "      <td>543.934105</td>\n",
       "      <td>392.050366</td>\n",
       "    </tr>\n",
       "    <tr>\n",
       "      <th>75%</th>\n",
       "      <td>200.000000</td>\n",
       "      <td>2017.500000</td>\n",
       "      <td>8.000000</td>\n",
       "      <td>16.500000</td>\n",
       "      <td>805.342502</td>\n",
       "      <td>668.866589</td>\n",
       "    </tr>\n",
       "    <tr>\n",
       "      <th>max</th>\n",
       "      <td>356.000000</td>\n",
       "      <td>2021.000000</td>\n",
       "      <td>12.000000</td>\n",
       "      <td>30.000000</td>\n",
       "      <td>2797.800564</td>\n",
       "      <td>2441.800564</td>\n",
       "    </tr>\n",
       "  </tbody>\n",
       "</table>\n",
       "</div>"
      ],
      "text/plain": [
       "           budget         year      month        day    Recaudado     ganancia\n",
       "count   63.000000    63.000000  63.000000  63.000000    63.000000    63.000000\n",
       "mean   150.507937  2011.952381   6.333333  10.714286   638.994096   488.486159\n",
       "std     68.530632     6.977911   2.834124   8.514558   513.137120   463.008170\n",
       "min     33.000000  1986.000000   1.000000   1.000000    10.100036   -24.899964\n",
       "25%    105.000000  2007.000000   5.000000   3.500000   299.126329   175.772241\n",
       "50%    150.000000  2014.000000   6.000000   7.000000   543.934105   392.050366\n",
       "75%    200.000000  2017.500000   8.000000  16.500000   805.342502   668.866589\n",
       "max    356.000000  2021.000000  12.000000  30.000000  2797.800564  2441.800564"
      ]
     },
     "execution_count": 127,
     "metadata": {},
     "output_type": "execute_result"
    }
   ],
   "source": [
    "marvel2.describe()"
   ]
  },
  {
   "cell_type": "code",
   "execution_count": null,
   "id": "b2299853-be27-4dcb-afc0-205aef85fc8a",
   "metadata": {},
   "outputs": [],
   "source": []
  }
 ],
 "metadata": {
  "kernelspec": {
   "display_name": "Python 3",
   "language": "python",
   "name": "python3"
  },
  "language_info": {
   "codemirror_mode": {
    "name": "ipython",
    "version": 3
   },
   "file_extension": ".py",
   "mimetype": "text/x-python",
   "name": "python",
   "nbconvert_exporter": "python",
   "pygments_lexer": "ipython3",
   "version": "3.9.2"
  }
 },
 "nbformat": 4,
 "nbformat_minor": 5
}
