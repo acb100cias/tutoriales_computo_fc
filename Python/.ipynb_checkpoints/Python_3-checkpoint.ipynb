{
 "cells": [
  {
   "cell_type": "markdown",
   "metadata": {},
   "source": [
    "# Matrices en python\n",
    "\n",
    "En este tutorial veremos algunos aspectos del álgebra lineal de matrices en python.\n",
    "\n",
    "## Álgebra de matrices"
   ]
  },
  {
   "cell_type": "code",
   "execution_count": 7,
   "metadata": {
    "collapsed": true
   },
   "outputs": [],
   "source": [
    "from numpy import *"
   ]
  },
  {
   "cell_type": "markdown",
   "metadata": {},
   "source": [
    "Escribir la matriz:\n",
    "\n",
    "$$ {\\begin{array}{ccc}1&2&3\\\\1&0&5\\\\0&0&1\\end{array}} $$"
   ]
  },
  {
   "cell_type": "code",
   "execution_count": 8,
   "metadata": {
    "collapsed": true
   },
   "outputs": [],
   "source": [
    "M=array([[1,2,3],[1,0,5],[0,0,1]])"
   ]
  },
  {
   "cell_type": "code",
   "execution_count": 9,
   "metadata": {
    "collapsed": false
   },
   "outputs": [
    {
     "data": {
      "text/plain": [
       "array([[1, 2, 3],\n",
       "       [1, 0, 5],\n",
       "       [0, 0, 1]])"
      ]
     },
     "execution_count": 9,
     "metadata": {},
     "output_type": "execute_result"
    }
   ],
   "source": [
    "M.view()    "
   ]
  },
  {
   "cell_type": "markdown",
   "metadata": {},
   "source": [
    "Calculamos su traza"
   ]
  },
  {
   "cell_type": "code",
   "execution_count": 10,
   "metadata": {
    "collapsed": false
   },
   "outputs": [
    {
     "data": {
      "text/plain": [
       "2"
      ]
     },
     "execution_count": 10,
     "metadata": {},
     "output_type": "execute_result"
    }
   ],
   "source": [
    "M.trace()"
   ]
  },
  {
   "cell_type": "markdown",
   "metadata": {},
   "source": [
    "Trasponemos"
   ]
  },
  {
   "cell_type": "code",
   "execution_count": 11,
   "metadata": {
    "collapsed": false
   },
   "outputs": [
    {
     "data": {
      "text/plain": [
       "array([[1, 1, 0],\n",
       "       [2, 0, 0],\n",
       "       [3, 5, 1]])"
      ]
     },
     "execution_count": 11,
     "metadata": {},
     "output_type": "execute_result"
    }
   ],
   "source": [
    "M.T"
   ]
  },
  {
   "cell_type": "code",
   "execution_count": 12,
   "metadata": {
    "collapsed": false
   },
   "outputs": [
    {
     "data": {
      "text/plain": [
       "array([1, 0, 1])"
      ]
     },
     "execution_count": 12,
     "metadata": {},
     "output_type": "execute_result"
    }
   ],
   "source": [
    "M.diagonal()"
   ]
  },
  {
   "cell_type": "code",
   "execution_count": 13,
   "metadata": {
    "collapsed": false
   },
   "outputs": [
    {
     "data": {
      "text/plain": [
       "array([[1, 1, 0],\n",
       "       [2, 0, 0],\n",
       "       [3, 5, 1]])"
      ]
     },
     "execution_count": 13,
     "metadata": {},
     "output_type": "execute_result"
    }
   ],
   "source": [
    "M.transpose()"
   ]
  },
  {
   "cell_type": "markdown",
   "metadata": {
    "collapsed": true
   },
   "source": [
    "Calcular el determinante"
   ]
  },
  {
   "cell_type": "code",
   "execution_count": 14,
   "metadata": {
    "collapsed": false
   },
   "outputs": [
    {
     "data": {
      "text/plain": [
       "-2.0"
      ]
     },
     "execution_count": 14,
     "metadata": {},
     "output_type": "execute_result"
    }
   ],
   "source": [
    "linalg.det(M)"
   ]
  },
  {
   "cell_type": "markdown",
   "metadata": {},
   "source": [
    "## Calcular los eigenvalores y eigenvectores\n"
   ]
  },
  {
   "cell_type": "code",
   "execution_count": 15,
   "metadata": {
    "collapsed": false
   },
   "outputs": [
    {
     "data": {
      "text/plain": [
       "(array([ 2., -1.,  1.]), array([[ 0.89442719, -0.70710678, -0.96362411],\n",
       "        [ 0.4472136 ,  0.70710678, -0.22237479],\n",
       "        [ 0.        ,  0.        ,  0.14824986]]))"
      ]
     },
     "execution_count": 15,
     "metadata": {},
     "output_type": "execute_result"
    }
   ],
   "source": [
    "linalg.eig(M)"
   ]
  },
  {
   "cell_type": "code",
   "execution_count": 16,
   "metadata": {
    "collapsed": false
   },
   "outputs": [
    {
     "data": {
      "text/plain": [
       "array([ 2., -1.,  1.])"
      ]
     },
     "execution_count": 16,
     "metadata": {},
     "output_type": "execute_result"
    }
   ],
   "source": [
    "linalg.eig(M)[0]"
   ]
  },
  {
   "cell_type": "code",
   "execution_count": 17,
   "metadata": {
    "collapsed": false
   },
   "outputs": [
    {
     "data": {
      "text/plain": [
       "array([[ 0.89442719, -0.70710678, -0.96362411],\n",
       "       [ 0.4472136 ,  0.70710678, -0.22237479],\n",
       "       [ 0.        ,  0.        ,  0.14824986]])"
      ]
     },
     "execution_count": 17,
     "metadata": {},
     "output_type": "execute_result"
    }
   ],
   "source": [
    "linalg.eig(M)[1]"
   ]
  },
  {
   "cell_type": "markdown",
   "metadata": {},
   "source": [
    "## Operaciones con matrices"
   ]
  },
  {
   "cell_type": "code",
   "execution_count": 18,
   "metadata": {
    "collapsed": false
   },
   "outputs": [],
   "source": [
    "M1=array([random.random(3)*10,random.random(3)*10,random.random(3)*10])\n",
    "M2=array([random.random(3)*10,random.random(3)*10,random.random(3)*10])"
   ]
  },
  {
   "cell_type": "code",
   "execution_count": 19,
   "metadata": {
    "collapsed": false
   },
   "outputs": [],
   "source": [
    "M1=trunc(M1)"
   ]
  },
  {
   "cell_type": "code",
   "execution_count": 20,
   "metadata": {
    "collapsed": false
   },
   "outputs": [],
   "source": [
    "M2=trunc(M2)"
   ]
  },
  {
   "cell_type": "code",
   "execution_count": 21,
   "metadata": {
    "collapsed": false
   },
   "outputs": [
    {
     "data": {
      "text/plain": [
       "array([[13.,  9.,  9.],\n",
       "       [ 4.,  4., 12.],\n",
       "       [11., 17.,  8.]])"
      ]
     },
     "execution_count": 21,
     "metadata": {},
     "output_type": "execute_result"
    }
   ],
   "source": [
    "M1+M2"
   ]
  },
  {
   "cell_type": "code",
   "execution_count": 22,
   "metadata": {
    "collapsed": false
   },
   "outputs": [
    {
     "data": {
      "text/plain": [
       "array([[36., 14., 20.],\n",
       "       [ 0.,  0., 35.],\n",
       "       [28., 72., 16.]])"
      ]
     },
     "execution_count": 22,
     "metadata": {},
     "output_type": "execute_result"
    }
   ],
   "source": [
    "M1*M2"
   ]
  },
  {
   "cell_type": "code",
   "execution_count": 23,
   "metadata": {
    "collapsed": false
   },
   "outputs": [
    {
     "data": {
      "text/plain": [
       "array([[71., 81., 71.],\n",
       "       [85., 71., 44.],\n",
       "       [64., 76., 72.]])"
      ]
     },
     "execution_count": 23,
     "metadata": {},
     "output_type": "execute_result"
    }
   ],
   "source": [
    "dot(M1,M2)"
   ]
  },
  {
   "cell_type": "code",
   "execution_count": 24,
   "metadata": {
    "collapsed": false
   },
   "outputs": [],
   "source": [
    "m1=linalg.inv(M1)"
   ]
  },
  {
   "cell_type": "code",
   "execution_count": 25,
   "metadata": {
    "collapsed": false
   },
   "outputs": [
    {
     "data": {
      "text/plain": [
       "array([[ 1.00000000e+00, -2.22044605e-16, -2.22044605e-16],\n",
       "       [ 0.00000000e+00,  1.00000000e+00, -6.66133815e-16],\n",
       "       [ 0.00000000e+00, -2.22044605e-16,  1.00000000e+00]])"
      ]
     },
     "execution_count": 25,
     "metadata": {},
     "output_type": "execute_result"
    }
   ],
   "source": [
    "dot(M1,m1)"
   ]
  },
  {
   "cell_type": "code",
   "execution_count": 26,
   "metadata": {
    "collapsed": false
   },
   "outputs": [],
   "source": [
    "I1=dot(m1,M1)"
   ]
  },
  {
   "cell_type": "code",
   "execution_count": 27,
   "metadata": {
    "collapsed": false
   },
   "outputs": [
    {
     "data": {
      "text/plain": [
       "array([[ 1.00000000e+00,  0.00000000e+00,  0.00000000e+00],\n",
       "       [ 0.00000000e+00,  1.00000000e+00, -1.77635684e-15],\n",
       "       [ 0.00000000e+00,  0.00000000e+00,  1.00000000e+00]])"
      ]
     },
     "execution_count": 27,
     "metadata": {},
     "output_type": "execute_result"
    }
   ],
   "source": [
    "linalg.matrix_power(I1,4)"
   ]
  },
  {
   "cell_type": "code",
   "execution_count": 28,
   "metadata": {
    "collapsed": false
   },
   "outputs": [
    {
     "data": {
      "text/plain": [
       "array([[1.07360880e+11, 1.32734673e+11, 1.42809025e+11],\n",
       "       [8.19542065e+10, 1.01390235e+11, 1.08989810e+11],\n",
       "       [1.05699069e+11, 1.30665605e+11, 1.40603688e+11]])"
      ]
     },
     "execution_count": 28,
     "metadata": {},
     "output_type": "execute_result"
    }
   ],
   "source": [
    "linalg.matrix_power(M1,10)"
   ]
  },
  {
   "cell_type": "markdown",
   "metadata": {
    "collapsed": true
   },
   "source": [
    "# Proyecto\n",
    "\n",
    "**1. Construir dos matrices aleatorias de tamaño 100 x 100**\n",
    "\n",
    "**2. Calcular la suma de la n-esima potencia y calcular su espectro**\n",
    "\n",
    "**3. Calcular el determinante y la inversa**\n",
    "\n",
    "**4. Visualizar las matrices**"
   ]
  },
  {
   "cell_type": "code",
   "execution_count": 29,
   "metadata": {
    "collapsed": false
   },
   "outputs": [],
   "source": [
    "N=100\n",
    "r=[]\n",
    "for i in range(N):\n",
    "    r.append(random.random(N)*100)\n",
    "matriz1=trunc(array(r))    "
   ]
  },
  {
   "cell_type": "code",
   "execution_count": 30,
   "metadata": {
    "collapsed": false
   },
   "outputs": [
    {
     "data": {
      "text/plain": [
       "(100, 100)"
      ]
     },
     "execution_count": 30,
     "metadata": {},
     "output_type": "execute_result"
    }
   ],
   "source": [
    "matriz1.shape\n"
   ]
  },
  {
   "cell_type": "code",
   "execution_count": 31,
   "metadata": {
    "collapsed": false
   },
   "outputs": [
    {
     "data": {
      "text/plain": [
       "array([[85., 59., 57., ..., 72., 47., 21.],\n",
       "       [36., 40., 91., ...,  8., 11., 83.],\n",
       "       [37., 50., 76., ..., 55., 17., 94.],\n",
       "       ...,\n",
       "       [86., 36., 78., ..., 60., 95., 64.],\n",
       "       [96., 95.,  0., ..., 39., 57., 97.],\n",
       "       [72., 88., 56., ..., 77., 62., 89.]])"
      ]
     },
     "execution_count": 31,
     "metadata": {},
     "output_type": "execute_result"
    }
   ],
   "source": [
    "matriz1"
   ]
  },
  {
   "cell_type": "code",
   "execution_count": 32,
   "metadata": {
    "collapsed": true
   },
   "outputs": [],
   "source": [
    "def crear_matriz(N):\n",
    "    N=100\n",
    "    r=[]\n",
    "    for i in range(N):\n",
    "        r.append(random.random(N)*100)\n",
    "    return trunc(array(r))  \n",
    "    "
   ]
  },
  {
   "cell_type": "code",
   "execution_count": 33,
   "metadata": {
    "collapsed": false
   },
   "outputs": [],
   "source": [
    "matriz1,matriz2=crear_matriz(100),crear_matriz(100)"
   ]
  },
  {
   "cell_type": "code",
   "execution_count": 34,
   "metadata": {
    "collapsed": false
   },
   "outputs": [
    {
     "data": {
      "text/plain": [
       "array([[67., 70., 23., ..., 48., 79., 88.],\n",
       "       [21., 52., 41., ...,  8., 66., 91.],\n",
       "       [70., 54., 14., ..., 55., 88., 62.],\n",
       "       ...,\n",
       "       [95., 64., 58., ..., 63., 41., 94.],\n",
       "       [70., 45., 94., ..., 17., 80., 80.],\n",
       "       [40.,  6., 51., ..., 72., 70., 71.]])"
      ]
     },
     "execution_count": 34,
     "metadata": {},
     "output_type": "execute_result"
    }
   ],
   "source": [
    "matriz1"
   ]
  },
  {
   "cell_type": "code",
   "execution_count": 35,
   "metadata": {
    "collapsed": false
   },
   "outputs": [
    {
     "data": {
      "text/plain": [
       "array([[71., 61., 55., ..., 21.,  2., 72.],\n",
       "       [42., 62., 84., ..., 42., 60., 88.],\n",
       "       [61., 26., 22., ..., 20., 42., 77.],\n",
       "       ...,\n",
       "       [ 6.,  3., 64., ..., 10.,  4., 38.],\n",
       "       [55., 60., 36., ..., 93., 42., 62.],\n",
       "       [28., 14., 71., ..., 80., 42., 45.]])"
      ]
     },
     "execution_count": 35,
     "metadata": {},
     "output_type": "execute_result"
    }
   ],
   "source": [
    "matriz2"
   ]
  },
  {
   "cell_type": "code",
   "execution_count": 36,
   "metadata": {
    "collapsed": true
   },
   "outputs": [],
   "source": [
    "def n_mat(M,n):\n",
    "    return linalg.matrix_power(M,n)\n",
    "def sumat(M,N):\n",
    "    return M+N"
   ]
  },
  {
   "cell_type": "code",
   "execution_count": 37,
   "metadata": {
    "collapsed": false
   },
   "outputs": [
    {
     "data": {
      "text/plain": [
       "array([[138., 131.,  78., ...,  69.,  81., 160.],\n",
       "       [ 63., 114., 125., ...,  50., 126., 179.],\n",
       "       [131.,  80.,  36., ...,  75., 130., 139.],\n",
       "       ...,\n",
       "       [101.,  67., 122., ...,  73.,  45., 132.],\n",
       "       [125., 105., 130., ..., 110., 122., 142.],\n",
       "       [ 68.,  20., 122., ..., 152., 112., 116.]])"
      ]
     },
     "execution_count": 37,
     "metadata": {},
     "output_type": "execute_result"
    }
   ],
   "source": [
    "sumat(matriz1,matriz2)"
   ]
  },
  {
   "cell_type": "code",
   "execution_count": 38,
   "metadata": {
    "collapsed": false
   },
   "outputs": [
    {
     "data": {
      "text/plain": [
       "array([[9.85030695e+34, 9.65331638e+34, 9.93619065e+34, ...,\n",
       "        9.56563708e+34, 1.04361731e+35, 9.96914279e+34],\n",
       "       [9.40385034e+34, 9.21578819e+34, 9.48584143e+34, ...,\n",
       "        9.13208288e+34, 9.96316265e+34, 9.51730005e+34],\n",
       "       [9.00621419e+34, 8.82610414e+34, 9.08473834e+34, ...,\n",
       "        8.74593826e+34, 9.54187632e+34, 9.11486675e+34],\n",
       "       ...,\n",
       "       [9.79255116e+34, 9.59671562e+34, 9.87793129e+34, ...,\n",
       "        9.50955041e+34, 1.03749822e+35, 9.91069023e+34],\n",
       "       [9.99009654e+34, 9.79031040e+34, 1.00771990e+35, ...,\n",
       "        9.70138680e+34, 1.05842770e+35, 1.01106188e+35],\n",
       "       [9.66046631e+34, 9.46727225e+34, 9.74469480e+34, ...,\n",
       "        9.38128275e+34, 1.02350414e+35, 9.77701188e+34]])"
      ]
     },
     "execution_count": 38,
     "metadata": {},
     "output_type": "execute_result"
    }
   ],
   "source": [
    "n_mat(matriz1,10)"
   ]
  },
  {
   "cell_type": "code",
   "execution_count": 39,
   "metadata": {
    "collapsed": false
   },
   "outputs": [
    {
     "data": {
      "text/plain": [
       "array([[1.89748709e+35, 1.77957672e+35, 1.87452121e+35, ...,\n",
       "        1.85387673e+35, 1.93767005e+35, 1.92324435e+35],\n",
       "       [1.94249036e+35, 1.81582357e+35, 1.91603502e+35, ...,\n",
       "        1.89868241e+35, 1.97820978e+35, 1.96907211e+35],\n",
       "       [1.92464936e+35, 1.79641815e+35, 1.89708920e+35, ...,\n",
       "        1.88162672e+35, 1.95756159e+35, 1.95108471e+35],\n",
       "       ...,\n",
       "       [1.92198647e+35, 1.80093299e+35, 1.89792328e+35, ...,\n",
       "        1.87804057e+35, 1.96121530e+35, 1.94813438e+35],\n",
       "       [2.00013279e+35, 1.87239931e+35, 1.97422256e+35, ...,\n",
       "        1.95464691e+35, 2.03935884e+35, 2.02740686e+35],\n",
       "       [1.92735176e+35, 1.80456326e+35, 1.90253110e+35, ...,\n",
       "        1.88347933e+35, 1.96542037e+35, 1.95362274e+35]])"
      ]
     },
     "execution_count": 39,
     "metadata": {},
     "output_type": "execute_result"
    }
   ],
   "source": [
    "sumat(n_mat(matriz1,10),n_mat(matriz2,10))"
   ]
  },
  {
   "cell_type": "code",
   "execution_count": 40,
   "metadata": {
    "collapsed": true
   },
   "outputs": [],
   "source": [
    "def n_sumat(M,N,n):\n",
    "    return linalg.matrix_power(M,n)+linalg.matrix_power(N,n)\n"
   ]
  },
  {
   "cell_type": "code",
   "execution_count": 41,
   "metadata": {
    "collapsed": false
   },
   "outputs": [],
   "source": [
    "A=n_sumat(matriz1,matriz2,10)"
   ]
  },
  {
   "cell_type": "code",
   "execution_count": 42,
   "metadata": {
    "collapsed": false
   },
   "outputs": [
    {
     "data": {
      "text/plain": [
       "(array([ 1.83974349e+37+0.00000000e+00j,  5.50195040e+33+0.00000000e+00j,\n",
       "        -4.95918742e+24+8.12196563e+24j, -4.95918742e+24-8.12196563e+24j,\n",
       "        -7.86765462e+24+2.22958821e+24j, -7.86765462e+24-2.22958821e+24j,\n",
       "         6.99253864e+24+0.00000000e+00j, -5.90681882e+24+1.27042811e+24j,\n",
       "        -5.90681882e+24-1.27042811e+24j,  4.95767457e+24+1.73902589e+24j,\n",
       "         4.95767457e+24-1.73902589e+24j,  3.48144900e+24+3.39926314e+24j,\n",
       "         3.48144900e+24-3.39926314e+24j,  4.90309989e+24+0.00000000e+00j,\n",
       "        -4.35472035e+24+0.00000000e+00j, -4.13767455e+23+3.68271221e+24j,\n",
       "        -4.13767455e+23-3.68271221e+24j, -1.68171222e+24+3.17854775e+24j,\n",
       "        -1.68171222e+24-3.17854775e+24j,  2.06675065e+24+2.63128309e+24j,\n",
       "         2.06675065e+24-2.63128309e+24j, -2.71606159e+24+1.72877023e+24j,\n",
       "        -2.71606159e+24-1.72877023e+24j,  3.00539371e+24+6.75568161e+23j,\n",
       "         3.00539371e+24-6.75568161e+23j,  1.36474630e+24+2.58772866e+24j,\n",
       "         1.36474630e+24-2.58772866e+24j,  2.56455642e+24+9.09258315e+23j,\n",
       "         2.56455642e+24-9.09258315e+23j, -2.17784957e+24+6.44195452e+23j,\n",
       "        -2.17784957e+24-6.44195452e+23j, -4.15567660e+23+1.99858367e+24j,\n",
       "        -4.15567660e+23-1.99858367e+24j,  1.98843664e+24+0.00000000e+00j,\n",
       "        -9.95969235e+21+1.88049728e+24j, -9.95969235e+21-1.88049728e+24j,\n",
       "         7.84457397e+23+1.62172094e+24j,  7.84457397e+23-1.62172094e+24j,\n",
       "        -1.50444046e+24+9.02552241e+23j, -1.50444046e+24-9.02552241e+23j,\n",
       "        -1.76125316e+24+0.00000000e+00j,  1.59356716e+24+5.51750555e+23j,\n",
       "         1.59356716e+24-5.51750555e+23j, -1.04857731e+24+1.05153445e+24j,\n",
       "        -1.04857731e+24-1.05153445e+24j,  8.14463510e+23+1.12194756e+24j,\n",
       "         8.14463510e+23-1.12194756e+24j,  4.46986231e+22+1.38964858e+24j,\n",
       "         4.46986231e+22-1.38964858e+24j, -1.16686513e+24+4.99288570e+22j,\n",
       "        -1.16686513e+24-4.99288570e+22j,  9.44001315e+23+0.00000000e+00j,\n",
       "         8.66069244e+22+1.08817216e+24j,  8.66069244e+22-1.08817216e+24j,\n",
       "        -5.34138774e+23+8.74638656e+23j, -5.34138774e+23-8.74638656e+23j,\n",
       "         9.27452346e+23+3.18825148e+23j,  9.27452346e+23-3.18825148e+23j,\n",
       "         7.76720740e+23+0.00000000e+00j,  5.22184310e+23+4.54287988e+23j,\n",
       "         5.22184310e+23-4.54287988e+23j, -4.76942316e+23+4.57790839e+23j,\n",
       "        -4.76942316e+23-4.57790839e+23j, -6.30801114e+23+0.00000000e+00j,\n",
       "         1.38209999e+23+6.23013703e+23j,  1.38209999e+23-6.23013703e+23j,\n",
       "        -1.68415793e+23+6.11394377e+23j, -1.68415793e+23-6.11394377e+23j,\n",
       "         4.44142747e+23+0.00000000e+00j, -4.00764477e+23+2.99290947e+23j,\n",
       "        -4.00764477e+23-2.99290947e+23j, -1.47547352e+23+3.94550942e+23j,\n",
       "        -1.47547352e+23-3.94550942e+23j,  2.45825132e+23+3.52474181e+23j,\n",
       "         2.45825132e+23-3.52474181e+23j, -3.44017185e+23+8.55103713e+22j,\n",
       "        -3.44017185e+23-8.55103713e+22j, -1.88956652e+23+2.29694354e+23j,\n",
       "        -1.88956652e+23-2.29694354e+23j, -2.99858286e+23+3.45156971e+21j,\n",
       "        -2.99858286e+23-3.45156971e+21j,  8.65578916e+22+2.76950706e+23j,\n",
       "         8.65578916e+22-2.76950706e+23j,  2.21439566e+23+1.77773204e+23j,\n",
       "         2.21439566e+23-1.77773204e+23j,  2.90869928e+23+0.00000000e+00j,\n",
       "        -2.91357528e+22+2.24146580e+23j, -2.91357528e+22-2.24146580e+23j,\n",
       "         1.35926055e+23+1.22911613e+23j,  1.35926055e+23-1.22911613e+23j,\n",
       "        -1.59501279e+22+9.57270748e+22j, -1.59501279e+22-9.57270748e+22j,\n",
       "         1.19649216e+23+4.88449970e+22j,  1.19649216e+23-4.88449970e+22j,\n",
       "        -4.88025429e+22+2.87100234e+22j, -4.88025429e+22-2.87100234e+22j,\n",
       "        -1.22883446e+22+0.00000000e+00j,  1.25363773e+23+0.00000000e+00j,\n",
       "         6.58455144e+22+0.00000000e+00j,  2.53849526e+22+0.00000000e+00j]),\n",
       " array([[-0.09891333+0.j        , -0.13470533+0.j        ,\n",
       "          0.07317417+0.11038279j, ...,  0.20276134+0.j        ,\n",
       "          0.08878065+0.j        , -0.02146904+0.j        ],\n",
       "        [-0.10120061+0.j        ,  0.03806884+0.j        ,\n",
       "         -0.03168756-0.03261057j, ...,  0.07534408+0.j        ,\n",
       "         -0.05031556+0.j        ,  0.1872105 +0.j        ],\n",
       "        [-0.10024427+0.j        ,  0.11825845+0.j        ,\n",
       "         -0.08021194+0.02415718j, ..., -0.06222269+0.j        ,\n",
       "         -0.14245687+0.j        ,  0.20079671+0.j        ],\n",
       "        ...,\n",
       "        [-0.10017449+0.j        , -0.0885923 +0.j        ,\n",
       "          0.05099071+0.11103245j, ...,  0.12812656+0.j        ,\n",
       "          0.1397115 +0.j        , -0.07265507+0.j        ],\n",
       "        [-0.10423019+0.j        , -0.04028664+0.j        ,\n",
       "          0.07140573-0.0553319j , ..., -0.02190158+0.j        ,\n",
       "          0.04719083+0.j        , -0.04781992+0.j        ],\n",
       "        [-0.10044038+0.j        , -0.04758975+0.j        ,\n",
       "          0.03629596-0.04104191j, ...,  0.20066388+0.j        ,\n",
       "          0.20510332+0.j        , -0.08677328+0.j        ]]))"
      ]
     },
     "execution_count": 42,
     "metadata": {},
     "output_type": "execute_result"
    }
   ],
   "source": [
    "linalg.eig(A)"
   ]
  },
  {
   "cell_type": "code",
   "execution_count": 43,
   "metadata": {
    "collapsed": false
   },
   "outputs": [
    {
     "data": {
      "text/plain": [
       "7.908102061428478e+225"
      ]
     },
     "execution_count": 43,
     "metadata": {},
     "output_type": "execute_result"
    }
   ],
   "source": [
    "linalg.det(matriz1)"
   ]
  },
  {
   "cell_type": "code",
   "execution_count": 44,
   "metadata": {
    "collapsed": false
   },
   "outputs": [
    {
     "data": {
      "text/plain": [
       "array([[-1.34047872e-23,  1.59153043e-25,  1.75208595e-24, ...,\n",
       "         1.89309304e-23, -7.40198253e-24,  3.16925410e-24],\n",
       "       [ 2.21404540e-23,  4.45760686e-24, -2.42640418e-24, ...,\n",
       "        -3.50420626e-23,  1.50202216e-23, -1.83359045e-24],\n",
       "       [ 2.96124541e-23,  6.51162072e-24, -6.37375990e-24, ...,\n",
       "        -4.74695972e-23,  1.93807947e-23, -2.72291729e-24],\n",
       "       ...,\n",
       "       [-9.42333552e-24, -1.08312907e-24,  1.63086390e-24, ...,\n",
       "         1.23691921e-23, -2.24732035e-24,  2.69160976e-24],\n",
       "       [ 2.40675358e-24, -1.46709309e-24,  1.51159319e-24, ...,\n",
       "        -1.24064645e-24,  3.01651958e-24, -6.17235988e-25],\n",
       "       [-2.25728910e-23, -2.49755788e-24,  7.04421687e-24, ...,\n",
       "         3.08476492e-23, -9.32288542e-24,  3.03369578e-24]])"
      ]
     },
     "execution_count": 44,
     "metadata": {},
     "output_type": "execute_result"
    }
   ],
   "source": [
    "linalg.inv(A)"
   ]
  },
  {
   "cell_type": "code",
   "execution_count": 45,
   "metadata": {
    "collapsed": false
   },
   "outputs": [],
   "source": [
    "def funcionM(M):\n",
    "    print('el determinante es:'+str(linalg.det(M))) "
   ]
  },
  {
   "cell_type": "code",
   "execution_count": 47,
   "metadata": {
    "collapsed": false
   },
   "outputs": [
    {
     "name": "stdout",
     "output_type": "stream",
     "text": [
      "el determinante es:7.908102061428478e+225\n"
     ]
    }
   ],
   "source": [
    "funcionM(matriz1)"
   ]
  },
  {
   "cell_type": "code",
   "execution_count": 49,
   "metadata": {
    "collapsed": true
   },
   "outputs": [],
   "source": [
    "import matplotlib.image as img\n",
    "import matplotlib.pyplot as plt\n"
   ]
  },
  {
   "cell_type": "code",
   "execution_count": 67,
   "metadata": {
    "collapsed": false
   },
   "outputs": [
    {
     "data": {
      "text/plain": [
       "<matplotlib.image.AxesImage at 0x7fd92d3c3b50>"
      ]
     },
     "execution_count": 67,
     "metadata": {},
     "output_type": "execute_result"
    },
    {
     "data": {
      "image/png": "[encoded data removed]",
      "text/plain": [
       "<Figure size 432x288 with 1 Axes>"
      ]
     },
     "metadata": {
      "needs_background": "light"
     },
     "output_type": "display_data"
    }
   ],
   "source": [
    "plt.imshow(matriz1)"
   ]
  },
  {
   "cell_type": "code",
   "execution_count": 68,
   "metadata": {
    "collapsed": false
   },
   "outputs": [
    {
     "data": {
      "text/plain": [
       "<matplotlib.image.AxesImage at 0x7fd92d3e9d90>"
      ]
     },
     "execution_count": 68,
     "metadata": {},
     "output_type": "execute_result"
    },
    {
     "data": {
      "image/png": "[encoded data removed]",
      "text/plain": [
       "<Figure size 432x288 with 1 Axes>"
      ]
     },
     "metadata": {
      "needs_background": "light"
     },
     "output_type": "display_data"
    }
   ],
   "source": [
    "plt.imshow(matriz2)"
   ]
  },
  {
   "cell_type": "code",
   "execution_count": null,
   "metadata": {
    "collapsed": true
   },
   "outputs": [],
   "source": []
  }
 ],
 "metadata": {
  "kernelspec": {
   "display_name": "Python 3",
   "language": "python",
   "name": "python3"
  },
  "language_info": {
   "codemirror_mode": {
    "name": "ipython",
    "version": 2
   },
   "file_extension": ".py",
   "mimetype": "text/x-python",
   "name": "python",
   "nbconvert_exporter": "python",
   "pygments_lexer": "ipython2",
   "version": "2.7.13"
  }
 },
 "nbformat": 4,
 "nbformat_minor": 2
}
