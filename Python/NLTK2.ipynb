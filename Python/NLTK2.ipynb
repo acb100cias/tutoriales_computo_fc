{
 "cells": [
  {
   "cell_type": "code",
   "execution_count": 1,
   "id": "b48479bb-7739-4985-986b-a5623f05d8df",
   "metadata": {},
   "outputs": [
    {
     "name": "stdout",
     "output_type": "stream",
     "text": [
      "The history saving thread hit an unexpected error (OperationalError('attempt to write a readonly database')).History will not be written to the database.\n"
     ]
    }
   ],
   "source": [
    "import nltk"
   ]
  },
  {
   "cell_type": "code",
   "execution_count": 2,
   "id": "0cf2cecb-3b30-4d3d-bdc6-20ca21c3f460",
   "metadata": {},
   "outputs": [],
   "source": [
    "from nltk.corpus import wordnet"
   ]
  },
  {
   "cell_type": "code",
   "execution_count": 3,
   "id": "6af8bb52-d2a3-4af0-b9a3-447ae8d3037f",
   "metadata": {},
   "outputs": [
    {
     "name": "stderr",
     "output_type": "stream",
     "text": [
      "[nltk_data] Downloading package universal_tagset to\n",
      "[nltk_data]     /home/augusto/nltk_data...\n",
      "[nltk_data]   Package universal_tagset is already up-to-date!\n"
     ]
    },
    {
     "data": {
      "text/plain": [
       "True"
      ]
     },
     "execution_count": 3,
     "metadata": {},
     "output_type": "execute_result"
    }
   ],
   "source": [
    "nltk.download('universal_tagset')"
   ]
  },
  {
   "cell_type": "code",
   "execution_count": 4,
   "id": "20a93f0a-a13b-4073-9707-7a7c5dd49d40",
   "metadata": {},
   "outputs": [],
   "source": [
    "def get_wordnet_pos(word):\n",
    "    if word.startswith('ADJ'):\n",
    "        return wordnet.ADJ\n",
    "    elif word.startswith('V'):\n",
    "        return wordnet.VERB\n",
    "    elif word.startswith('N'):\n",
    "        return wordnet.NOUN\n",
    "    elif word.startswith('ADV'):\n",
    "        return wordnet.ADV\n",
    "    else:\n",
    "        return wordnet.NOUN\n",
    "    "
   ]
  },
  {
   "cell_type": "code",
   "execution_count": 5,
   "id": "acceb868-da6e-4771-ad65-bb9a37d5ca7e",
   "metadata": {},
   "outputs": [],
   "source": [
    "texto='Luis´s dogs aren´t sitting camly on the white mats'"
   ]
  },
  {
   "cell_type": "code",
   "execution_count": 6,
   "id": "c4b066eb-81c5-47a9-8db2-42a5e6117640",
   "metadata": {},
   "outputs": [],
   "source": [
    "textoken=nltk.word_tokenize(texto)"
   ]
  },
  {
   "cell_type": "code",
   "execution_count": 7,
   "id": "7b28f7d7-6723-4d1c-a89b-fadd245723af",
   "metadata": {},
   "outputs": [
    {
     "data": {
      "text/plain": [
       "['Luis´s', 'dogs', 'aren´t', 'sitting', 'camly', 'on', 'the', 'white', 'mats']"
      ]
     },
     "execution_count": 7,
     "metadata": {},
     "output_type": "execute_result"
    }
   ],
   "source": [
    "textoken"
   ]
  },
  {
   "cell_type": "code",
   "execution_count": 8,
   "id": "3372eb88-9ce1-456f-a6ae-f0df39b2a471",
   "metadata": {},
   "outputs": [
    {
     "data": {
      "text/plain": [
       "[('Luis´s', 'NNP'),\n",
       " ('dogs', 'NNS'),\n",
       " ('aren´t', 'VBP'),\n",
       " ('sitting', 'VBG'),\n",
       " ('camly', 'NN'),\n",
       " ('on', 'IN'),\n",
       " ('the', 'DT'),\n",
       " ('white', 'JJ'),\n",
       " ('mats', 'NNS')]"
      ]
     },
     "execution_count": 8,
     "metadata": {},
     "output_type": "execute_result"
    }
   ],
   "source": [
    "nltk.pos_tag(textoken)"
   ]
  },
  {
   "cell_type": "code",
   "execution_count": 9,
   "id": "1e7542db-02d1-41c3-bf54-bdfd9c06a124",
   "metadata": {},
   "outputs": [
    {
     "data": {
      "text/plain": [
       "[('Luis´s', 'NOUN'),\n",
       " ('dogs', 'NOUN'),\n",
       " ('aren´t', 'VERB'),\n",
       " ('sitting', 'VERB'),\n",
       " ('camly', 'NOUN'),\n",
       " ('on', 'ADP'),\n",
       " ('the', 'DET'),\n",
       " ('white', 'ADJ'),\n",
       " ('mats', 'NOUN')]"
      ]
     },
     "execution_count": 9,
     "metadata": {},
     "output_type": "execute_result"
    }
   ],
   "source": [
    "nltk.pos_tag(textoken,tagset='universal')"
   ]
  },
  {
   "cell_type": "code",
   "execution_count": 10,
   "id": "71fb31c4-7bd1-42b3-a589-6d7c34593eef",
   "metadata": {},
   "outputs": [],
   "source": [
    "t2=\"Haciendo uso de la posibilidad que ofrece de list comprehension, para crear nuevas listas en base a listas que ya existen.\""
   ]
  },
  {
   "cell_type": "code",
   "execution_count": 13,
   "id": "d3258989-dc7c-44bf-82b8-2947ed3759b3",
   "metadata": {},
   "outputs": [
    {
     "data": {
      "text/plain": [
       "[('Haciendo', 'NNP'),\n",
       " ('uso', 'FW'),\n",
       " ('de', 'FW'),\n",
       " ('la', 'FW'),\n",
       " ('posibilidad', 'FW'),\n",
       " ('que', 'FW'),\n",
       " ('ofrece', 'FW'),\n",
       " ('de', 'FW'),\n",
       " ('list', 'FW'),\n",
       " ('comprehension', 'NN'),\n",
       " (',', ','),\n",
       " ('para', 'NN'),\n",
       " ('crear', 'JJ'),\n",
       " ('nuevas', 'JJ'),\n",
       " ('listas', 'NNS'),\n",
       " ('en', 'IN'),\n",
       " ('base', 'NN'),\n",
       " ('a', 'DT'),\n",
       " ('listas', 'JJ'),\n",
       " ('que', 'NN'),\n",
       " ('ya', 'NN'),\n",
       " ('existen', 'NN'),\n",
       " ('.', '.')]"
      ]
     },
     "execution_count": 13,
     "metadata": {},
     "output_type": "execute_result"
    }
   ],
   "source": [
    "t2t=nltk.word_tokenize(t2)\n",
    "nltk.pos_tag(t2t)"
   ]
  },
  {
   "cell_type": "code",
   "execution_count": 14,
   "id": "3741a97b-3098-4b8f-a290-0b740cb5de9d",
   "metadata": {},
   "outputs": [],
   "source": [
    "from nltk.stem import WordNetLemmatizer\n",
    "lematizador=WordNetLemmatizer()"
   ]
  },
  {
   "cell_type": "code",
   "execution_count": 16,
   "id": "1716db5e-0a30-496d-b13c-aef81c6b79fe",
   "metadata": {},
   "outputs": [],
   "source": [
    "lemas=[lematizador.lemmatize(palabra,get_wordnet_pos(etiqueta)) for palabra,etiqueta  in nltk.pos_tag(textoken,tagset='universal')]"
   ]
  },
  {
   "cell_type": "code",
   "execution_count": 17,
   "id": "fd302e23-04a9-423a-b998-db655eb5cb36",
   "metadata": {},
   "outputs": [
    {
     "data": {
      "text/plain": [
       "['Luis´s', 'dog', 'aren´t', 'sit', 'camly', 'on', 'the', 'white', 'mat']"
      ]
     },
     "execution_count": 17,
     "metadata": {},
     "output_type": "execute_result"
    }
   ],
   "source": [
    "lemas"
   ]
  },
  {
   "cell_type": "code",
   "execution_count": null,
   "id": "d6ab5849-afa3-487c-8c8c-5666efc7d1bb",
   "metadata": {},
   "outputs": [],
   "source": []
  }
 ],
 "metadata": {
  "kernelspec": {
   "display_name": "Python 3 (ipykernel)",
   "language": "python",
   "name": "python3"
  },
  "language_info": {
   "codemirror_mode": {
    "name": "ipython",
    "version": 3
   },
   "file_extension": ".py",
   "mimetype": "text/x-python",
   "name": "python",
   "nbconvert_exporter": "python",
   "pygments_lexer": "ipython3",
   "version": "3.12.7"
  }
 },
 "nbformat": 4,
 "nbformat_minor": 5
}
