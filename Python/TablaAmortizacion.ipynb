{
 "cells": [
  {
   "cell_type": "code",
   "execution_count": 2,
   "id": "66f3cffc-ca5c-40df-bc81-ba355732faf0",
   "metadata": {
    "tags": []
   },
   "outputs": [],
   "source": [
    "import numpy as np\n",
    "import pandas as pd"
   ]
  },
  {
   "cell_type": "markdown",
   "id": "d79f197a-8738-43de-b09d-c672ac920ef1",
   "metadata": {},
   "source": [
    "# Tabla de amortización anual"
   ]
  },
  {
   "cell_type": "code",
   "execution_count": 5,
   "id": "b3c1cb8d-05a2-4961-b36b-352ea6999495",
   "metadata": {
    "tags": []
   },
   "outputs": [],
   "source": [
    "vp=5000\n",
    "n=5 #termino del prestamo\n",
    "r=0.07 # tasa de interés anual"
   ]
  },
  {
   "cell_type": "code",
   "execution_count": 6,
   "id": "ad513d6f-f120-44f2-a6fc-2a5abc656aa8",
   "metadata": {
    "tags": []
   },
   "outputs": [],
   "source": [
    "def CalculaPagos(vp,n,r):\n",
    "    res=(vp*r)/((1/(1+r)**n)-1)\n",
    "    return res"
   ]
  },
  {
   "cell_type": "code",
   "execution_count": 7,
   "id": "b6000dfc-43af-4a2d-ba5d-6dfed6e74a00",
   "metadata": {
    "tags": []
   },
   "outputs": [],
   "source": [
    "def TA(vp,n,r):\n",
    "    pa=CalculaPagos(vp,n,r)\n",
    "    t=[]\n",
    "    balance=vp\n",
    "    for a in range(1,n):\n",
    "        interes=balance*r\n",
    "        principal=pa-interes\n",
    "        balance=principal\n",
    "        t.append({'Año':a,'Pago':pa,'Principal':principal,'Interés':interes,'Balance':balance})\n",
    "    return pd.DataFrame(t)"
   ]
  },
  {
   "cell_type": "code",
   "execution_count": 8,
   "id": "efa2dded-91c9-4d60-b92c-703db2a8abb4",
   "metadata": {
    "tags": []
   },
   "outputs": [],
   "source": [
    "tabla_amort=TA(vp,n,r)"
   ]
  },
  {
   "cell_type": "code",
   "execution_count": 12,
   "id": "f4438592-f9a4-4f6f-8826-a9c04efac072",
   "metadata": {
    "tags": []
   },
   "outputs": [],
   "source": [
    "tabla_amort.to_csv('tabla_amort.csv')"
   ]
  },
  {
   "cell_type": "markdown",
   "id": "5d44bb61-9b1c-4765-a0f2-879ee207d923",
   "metadata": {},
   "source": [
    "# Tabla de amortización mensual"
   ]
  },
  {
   "cell_type": "code",
   "execution_count": 31,
   "id": "edf03ecf-c8cf-4aef-944c-33bd75f11b45",
   "metadata": {
    "tags": []
   },
   "outputs": [],
   "source": [
    "pv=18000\n",
    "n1=60 #meses\n",
    "r1=0.0529 #tasa anual\n",
    "\n",
    "\n",
    "rm=r1/12.\n",
    "\n",
    "pm= pv*rm/(1-(1+rm)**(-n1))\n"
   ]
  },
  {
   "cell_type": "code",
   "execution_count": 32,
   "id": "311a483d-1e8a-4886-9169-1b8076a6ace6",
   "metadata": {
    "tags": []
   },
   "outputs": [
    {
     "data": {
      "text/plain": [
       "0.0044083333333333335"
      ]
     },
     "execution_count": 32,
     "metadata": {},
     "output_type": "execute_result"
    }
   ],
   "source": [
    "rm"
   ]
  },
  {
   "cell_type": "code",
   "execution_count": 33,
   "id": "5a8fac08-e2d6-4162-a2cb-02dc67045336",
   "metadata": {
    "tags": []
   },
   "outputs": [],
   "source": [
    "def Pagos(principal,rm,pm):\n",
    "    interes_actual=principal*rm\n",
    "    pago_actual=pm-interes_actual\n",
    "    principal-=pago_actual\n",
    "    return [np.round(principal,2),np.round(pago_actual),np.round(interes_actual)]\n",
    "def TAm(principal,n_,pm,rm):\n",
    "    pagos=[[principal,0,0,0]]\n",
    "    interesTotal=0\n",
    "    while principal > 0 and n_ > 0:\n",
    "        pago=Pagos(principal,rm,pm)\n",
    "        principal=pago[0]\n",
    "        n_-=1\n",
    "        interesTotal+=pago[2]\n",
    "        pago.append(interesTotal)\n",
    "        pagos.append(pago)\n",
    "    t=pd.DataFrame(data=pagos,columns=['Principal','Interés','Pago','Interés total'])\n",
    "    return t\n",
    "        \n",
    "    "
   ]
  },
  {
   "cell_type": "code",
   "execution_count": 35,
   "id": "332ec15d-691f-456d-b4f0-227a7c2f1246",
   "metadata": {
    "tags": []
   },
   "outputs": [],
   "source": [
    "TAm(pv,n1,pm,rm).to_csv('TablaAmortizacionMensual.csv')"
   ]
  },
  {
   "cell_type": "code",
   "execution_count": null,
   "id": "64bc48ee-5694-44b0-a949-d7e91de754ed",
   "metadata": {},
   "outputs": [],
   "source": []
  }
 ],
 "metadata": {
  "kernelspec": {
   "display_name": "Python 3",
   "language": "python",
   "name": "python3"
  },
  "language_info": {
   "codemirror_mode": {
    "name": "ipython",
    "version": 3
   },
   "file_extension": ".py",
   "mimetype": "text/x-python",
   "name": "python",
   "nbconvert_exporter": "python",
   "pygments_lexer": "ipython3",
   "version": "3.9.2"
  }
 },
 "nbformat": 4,
 "nbformat_minor": 5
}
