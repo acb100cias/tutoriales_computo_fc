{
 "cells": [
  {
   "cell_type": "code",
   "execution_count": 5,
   "id": "8f6ae355-861d-445f-8a14-734fd9071a21",
   "metadata": {
    "tags": []
   },
   "outputs": [],
   "source": [
    "import numpy as np\n",
    "import matplotlib.pyplot as plt\n",
    "from PIL import Image\n",
    "from dataclasses import dataclass"
   ]
  },
  {
   "cell_type": "code",
   "execution_count": 6,
   "id": "dca82b8f-eb9a-4bab-8438-6b0ef74896ff",
   "metadata": {
    "tags": []
   },
   "outputs": [],
   "source": [
    "def matComp(xmin,xmax,ymin,ymax,dens):\n",
    "    re=np.linspace(xmax,xmin,int(xmax-xmin)*dens)\n",
    "    im=np.linspace(ymax,ymin,int(ymax-ymin)*dens)\n",
    "    return re[np.newaxis,:]+im[:,np.newaxis]*1j"
   ]
  },
  {
   "cell_type": "code",
   "execution_count": 7,
   "id": "9a15e533-25f9-4371-9721-0c2f663945af",
   "metadata": {
    "tags": []
   },
   "outputs": [],
   "source": [
    "def esEstable(c,N):\n",
    "    z=0\n",
    "    for _ in range(N):\n",
    "        z=z**2+c\n",
    "        if abs(z) > 2:\n",
    "            return False\n",
    "    return True"
   ]
  },
  {
   "cell_type": "code",
   "execution_count": 8,
   "id": "5477270b-88d6-44ae-a19b-a00fa4b8a00e",
   "metadata": {
    "tags": []
   },
   "outputs": [],
   "source": [
    "def getMandelbrot_chafa(c,N):\n",
    "    mask=esEstable(c,N)\n",
    "    return c[mask]"
   ]
  },
  {
   "cell_type": "code",
   "execution_count": 11,
   "id": "f975a90d-148a-4ee0-b67e-c3ba4eb1c1be",
   "metadata": {
    "tags": []
   },
   "outputs": [],
   "source": [
    "@dataclass\n",
    "class ConjMandelbrot:\n",
    "    max_iter:int\n",
    "    def __cont__(self,c):\n",
    "        return self.stability(c)==1\n",
    "    def stability(self,c):\n",
    "        return self.esc_count(c)/self.max_iter\n",
    "    def esc_count(self,c):\n",
    "        z=0\n",
    "        for i in range(self.max_iter):\n",
    "            z=z**2+c\n",
    "            if abs(z)>2:\n",
    "                return i\n",
    "        return self.max_iter\n"
   ]
  },
  {
   "cell_type": "code",
   "execution_count": 12,
   "id": "9c9197f7-ce80-473d-9157-5141ac5d04ac",
   "metadata": {
    "tags": []
   },
   "outputs": [],
   "source": [
    "mandel=ConjMandelbrot(max_iter=30)"
   ]
  },
  {
   "cell_type": "code",
   "execution_count": 13,
   "id": "fff6dcde-6610-4066-900c-ac7553cbcd5c",
   "metadata": {
    "tags": []
   },
   "outputs": [
    {
     "data": {
      "text/plain": [
       "30"
      ]
     },
     "execution_count": 13,
     "metadata": {},
     "output_type": "execute_result"
    }
   ],
   "source": [
    "mandel.esc_count(0.25)"
   ]
  },
  {
   "cell_type": "code",
   "execution_count": 14,
   "id": "2db352de-b750-4e66-a98f-94d1ae4eedfd",
   "metadata": {
    "tags": []
   },
   "outputs": [
    {
     "data": {
      "text/plain": [
       "1.0"
      ]
     },
     "execution_count": 14,
     "metadata": {},
     "output_type": "execute_result"
    }
   ],
   "source": [
    "mandel.stability(0.25)"
   ]
  },
  {
   "cell_type": "code",
   "execution_count": 16,
   "id": "c61f094b-cc31-40ae-918a-9ae2c286abd8",
   "metadata": {
    "tags": []
   },
   "outputs": [
    {
     "data": {
      "text/plain": [
       "True"
      ]
     },
     "execution_count": 16,
     "metadata": {},
     "output_type": "execute_result"
    }
   ],
   "source": [
    "mandel.__cont__(0.25)"
   ]
  },
  {
   "cell_type": "code",
   "execution_count": 19,
   "id": "576033fe-1efb-4b59-ba41-51ebd142e521",
   "metadata": {
    "tags": []
   },
   "outputs": [
    {
     "data": {
      "text/plain": [
       "29"
      ]
     },
     "execution_count": 19,
     "metadata": {},
     "output_type": "execute_result"
    }
   ],
   "source": [
    "mandel.esc_count(0.26)\n",
    "#mandel.stability(0.26)\n",
    "#mandel.__cont__(0.26)"
   ]
  },
  {
   "cell_type": "code",
   "execution_count": 29,
   "id": "0112654c-5939-47a1-9f6d-83bada9b265e",
   "metadata": {
    "tags": []
   },
   "outputs": [],
   "source": [
    "mandel=ConjMandelbrot(max_iter=20)\n",
    "w,h=512,512\n",
    "scale=0.0075\n",
    "im=Image.new(mode=\"L\",size=(w,h))\n",
    "for y in range(h):\n",
    "    for x in range(w):\n",
    "        c=scale*complex(x-w/2,h/2-y)\n",
    "        instability = 1-mandel.stability(c)\n",
    "        im.putpixel((x,y),int(instability * 255)  )\n"
   ]
  },
  {
   "cell_type": "code",
   "execution_count": 30,
   "id": "767b53f3-5c26-4fec-8443-0ed3c330b055",
   "metadata": {
    "tags": []
   },
   "outputs": [],
   "source": [
    "im.show()"
   ]
  },
  {
   "cell_type": "code",
   "execution_count": 44,
   "id": "ee281bc8-1df9-46f8-bbca-4d04a7457a8f",
   "metadata": {
    "tags": []
   },
   "outputs": [],
   "source": [
    "from math import log\n",
    "@dataclass\n",
    "class ConjMandelbrot:\n",
    "    max_iter:int\n",
    "    radio_esc:float\n",
    "    def __cont__(self,c):\n",
    "        return self.stability(c)==1\n",
    "    def stability(self,c,smooth=False,clamp=True):\n",
    "        value = self.esc_count(c,smooth)/self.max_iter\n",
    "        return max(0.,min(value,1.)) if clamp else value\n",
    "    def esc_count(self,c,smooth=False):\n",
    "        z=0\n",
    "        for i in range(self.max_iter):\n",
    "            z=z**2+c\n",
    "            if abs(z)>self.radio_esc:\n",
    "                if smooth:\n",
    "                    return i +1-log(log(abs(z)))/log(2)\n",
    "                return i\n",
    "        return self.max_iter\n"
   ]
  },
  {
   "cell_type": "code",
   "execution_count": null,
   "id": "6dcc7243-7b79-4c95-80ec-2c45b15beded",
   "metadata": {},
   "outputs": [],
   "source": []
  },
  {
   "cell_type": "code",
   "execution_count": 32,
   "id": "fe6c8f8b-faa5-4074-a1e4-5db0dbb3f439",
   "metadata": {
    "tags": []
   },
   "outputs": [],
   "source": [
    "@dataclass\n",
    "class ViewPort:\n",
    "    image: Image.Image\n",
    "    center:complex\n",
    "    width:float\n",
    "    @property\n",
    "    def height(self):\n",
    "        return self.scale*self.image.height\n",
    "    @property\n",
    "    def offset(self):\n",
    "        return self.center+complex(-self.width, self.height)/2\n",
    "    @property\n",
    "    def scale(self):\n",
    "        return self.width/self.image.width\n",
    "    \n",
    "    def __iter__(self):\n",
    "        for y in range(self.image.height):\n",
    "            for x in range(self.image.width):\n",
    "                yield Pixel(self,x,y)\n",
    "    \n"
   ]
  },
  {
   "cell_type": "code",
   "execution_count": 34,
   "id": "82226554-63f1-457b-8b0a-5ba55f8d551c",
   "metadata": {
    "tags": []
   },
   "outputs": [],
   "source": [
    "@dataclass\n",
    "class Pixel:\n",
    "    viewport:ViewPort\n",
    "    x:int\n",
    "    y:int\n",
    "    \n",
    "    @property\n",
    "    def color(self):\n",
    "        return self.viewport.image.getpixel((self.x,self.y))\n",
    "    @color.setter\n",
    "    def color(self,value):\n",
    "        self.viewport.image.putpixel((self.x,self.y),value)\n",
    "    \n",
    "    def __complex__(self):\n",
    "        return ( complex(self.x,self.y)*self.viewport.scale+self.viewport.offset)\n",
    "    "
   ]
  },
  {
   "cell_type": "code",
   "execution_count": 49,
   "id": "883905b8-26c4-4ce1-b823-92c684ec0bea",
   "metadata": {
    "tags": []
   },
   "outputs": [],
   "source": [
    "mandel=ConjMandelbrot(max_iter=256,radio_esc=1000)\n",
    "image=Image.new(mode='L',size=(980,980))\n",
    "for pixel in ViewPort(image,center=-0.7435+0.1314j,width=0.002):\n",
    "    c=complex(pixel)\n",
    "    instability=1-mandel.stability(c,smooth=True)\n",
    "    pixel.color=int(instability*255)\n",
    "    "
   ]
  },
  {
   "cell_type": "code",
   "execution_count": 50,
   "id": "746d5f31-a02c-4977-9447-8db83d2825cc",
   "metadata": {
    "tags": []
   },
   "outputs": [],
   "source": [
    "image.show()"
   ]
  },
  {
   "cell_type": "code",
   "execution_count": 63,
   "id": "15409bb6-0305-4a78-8964-7e8bb0f45b90",
   "metadata": {
    "tags": []
   },
   "outputs": [],
   "source": [
    "def paint(mandel,viewport,palette,smooth):\n",
    "    for pixel in viewport:\n",
    "        stability=mandel.stability(complex(pixel),smooth)\n",
    "        index=int(min(stability*len(palette),len(palette) -1))\n",
    "        pixel.color=palette[index % len(palette)]\n",
    "                  "
   ]
  },
  {
   "cell_type": "code",
   "execution_count": 64,
   "id": "3129de41-8350-4abb-b8e5-2024486f95a8",
   "metadata": {
    "tags": []
   },
   "outputs": [
    {
     "name": "stderr",
     "output_type": "stream",
     "text": [
      "<ipython-input-64-04f7e07551e7>:6: MatplotlibDeprecationWarning: The get_cmap function was deprecated in Matplotlib 3.7 and will be removed two minor releases later. Use ``matplotlib.colormaps[name]`` or ``matplotlib.colormaps.get_cmap(obj)`` instead.\n",
      "  colormap=matplotlib.cm.get_cmap(\"twilight\").colors\n"
     ]
    }
   ],
   "source": [
    "import matplotlib.cm\n",
    "\n",
    "def denormalize(palette):\n",
    "    return [tuple(int(channel * 255) for channel in color) for color in palette]\n",
    "\n",
    "colormap=matplotlib.cm.get_cmap(\"twilight\").colors\n",
    "palette=denormalize(colormap)\n"
   ]
  },
  {
   "cell_type": "code",
   "execution_count": 67,
   "id": "bd789aa2-8ef8-4254-86ec-7c506188077c",
   "metadata": {
    "tags": []
   },
   "outputs": [],
   "source": [
    "image=Image.new(mode='RGB',size=(950,950))\n",
    "viewport=ViewPort(image,center=-0.7435+0.1314j,width=0.002)\n",
    "paint(mandel,viewport,palette,smooth=True)\n",
    "image.show()"
   ]
  },
  {
   "cell_type": "code",
   "execution_count": null,
   "id": "c2d7ce86-a39e-4303-a913-54281b4eb862",
   "metadata": {},
   "outputs": [],
   "source": []
  }
 ],
 "metadata": {
  "kernelspec": {
   "display_name": "Python 3",
   "language": "python",
   "name": "python3"
  },
  "language_info": {
   "codemirror_mode": {
    "name": "ipython",
    "version": 3
   },
   "file_extension": ".py",
   "mimetype": "text/x-python",
   "name": "python",
   "nbconvert_exporter": "python",
   "pygments_lexer": "ipython3",
   "version": "3.9.2"
  }
 },
 "nbformat": 4,
 "nbformat_minor": 5
}
