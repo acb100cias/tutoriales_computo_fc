{
 "cells": [
  {
   "cell_type": "code",
   "execution_count": 1,
   "id": "61d48fa3-d648-4a54-a1e1-f1611089fca7",
   "metadata": {
    "tags": []
   },
   "outputs": [],
   "source": [
    "import numpy as np\n",
    "import numpy_financial as npf"
   ]
  },
  {
   "cell_type": "markdown",
   "id": "c2fafe21-06ce-4d59-9ef0-32b616f9b36d",
   "metadata": {},
   "source": [
    "# Bonos"
   ]
  },
  {
   "cell_type": "markdown",
   "id": "7f586e45-0a0e-4960-ba53-06356fdb0ce4",
   "metadata": {},
   "source": [
    "## Precio\n"
   ]
  },
  {
   "cell_type": "code",
   "execution_count": 11,
   "id": "0e87d34d-a520-4c23-8ed8-7c3c5ca8e8f5",
   "metadata": {
    "tags": []
   },
   "outputs": [],
   "source": [
    "def precio_bono(tiempo,flujo,r):\n",
    "    p=0\n",
    "    for i in range(len(tiempo)):\n",
    "        p+=flujo[i]/(1+r)**(tiempo[i])\n",
    "    return p"
   ]
  },
  {
   "cell_type": "code",
   "execution_count": 12,
   "id": "6d192f8e-3e27-48e4-866b-26f79c0f3de1",
   "metadata": {
    "tags": []
   },
   "outputs": [],
   "source": [
    "f=np.array([10,10,110])\n",
    "t=np.arange(1,4)\n",
    "r=0.09\n",
    "d=(1/(1+r)**t)\n",
    "B=np.round(np.sum(d*f),2)"
   ]
  },
  {
   "cell_type": "code",
   "execution_count": 13,
   "id": "c31de264-59c4-49cd-9e02-64b1b4129663",
   "metadata": {
    "tags": []
   },
   "outputs": [
    {
     "name": "stdout",
     "output_type": "stream",
     "text": [
      "El precio del bono es:102.53\n"
     ]
    }
   ],
   "source": [
    "precio=precio_bono(t,f,r)\n",
    "print(f'El precio del bono es:{precio:.2f}')"
   ]
  },
  {
   "cell_type": "markdown",
   "id": "97e84a99-5ecc-4971-991f-47d666e7289d",
   "metadata": {},
   "source": [
    "## Beneficio"
   ]
  },
  {
   "cell_type": "code",
   "execution_count": 32,
   "id": "603792de-9c70-4612-a9a7-f2856d888a74",
   "metadata": {
    "tags": []
   },
   "outputs": [],
   "source": [
    "def beneficio_bono(tiempo,flujo,precio):\n",
    "    A=1e-5\n",
    "    M=200\n",
    "    ini=0\n",
    "    fin=1\n",
    "    r=0.5*(fin+ini)\n",
    "    while precio_bono(tiempo,flujo,r) > precio:\n",
    "        fin=fin*2\n",
    "        for k in range(M):\n",
    "            diff=precio_bono(tiempo,flujo,r)-precio\n",
    "            if np.abs(diff)<A:\n",
    "                return r\n",
    "            if diff > 0:\n",
    "                fin = r\n",
    "            else:\n",
    "                ini = r\n",
    "            r=0.5*(ini+fin)\n",
    "    return r\n",
    "            \n",
    "    \n"
   ]
  },
  {
   "cell_type": "code",
   "execution_count": 18,
   "id": "9ea6fe89-effa-492b-9b6a-ab61d4f15c78",
   "metadata": {
    "tags": []
   },
   "outputs": [],
   "source": [
    "b=np.round(np.sum(f*(1/(1+r)**t)),2)"
   ]
  },
  {
   "cell_type": "code",
   "execution_count": 19,
   "id": "f0dc642d-b0c5-432b-8bac-df8f3a6688a7",
   "metadata": {
    "tags": []
   },
   "outputs": [
    {
     "data": {
      "text/plain": [
       "102.53"
      ]
     },
     "execution_count": 19,
     "metadata": {},
     "output_type": "execute_result"
    }
   ],
   "source": [
    "b"
   ]
  },
  {
   "cell_type": "code",
   "execution_count": 35,
   "id": "1e3f232d-94ad-42ab-9508-ece0a137dbc8",
   "metadata": {
    "tags": []
   },
   "outputs": [
    {
     "name": "stdout",
     "output_type": "stream",
     "text": [
      "Tasa de beneficio es :0.50\n"
     ]
    }
   ],
   "source": [
    "#r=0.09\n",
    "ben=beneficio_bono(t,f,b)\n",
    "print(f'Tasa de beneficio es :{ben:.2f}')"
   ]
  },
  {
   "cell_type": "markdown",
   "id": "a7fec361-c0c8-41ae-b3cb-943c9a629aff",
   "metadata": {},
   "source": [
    "# Clase Bono"
   ]
  },
  {
   "cell_type": "code",
   "execution_count": 36,
   "id": "a260373a-c134-4b35-8203-68a2c535b68d",
   "metadata": {
    "tags": []
   },
   "outputs": [],
   "source": [
    "class Bono:\n",
    "    def get_vp(self,flujo,tasa,madurez):\n",
    "        vp=flujo/(1+tasa)**madurez\n",
    "        return vp\n",
    "    def get_ben(self,flujo,vp,madurez):\n",
    "        ben=(flujo/vp)**(1/madurez)-1\n",
    "        return ben\n",
    "    "
   ]
  },
  {
   "cell_type": "code",
   "execution_count": 37,
   "id": "bdd8395d-7ea1-45e2-8620-22ae5951456a",
   "metadata": {
    "tags": []
   },
   "outputs": [],
   "source": [
    "calc=Bono()"
   ]
  },
  {
   "cell_type": "code",
   "execution_count": 39,
   "id": "d5b64341-5e66-4965-b35b-9d6b5678861b",
   "metadata": {
    "tags": []
   },
   "outputs": [
    {
     "data": {
      "text/plain": [
       "0.019800194360956258"
      ]
     },
     "execution_count": 39,
     "metadata": {},
     "output_type": "execute_result"
    }
   ],
   "source": [
    "calc.get_ben(110,105.77,2)"
   ]
  },
  {
   "cell_type": "code",
   "execution_count": 42,
   "id": "5ff72a9a-2cb5-4325-be97-6c9e716fab39",
   "metadata": {
    "tags": []
   },
   "outputs": [
    {
     "data": {
      "text/plain": [
       "105.7285659361784"
      ]
     },
     "execution_count": 42,
     "metadata": {},
     "output_type": "execute_result"
    }
   ],
   "source": [
    "calc.get_vp(110,0.02,2)"
   ]
  },
  {
   "cell_type": "code",
   "execution_count": 60,
   "id": "df7a3b01-5064-42df-be0e-8c559d63c5ca",
   "metadata": {
    "tags": []
   },
   "outputs": [],
   "source": [
    "class BonoDesc():\n",
    "    def get_vp(self,C,tasa,periodos):\n",
    "        vp=C/(1+tasa)**periodos\n",
    "        return np.round(vp,2)\n",
    "    @staticmethod\n",
    "    def get_ben(precio,C,periodos):\n",
    "        ben=(C/precio)**(1/periodos)-1\n",
    "        return np.round(ben,2)"
   ]
  },
  {
   "cell_type": "code",
   "execution_count": 61,
   "id": "65c17d7f-360e-4a48-bcef-af9d740304ec",
   "metadata": {
    "tags": []
   },
   "outputs": [],
   "source": [
    "descal=BonoDesc()"
   ]
  },
  {
   "cell_type": "code",
   "execution_count": 62,
   "id": "cb36f79e-2c5e-4e39-8ed8-3a2cdf18fbbf",
   "metadata": {
    "tags": []
   },
   "outputs": [
    {
     "data": {
      "text/plain": [
       "48.1"
      ]
     },
     "execution_count": 62,
     "metadata": {},
     "output_type": "execute_result"
    }
   ],
   "source": [
    "descal.get_vp(100,0.05,15)"
   ]
  },
  {
   "cell_type": "code",
   "execution_count": 63,
   "id": "2b0997d4-4fed-4b65-99f3-c5e30e3b5c0f",
   "metadata": {
    "tags": []
   },
   "outputs": [
    {
     "data": {
      "text/plain": [
       "0.05"
      ]
     },
     "execution_count": 63,
     "metadata": {},
     "output_type": "execute_result"
    }
   ],
   "source": [
    "descal.get_ben(48.1,100,15)"
   ]
  },
  {
   "cell_type": "code",
   "execution_count": null,
   "id": "c29be718-7bb3-41bc-9ccb-c599cb015620",
   "metadata": {},
   "outputs": [],
   "source": []
  }
 ],
 "metadata": {
  "kernelspec": {
   "display_name": "Python 3",
   "language": "python",
   "name": "python3"
  },
  "language_info": {
   "codemirror_mode": {
    "name": "ipython",
    "version": 3
   },
   "file_extension": ".py",
   "mimetype": "text/x-python",
   "name": "python",
   "nbconvert_exporter": "python",
   "pygments_lexer": "ipython3",
   "version": "3.9.2"
  }
 },
 "nbformat": 4,
 "nbformat_minor": 5
}
