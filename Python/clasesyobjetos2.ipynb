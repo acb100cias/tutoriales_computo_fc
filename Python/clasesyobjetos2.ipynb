
In [1]:
class Punto:
    def __init__(self):
        self.x=0
        self.y=0

In [2]:
q=Punto()
r=Punto()
print(q.x,q.y,r.x,r.y)

0 0 0 0


In [3]:
q.x=3
q.y=4
print(q.x,q.y)
3 4


In [4]:
class Punto:
    def __init__(self,x,y):
        self.x=x
        self.y=y
        

In [29]:
q=Punto(3,4)
r=Punto(0,1)

In [7]:
print(q.x,q.y,r.x,r.y)
3 4 0 1


In [28]:
class Punto:
    def __init__(self,x,y):
        self.x=x
        self.y=y
    def ne(self):
        return ((self.x**2)+(self.y**2))**0.5
    def info(self):
        return "({0}, {1})".format(self.x,self.y)
    def PM(self,blanco):
            mx=(self.x+blanco.x)/2
            my=(self.y+blanco.y)/2
            return Punto(mx,my)
        
        


In [22]:
q.info()
Out [22]:
'(3, 4)'

In [23]:
def pm(p1,p2):
    mx=(p1.x+p2.x)/2
    my=(p1.y+p2.y)/2
    return Punto(mx,my)

In [25]:
s=pm(q,r)

In [27]:
s.info()
Out [27]:
'(1.5, 2.5)'

In [31]:
s1=q.PM(r)

In [32]:
s1.info()
Out [32]:
'(1.5, 2.5)'

In [34]:
from numpy import *
from matplotlib.pyplot import *

In [40]:
class Punto:
    def __init__(self,x,y):
        self.x=x
        self.y=y
    def ne(self):
        return ((self.x**2)+(self.y**2))**0.5
    def info(self):
        return "({0}, {1})".format(self.x,self.y)
    def PM(self,blanco):
        mx=(self.x+blanco.x)/2
        my=(self.y+blanco.y)/2
        return Punto(mx,my)
    def gr(self):
        return plot(self.x,self.y,'o')

In [43]:
p=Punto(2,3)
q=Punto(2,4)

In [44]:
p.gr()
q.gr()
Out [44]:
[<matplotlib.lines.Line2D at 0x7fe84c72dc70>]
 

In [45]:
r=p.PM(q)

In [46]:
p.gr()
q.gr()
r.gr()
Out [46]:
[<matplotlib.lines.Line2D at 0x7fe84c6a65b0>]
 

In [ ]:


