{
 "cells": [
  {
   "cell_type": "code",
   "execution_count": 1,
   "id": "235ec2ce-738b-478c-acab-7d4dff14dee8",
   "metadata": {
    "tags": []
   },
   "outputs": [],
   "source": [
    "import numpy as np"
   ]
  },
  {
   "cell_type": "code",
   "execution_count": 2,
   "id": "8c4905e8-fdda-4e5f-bf69-952bc352e45e",
   "metadata": {
    "tags": []
   },
   "outputs": [],
   "source": [
    "L=[1,2,3,4,5,6,7]"
   ]
  },
  {
   "cell_type": "code",
   "execution_count": 49,
   "id": "0e3fbd10-0d18-4961-9fcf-b1338c7e89fc",
   "metadata": {
    "tags": []
   },
   "outputs": [],
   "source": [
    "A=np.array(L)"
   ]
  },
  {
   "cell_type": "code",
   "execution_count": 5,
   "id": "209b336c-4c30-479d-a07c-48199d6303d5",
   "metadata": {
    "tags": []
   },
   "outputs": [
    {
     "data": {
      "text/plain": [
       "numpy.ndarray"
      ]
     },
     "execution_count": 5,
     "metadata": {},
     "output_type": "execute_result"
    }
   ],
   "source": [
    "type(A)"
   ]
  },
  {
   "cell_type": "code",
   "execution_count": 6,
   "id": "6985cee7-ed55-4da0-bc14-9b75450172ac",
   "metadata": {
    "tags": []
   },
   "outputs": [
    {
     "data": {
      "text/plain": [
       "list"
      ]
     },
     "execution_count": 6,
     "metadata": {},
     "output_type": "execute_result"
    }
   ],
   "source": [
    "type(L)"
   ]
  },
  {
   "cell_type": "code",
   "execution_count": 16,
   "id": "d1fb36af-db47-434f-947e-2edf917e6fa0",
   "metadata": {
    "tags": []
   },
   "outputs": [
    {
     "data": {
      "text/plain": [
       "array([1, 2, 3, 4, 5, 6, 7])"
      ]
     },
     "execution_count": 16,
     "metadata": {},
     "output_type": "execute_result"
    }
   ],
   "source": [
    "A"
   ]
  },
  {
   "cell_type": "code",
   "execution_count": 15,
   "id": "716b7024-6e68-4a5c-99a8-1d2f4c9e66db",
   "metadata": {
    "tags": []
   },
   "outputs": [
    {
     "data": {
      "text/plain": [
       "array([ 1,  3,  6, 10, 15, 21, 28])"
      ]
     },
     "execution_count": 15,
     "metadata": {},
     "output_type": "execute_result"
    }
   ],
   "source": [
    "A.cumsum()"
   ]
  },
  {
   "cell_type": "code",
   "execution_count": 17,
   "id": "048bd444-6a57-4a7a-badb-d45f18aaf952",
   "metadata": {
    "tags": []
   },
   "outputs": [
    {
     "data": {
      "text/plain": [
       "28"
      ]
     },
     "execution_count": 17,
     "metadata": {},
     "output_type": "execute_result"
    }
   ],
   "source": [
    "A.sum()"
   ]
  },
  {
   "cell_type": "code",
   "execution_count": 18,
   "id": "5b9b70e1-b29c-4b78-9ff3-5893fcafccbb",
   "metadata": {
    "tags": []
   },
   "outputs": [
    {
     "data": {
      "text/plain": [
       "1"
      ]
     },
     "execution_count": 18,
     "metadata": {},
     "output_type": "execute_result"
    }
   ],
   "source": [
    "A.min()"
   ]
  },
  {
   "cell_type": "code",
   "execution_count": 19,
   "id": "102edeb8-e7ea-4691-b5ab-43b4f32853dd",
   "metadata": {
    "tags": []
   },
   "outputs": [
    {
     "data": {
      "text/plain": [
       "7"
      ]
     },
     "execution_count": 19,
     "metadata": {},
     "output_type": "execute_result"
    }
   ],
   "source": [
    "A.max()"
   ]
  },
  {
   "cell_type": "code",
   "execution_count": 20,
   "id": "6dfffd39-31d4-471a-9c89-08ae99be49f5",
   "metadata": {
    "tags": []
   },
   "outputs": [
    {
     "data": {
      "text/plain": [
       "4.0"
      ]
     },
     "execution_count": 20,
     "metadata": {},
     "output_type": "execute_result"
    }
   ],
   "source": [
    "A.mean()"
   ]
  },
  {
   "cell_type": "code",
   "execution_count": 21,
   "id": "9a5f91b4-21ea-46bd-b195-e90ca785d0c0",
   "metadata": {
    "tags": []
   },
   "outputs": [
    {
     "data": {
      "text/plain": [
       "5040"
      ]
     },
     "execution_count": 21,
     "metadata": {},
     "output_type": "execute_result"
    }
   ],
   "source": [
    "A.prod()"
   ]
  },
  {
   "cell_type": "code",
   "execution_count": 24,
   "id": "80bb4d67-a2f6-4937-9055-f2f692afc71d",
   "metadata": {
    "tags": []
   },
   "outputs": [
    {
     "data": {
      "text/plain": [
       "7"
      ]
     },
     "execution_count": 24,
     "metadata": {},
     "output_type": "execute_result"
    }
   ],
   "source": [
    "len(A)"
   ]
  },
  {
   "cell_type": "code",
   "execution_count": 76,
   "id": "0ee33123-e2ef-4cae-bcda-f1b2bc48f9fe",
   "metadata": {
    "tags": []
   },
   "outputs": [],
   "source": [
    "A"
   ]
  },
  {
   "cell_type": "code",
   "execution_count": 68,
   "id": "1456d4ec-ab8d-406b-b83b-f52ede2de6e1",
   "metadata": {
    "tags": []
   },
   "outputs": [],
   "source": [
    "A2=np.resize(A,8)"
   ]
  },
  {
   "cell_type": "code",
   "execution_count": 70,
   "id": "7aee8747-83ef-4e5c-b96b-214c6d72c605",
   "metadata": {
    "tags": []
   },
   "outputs": [],
   "source": [
    "A2.put(7,8)"
   ]
  },
  {
   "cell_type": "code",
   "execution_count": 71,
   "id": "29ad974d-a32a-428e-9519-2b44e3e631cc",
   "metadata": {
    "tags": []
   },
   "outputs": [
    {
     "data": {
      "text/plain": [
       "array([1, 2, 3, 4, 5, 6, 7, 8])"
      ]
     },
     "execution_count": 71,
     "metadata": {},
     "output_type": "execute_result"
    }
   ],
   "source": [
    "A2"
   ]
  },
  {
   "cell_type": "code",
   "execution_count": 73,
   "id": "ae2e6b9b-660b-422e-82d1-a553ab6b6afc",
   "metadata": {
    "tags": []
   },
   "outputs": [],
   "source": [
    "A=np.resize(A,8).put(7,8)"
   ]
  },
  {
   "cell_type": "code",
   "execution_count": 87,
   "id": "36da3099-d3eb-4253-a451-b12b5e4b4305",
   "metadata": {
    "tags": []
   },
   "outputs": [],
   "source": [
    "A3=np.array([[2,3,6],[4,6,8],[2,4,3]])"
   ]
  },
  {
   "cell_type": "code",
   "execution_count": 91,
   "id": "470f8337-918d-4101-b2fb-855a752b205f",
   "metadata": {
    "tags": []
   },
   "outputs": [],
   "source": [
    "A=np.array(8)"
   ]
  },
  {
   "cell_type": "code",
   "execution_count": 92,
   "id": "3ae09acf-82c3-4bd8-8c84-ef39b38c0261",
   "metadata": {
    "tags": []
   },
   "outputs": [
    {
     "data": {
      "text/plain": [
       "0"
      ]
     },
     "execution_count": 92,
     "metadata": {},
     "output_type": "execute_result"
    }
   ],
   "source": [
    "A.ndim"
   ]
  },
  {
   "cell_type": "code",
   "execution_count": 115,
   "id": "806576d5-b92c-42f3-a277-72c337edd6e5",
   "metadata": {
    "tags": []
   },
   "outputs": [],
   "source": [
    "A4=np.ones((2,100))"
   ]
  },
  {
   "cell_type": "code",
   "execution_count": 116,
   "id": "3485713c-65c9-4528-80f1-2383d3362eb5",
   "metadata": {
    "tags": []
   },
   "outputs": [
    {
     "data": {
      "text/plain": [
       "array([[1., 1., 1., 1., 1., 1., 1., 1., 1., 1., 1., 1., 1., 1., 1., 1.,\n",
       "        1., 1., 1., 1., 1., 1., 1., 1., 1., 1., 1., 1., 1., 1., 1., 1.,\n",
       "        1., 1., 1., 1., 1., 1., 1., 1., 1., 1., 1., 1., 1., 1., 1., 1.,\n",
       "        1., 1., 1., 1., 1., 1., 1., 1., 1., 1., 1., 1., 1., 1., 1., 1.,\n",
       "        1., 1., 1., 1., 1., 1., 1., 1., 1., 1., 1., 1., 1., 1., 1., 1.,\n",
       "        1., 1., 1., 1., 1., 1., 1., 1., 1., 1., 1., 1., 1., 1., 1., 1.,\n",
       "        1., 1., 1., 1.],\n",
       "       [1., 1., 1., 1., 1., 1., 1., 1., 1., 1., 1., 1., 1., 1., 1., 1.,\n",
       "        1., 1., 1., 1., 1., 1., 1., 1., 1., 1., 1., 1., 1., 1., 1., 1.,\n",
       "        1., 1., 1., 1., 1., 1., 1., 1., 1., 1., 1., 1., 1., 1., 1., 1.,\n",
       "        1., 1., 1., 1., 1., 1., 1., 1., 1., 1., 1., 1., 1., 1., 1., 1.,\n",
       "        1., 1., 1., 1., 1., 1., 1., 1., 1., 1., 1., 1., 1., 1., 1., 1.,\n",
       "        1., 1., 1., 1., 1., 1., 1., 1., 1., 1., 1., 1., 1., 1., 1., 1.,\n",
       "        1., 1., 1., 1.]])"
      ]
     },
     "execution_count": 116,
     "metadata": {},
     "output_type": "execute_result"
    }
   ],
   "source": [
    "A4"
   ]
  },
  {
   "cell_type": "code",
   "execution_count": 122,
   "id": "62973190-d25e-4162-af97-002af389c1ea",
   "metadata": {
    "tags": []
   },
   "outputs": [
    {
     "data": {
      "text/plain": [
       "array([-10.  ,  -9.99,  -9.98, ...,   9.97,   9.98,   9.99])"
      ]
     },
     "execution_count": 122,
     "metadata": {},
     "output_type": "execute_result"
    }
   ],
   "source": [
    "np.arange(-10,10,0.01)"
   ]
  },
  {
   "cell_type": "code",
   "execution_count": null,
   "id": "851c843a-ba25-4c37-b713-419aa54ac852",
   "metadata": {},
   "outputs": [],
   "source": []
  }
 ],
 "metadata": {
  "kernelspec": {
   "display_name": "Python 3",
   "language": "python",
   "name": "python3"
  },
  "language_info": {
   "codemirror_mode": {
    "name": "ipython",
    "version": 3
   },
   "file_extension": ".py",
   "mimetype": "text/x-python",
   "name": "python",
   "nbconvert_exporter": "python",
   "pygments_lexer": "ipython3",
   "version": "3.9.2"
  }
 },
 "nbformat": 4,
 "nbformat_minor": 5
}
