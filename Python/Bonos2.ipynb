{
 "cells": [
  {
   "cell_type": "markdown",
   "id": "dfd4b35d-115d-42fa-942d-c7b978ceaa85",
   "metadata": {},
   "source": [
    "# Bootstrap y Curvas de beneficio"
   ]
  },
  {
   "cell_type": "code",
   "execution_count": 1,
   "id": "fae7f381-332c-4b8b-bc0d-be5c2270b566",
   "metadata": {
    "tags": []
   },
   "outputs": [],
   "source": [
    "import math as m\n",
    "import numpy as np"
   ]
  },
  {
   "cell_type": "code",
   "execution_count": 29,
   "id": "08f362c1-c662-45fa-b4f0-80b4005f4602",
   "metadata": {
    "tags": []
   },
   "outputs": [],
   "source": [
    "class BootsrapYieldCurve():\n",
    "    def __init__(self):\n",
    "        self.zero_rates=dict()\n",
    "        self.instruments=dict()\n",
    "    def add_instrument(self,par,T,coup,price,comp_freq=2):\n",
    "        self.instruments[T]=(par,coup,price,comp_freq)\n",
    "    def get_ZeroRates(self):\n",
    "        self.__bootstrapZeroCoupons__()\n",
    "        self.__get_bond_spot_rates__()\n",
    "        return [self.zero_rates[T] for T in self.get_maturities()]\n",
    "    def get_maturities(self):\n",
    "        return sorted(self.instruments.keys())\n",
    "    def __bootstrapZeroCoupons__(self):\n",
    "        for T in self.instruments.keys():\n",
    "            (par,coup,price,freq)=self.instruments[T]\n",
    "            if coup == 0:\n",
    "                self.zero_rates[T] = self.zero_coupon_spot_rate(par,price,T)\n",
    "    def __get_bond_spot_rates__(self):\n",
    "        for T in self.get_maturities():\n",
    "            instrument=self.instruments[T]\n",
    "            (par,coup,price,freq)=instrument\n",
    "            if coup !=0:\n",
    "                self.zero_rates[T]=self.__calculate_bond_spot_rate__(T,instrument)\n",
    "    def __calculate_bond_spot_rate__(self,T,instrument):\n",
    "        try:\n",
    "            (par,coup,price,freq)= instrument\n",
    "            periods=T*freq\n",
    "            value=price\n",
    "            per_coupon=coup/freq\n",
    "            for i in range(int(periods)-1):\n",
    "                t=(i+1)/float(freq)\n",
    "                spot_rate=self.zero_rates[t]\n",
    "                discounted_coupon=per_coupon * np.exp(-spot_rate*t)\n",
    "                value-=discounted_coupon\n",
    "            last_period=int(periods)/float(freq)\n",
    "            spot_rate=np.log(value/(par+per_coupon))/last_period\n",
    "            return spot_rate\n",
    "\n",
    "        except:\n",
    "            print(\"No pudo calcularse la tasa\")\n",
    "    def zero_coupon_spot_rate(self,par,price,T):\n",
    "        spot_rate=np.log(par/price)/T\n",
    "        return spot_rate\n",
    "    "
   ]
  },
  {
   "cell_type": "code",
   "execution_count": 30,
   "id": "51bbc197-b953-4c83-86d5-1b05b430abf9",
   "metadata": {
    "tags": []
   },
   "outputs": [],
   "source": [
    "yield_curve=BootsrapYieldCurve()"
   ]
  },
  {
   "cell_type": "code",
   "execution_count": 31,
   "id": "9795d02f-58ed-423e-a746-88a9a2829553",
   "metadata": {
    "tags": []
   },
   "outputs": [],
   "source": [
    "yield_curve.add_instrument(100,0.25,0.,97.5)\n",
    "yield_curve.add_instrument(100,0.5,0.,94.9)\n",
    "yield_curve.add_instrument(100,1,0.,90)\n",
    "yield_curve.add_instrument(100,1.5,8,96,2)\n",
    "yield_curve.add_instrument(100,2,12,101.6,2)"
   ]
  },
  {
   "cell_type": "code",
   "execution_count": 32,
   "id": "f40803f3-d236-4fcb-836a-e0090c5bd156",
   "metadata": {
    "tags": []
   },
   "outputs": [],
   "source": [
    "y=yield_curve.get_ZeroRates()\n",
    "x=yield_curve.get_maturities()"
   ]
  },
  {
   "cell_type": "code",
   "execution_count": 33,
   "id": "346a86dd-15e1-4560-8541-808391ab6c5f",
   "metadata": {
    "tags": []
   },
   "outputs": [
    {
     "data": {
      "text/plain": [
       "[<matplotlib.lines.Line2D at 0x7f943a3e8b80>]"
      ]
     },
     "execution_count": 33,
     "metadata": {},
     "output_type": "execute_result"
    },
    {
     "data": {
      "image/png": "[encoded data removed]",
      "text/plain": [
       "<Figure size 432x288 with 1 Axes>"
      ]
     },
     "metadata": {
      "needs_background": "light"
     },
     "output_type": "display_data"
    }
   ],
   "source": [
    "from matplotlib.pyplot import plot\n",
    "plot(x,y)"
   ]
  },
  {
   "cell_type": "markdown",
   "id": "64eb1cf6-9a09-4fe6-b2cd-6e2754cc2c16",
   "metadata": {},
   "source": [
    "# Tasas Forward"
   ]
  },
  {
   "cell_type": "code",
   "execution_count": 38,
   "id": "c6717e85-042c-4f82-bba6-b008d39269f7",
   "metadata": {
    "tags": []
   },
   "outputs": [],
   "source": [
    "class ForwardRates(object):\n",
    "    def __init__(self):\n",
    "        self.forward_rates=[]\n",
    "        self.spot_rates=dict()\n",
    "    def add_spot_rate(self,T,spot_rate):\n",
    "        self.spot_rates[T]=spot_rate\n",
    "    def __calculate_forward_rate__(self,T1,T2):\n",
    "        R1=self.spot_rates[T1]\n",
    "        R2=self.spot_rates[T2]\n",
    "        forward_rate=(R2*T2-R1*T1)/T2-T1\n",
    "        return forward_rate\n",
    "    def get_forward_rates(self):\n",
    "        periods=sorted(self.spot_rates.keys())\n",
    "        for T2,T1 in zip(periods,periods[1:]):\n",
    "            forward_rate=self.__calculate_forward_rate__(T1,T2)\n",
    "            self.forward_rates.append(np.round(forward_rate,2))\n",
    "        return self.forward_rates"
   ]
  },
  {
   "cell_type": "code",
   "execution_count": 39,
   "id": "8e23dc06-fe13-408c-95db-fb885f07ae01",
   "metadata": {
    "tags": []
   },
   "outputs": [],
   "source": [
    "fr=ForwardRates()"
   ]
  },
  {
   "cell_type": "code",
   "execution_count": 40,
   "id": "acb9b9ea-f30b-4b42-a377-44e30182a2ca",
   "metadata": {
    "tags": []
   },
   "outputs": [],
   "source": [
    "fr.add_spot_rate(0.25,10.127)\n",
    "fr.add_spot_rate(0.5,10.469)\n",
    "fr.add_spot_rate(1,10.536)\n",
    "fr.add_spot_rate(1.5,10.681)\n",
    "fr.add_spot_rate(2,10.8)"
   ]
  },
  {
   "cell_type": "code",
   "execution_count": 41,
   "id": "e6355129-42d8-42df-a77e-4baff722f563",
   "metadata": {
    "tags": []
   },
   "outputs": [
    {
     "data": {
      "text/plain": [
       "[-11.31, -11.6, -6.99, -5.72]"
      ]
     },
     "execution_count": 41,
     "metadata": {},
     "output_type": "execute_result"
    }
   ],
   "source": [
    "fr.get_forward_rates()"
   ]
  },
  {
   "cell_type": "code",
   "execution_count": null,
   "id": "08377bb0-3275-4997-87f6-9a3522351793",
   "metadata": {},
   "outputs": [],
   "source": []
  }
 ],
 "metadata": {
  "kernelspec": {
   "display_name": "Python 3",
   "language": "python",
   "name": "python3"
  },
  "language_info": {
   "codemirror_mode": {
    "name": "ipython",
    "version": 3
   },
   "file_extension": ".py",
   "mimetype": "text/x-python",
   "name": "python",
   "nbconvert_exporter": "python",
   "pygments_lexer": "ipython3",
   "version": "3.9.2"
  }
 },
 "nbformat": 4,
 "nbformat_minor": 5
}
