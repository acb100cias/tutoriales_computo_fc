{
 "cells": [
  {
   "cell_type": "code",
   "execution_count": 1,
   "id": "c7ce5e85-0e9d-43b8-a10f-c367adf05998",
   "metadata": {
    "tags": []
   },
   "outputs": [],
   "source": [
    "import numpy as np"
   ]
  },
  {
   "cell_type": "code",
   "execution_count": 3,
   "id": "9f42a96d-3219-45dd-ad7c-9cac5235f790",
   "metadata": {
    "tags": []
   },
   "outputs": [],
   "source": [
    "A=np.array([[2,34,4,5],[3,4,5,9]])"
   ]
  },
  {
   "cell_type": "code",
   "execution_count": 5,
   "id": "d0eb755a-e341-495b-87e9-bc4b1e25d920",
   "metadata": {
    "tags": []
   },
   "outputs": [
    {
     "data": {
      "text/plain": [
       "(2, 4)"
      ]
     },
     "execution_count": 5,
     "metadata": {},
     "output_type": "execute_result"
    }
   ],
   "source": [
    "A.shape"
   ]
  },
  {
   "cell_type": "code",
   "execution_count": 6,
   "id": "16d22e1c-9a75-4c8a-8fad-c186b09d8a1b",
   "metadata": {
    "tags": []
   },
   "outputs": [
    {
     "data": {
      "text/plain": [
       "2"
      ]
     },
     "execution_count": 6,
     "metadata": {},
     "output_type": "execute_result"
    }
   ],
   "source": [
    "A.ndim"
   ]
  },
  {
   "cell_type": "code",
   "execution_count": 9,
   "id": "dcdd1598-e75d-4d1d-bfbe-8aef90878243",
   "metadata": {
    "tags": []
   },
   "outputs": [],
   "source": [
    "A2=np.array([1,2,3,4],ndmin=5)"
   ]
  },
  {
   "cell_type": "code",
   "execution_count": 11,
   "id": "33c0bb96-96df-4cde-8265-c714e9b133fd",
   "metadata": {
    "tags": []
   },
   "outputs": [
    {
     "data": {
      "text/plain": [
       "(1, 1, 1, 1, 4)"
      ]
     },
     "execution_count": 11,
     "metadata": {},
     "output_type": "execute_result"
    }
   ],
   "source": [
    "A2.shape"
   ]
  },
  {
   "cell_type": "code",
   "execution_count": 12,
   "id": "de85b18a-ff34-4995-a6b8-2fef9db9988a",
   "metadata": {
    "tags": []
   },
   "outputs": [],
   "source": [
    "A3=np.array(list(range(200)))"
   ]
  },
  {
   "cell_type": "code",
   "execution_count": 22,
   "id": "49b39d99-0dd8-4e15-861b-8554aefe6711",
   "metadata": {
    "tags": []
   },
   "outputs": [],
   "source": [
    "A4=A3.reshape(5,40)"
   ]
  },
  {
   "cell_type": "code",
   "execution_count": 23,
   "id": "8c2304ab-9f2f-4b6f-9a27-b48d253e0573",
   "metadata": {
    "tags": []
   },
   "outputs": [
    {
     "data": {
      "text/plain": [
       "(200,)"
      ]
     },
     "execution_count": 23,
     "metadata": {},
     "output_type": "execute_result"
    }
   ],
   "source": [
    "A3.shape"
   ]
  },
  {
   "cell_type": "code",
   "execution_count": 24,
   "id": "b5af3695-1d4c-4711-ab42-a0bda9ea5082",
   "metadata": {
    "tags": []
   },
   "outputs": [
    {
     "data": {
      "text/plain": [
       "(5, 40)"
      ]
     },
     "execution_count": 24,
     "metadata": {},
     "output_type": "execute_result"
    }
   ],
   "source": [
    "A4.shape"
   ]
  },
  {
   "cell_type": "code",
   "execution_count": 25,
   "id": "37116b20-2e74-435b-b9f8-fd1d8796f269",
   "metadata": {
    "tags": []
   },
   "outputs": [
    {
     "data": {
      "text/plain": [
       "2"
      ]
     },
     "execution_count": 25,
     "metadata": {},
     "output_type": "execute_result"
    }
   ],
   "source": [
    "A4.ndim"
   ]
  },
  {
   "cell_type": "code",
   "execution_count": 29,
   "id": "5ad71c9d-ac44-4030-8df1-e345a4998d6d",
   "metadata": {
    "tags": []
   },
   "outputs": [],
   "source": [
    "A5=np.array(list(range(12)))"
   ]
  },
  {
   "cell_type": "code",
   "execution_count": 30,
   "id": "abd41aed-7b06-4912-83d7-44eb84cb1fdb",
   "metadata": {
    "tags": []
   },
   "outputs": [
    {
     "data": {
      "text/plain": [
       "array([ 0,  1,  2,  3,  4,  5,  6,  7,  8,  9, 10, 11])"
      ]
     },
     "execution_count": 30,
     "metadata": {},
     "output_type": "execute_result"
    }
   ],
   "source": [
    "A5"
   ]
  },
  {
   "cell_type": "code",
   "execution_count": 33,
   "id": "1f5aa5c0-12de-4d2f-9593-55d6337792fa",
   "metadata": {
    "tags": []
   },
   "outputs": [],
   "source": [
    "A6=A5.reshape(2,3,2)"
   ]
  },
  {
   "cell_type": "code",
   "execution_count": 35,
   "id": "86f0fcf9-7851-487d-a58f-2fc7dca933a9",
   "metadata": {
    "tags": []
   },
   "outputs": [
    {
     "data": {
      "text/plain": [
       "(2, 3, 2)"
      ]
     },
     "execution_count": 35,
     "metadata": {},
     "output_type": "execute_result"
    }
   ],
   "source": [
    "A6.shape"
   ]
  },
  {
   "cell_type": "code",
   "execution_count": 48,
   "id": "e19d6269-9389-4836-aa81-e38aadb5e7ab",
   "metadata": {
    "tags": []
   },
   "outputs": [],
   "source": [
    "A7=A4.reshape(-1)"
   ]
  },
  {
   "cell_type": "code",
   "execution_count": 49,
   "id": "8e642886-f308-4fd7-be93-53221a8ce59f",
   "metadata": {
    "tags": []
   },
   "outputs": [],
   "source": [
    "A8=A4.flatten()"
   ]
  },
  {
   "cell_type": "code",
   "execution_count": 50,
   "id": "22e4ef35-3c82-49ad-bfb0-8e14dbf609b5",
   "metadata": {
    "tags": []
   },
   "outputs": [
    {
     "data": {
      "text/plain": [
       "array([ True,  True,  True,  True,  True,  True,  True,  True,  True,\n",
       "        True,  True,  True,  True,  True,  True,  True,  True,  True,\n",
       "        True,  True,  True,  True,  True,  True,  True,  True,  True,\n",
       "        True,  True,  True,  True,  True,  True,  True,  True,  True,\n",
       "        True,  True,  True,  True,  True,  True,  True,  True,  True,\n",
       "        True,  True,  True,  True,  True,  True,  True,  True,  True,\n",
       "        True,  True,  True,  True,  True,  True,  True,  True,  True,\n",
       "        True,  True,  True,  True,  True,  True,  True,  True,  True,\n",
       "        True,  True,  True,  True,  True,  True,  True,  True,  True,\n",
       "        True,  True,  True,  True,  True,  True,  True,  True,  True,\n",
       "        True,  True,  True,  True,  True,  True,  True,  True,  True,\n",
       "        True,  True,  True,  True,  True,  True,  True,  True,  True,\n",
       "        True,  True,  True,  True,  True,  True,  True,  True,  True,\n",
       "        True,  True,  True,  True,  True,  True,  True,  True,  True,\n",
       "        True,  True,  True,  True,  True,  True,  True,  True,  True,\n",
       "        True,  True,  True,  True,  True,  True,  True,  True,  True,\n",
       "        True,  True,  True,  True,  True,  True,  True,  True,  True,\n",
       "        True,  True,  True,  True,  True,  True,  True,  True,  True,\n",
       "        True,  True,  True,  True,  True,  True,  True,  True,  True,\n",
       "        True,  True,  True,  True,  True,  True,  True,  True,  True,\n",
       "        True,  True,  True,  True,  True,  True,  True,  True,  True,\n",
       "        True,  True,  True,  True,  True,  True,  True,  True,  True,\n",
       "        True,  True])"
      ]
     },
     "execution_count": 50,
     "metadata": {},
     "output_type": "execute_result"
    }
   ],
   "source": [
    "A7==A8"
   ]
  },
  {
   "cell_type": "code",
   "execution_count": 53,
   "id": "2358fa52-1430-4dbb-848f-9af33d0db1c6",
   "metadata": {
    "tags": []
   },
   "outputs": [
    {
     "name": "stdout",
     "output_type": "stream",
     "text": [
      "hola\n",
      "hola\n",
      "hola\n",
      "hola\n",
      "hola\n",
      "hola\n",
      "hola\n",
      "hola\n",
      "hola\n",
      "hola\n",
      "hola\n",
      "hola\n",
      "hola\n",
      "hola\n",
      "hola\n",
      "hola\n",
      "hola\n",
      "hola\n",
      "hola\n",
      "hola\n",
      "hola\n",
      "hola\n",
      "hola\n",
      "hola\n",
      "hola\n",
      "hola\n",
      "hola\n",
      "hola\n",
      "hola\n",
      "hola\n",
      "hola\n",
      "hola\n",
      "hola\n",
      "hola\n",
      "hola\n",
      "hola\n",
      "hola\n",
      "hola\n",
      "hola\n",
      "hola\n"
     ]
    }
   ],
   "source": [
    "for i in A4[0]:\n",
    "    print('hola')"
   ]
  },
  {
   "cell_type": "code",
   "execution_count": 66,
   "id": "2d11bf85-2284-4645-b357-0fc7ada513bd",
   "metadata": {
    "tags": []
   },
   "outputs": [],
   "source": [
    "C=np.zeros((3,3))"
   ]
  },
  {
   "cell_type": "code",
   "execution_count": 67,
   "id": "34f4d54f-29b7-4d02-a48b-6456a12c4b04",
   "metadata": {
    "tags": []
   },
   "outputs": [],
   "source": [
    "for i in range(len(C)):\n",
    "    for j in range(len(C[i])):\n",
    "        C[(i,j)]=2**(j+i)\n",
    "        \n"
   ]
  },
  {
   "cell_type": "code",
   "execution_count": 63,
   "id": "31629e32-9f88-4996-9a66-ea298181a4be",
   "metadata": {
    "tags": []
   },
   "outputs": [
    {
     "data": {
      "text/plain": [
       "3"
      ]
     },
     "execution_count": 63,
     "metadata": {},
     "output_type": "execute_result"
    }
   ],
   "source": [
    "len(C)"
   ]
  },
  {
   "cell_type": "code",
   "execution_count": 68,
   "id": "0f9d0dcc-c7f1-4d1c-846e-e31fcdc649b3",
   "metadata": {
    "tags": []
   },
   "outputs": [
    {
     "data": {
      "text/plain": [
       "array([[ 1.,  2.,  4.],\n",
       "       [ 2.,  4.,  8.],\n",
       "       [ 4.,  8., 16.]])"
      ]
     },
     "execution_count": 68,
     "metadata": {},
     "output_type": "execute_result"
    }
   ],
   "source": [
    "C"
   ]
  },
  {
   "cell_type": "code",
   "execution_count": 69,
   "id": "023db758-b87d-457c-9664-0f6c3a83626c",
   "metadata": {
    "tags": []
   },
   "outputs": [],
   "source": [
    "C0=np.zeros((3,3))"
   ]
  },
  {
   "cell_type": "code",
   "execution_count": 79,
   "id": "f2b17326-c138-47e3-82e8-91e8df8ed621",
   "metadata": {
    "tags": []
   },
   "outputs": [
    {
     "name": "stdout",
     "output_type": "stream",
     "text": [
      "[[1. 1. 1.]\n",
      " [1. 1. 1.]\n",
      " [1. 1. 1.]]\n",
      "[[2. 2. 2.]\n",
      " [2. 2. 2.]\n",
      " [2. 2. 2.]]\n",
      "[[4. 4. 4.]\n",
      " [4. 4. 4.]\n",
      " [4. 4. 4.]]\n",
      "[[2. 2. 2.]\n",
      " [2. 2. 2.]\n",
      " [2. 2. 2.]]\n",
      "[[4. 4. 4.]\n",
      " [4. 4. 4.]\n",
      " [4. 4. 4.]]\n",
      "[[8. 8. 8.]\n",
      " [8. 8. 8.]\n",
      " [8. 8. 8.]]\n",
      "[[4. 4. 4.]\n",
      " [4. 4. 4.]\n",
      " [4. 4. 4.]]\n",
      "[[8. 8. 8.]\n",
      " [8. 8. 8.]\n",
      " [8. 8. 8.]]\n",
      "[[16. 16. 16.]\n",
      " [16. 16. 16.]\n",
      " [16. 16. 16.]]\n"
     ]
    }
   ],
   "source": [
    "for x in np.nditer(C):\n",
    "    for i in np.ndenumerate(C0):\n",
    "        C0[i[0]]=x\n",
    "    print(C0)\n",
    "    \n",
    "    "
   ]
  },
  {
   "cell_type": "code",
   "execution_count": 75,
   "id": "d0bee57e-f03c-473f-8fa4-0440dced8ea3",
   "metadata": {
    "tags": []
   },
   "outputs": [
    {
     "name": "stdout",
     "output_type": "stream",
     "text": [
      "(0, 0)\n",
      "(0, 1)\n",
      "(0, 2)\n",
      "(1, 0)\n",
      "(1, 1)\n",
      "(1, 2)\n",
      "(2, 0)\n",
      "(2, 1)\n",
      "(2, 2)\n"
     ]
    }
   ],
   "source": [
    "for i in np.ndenumerate(C0):\n",
    "    print (i[0])"
   ]
  },
  {
   "cell_type": "code",
   "execution_count": 78,
   "id": "a9c4895c-6a77-4a6d-a18a-dc46f8e00377",
   "metadata": {
    "tags": []
   },
   "outputs": [
    {
     "data": {
      "text/plain": [
       "array([[16., 16., 16.],\n",
       "       [16., 16., 16.],\n",
       "       [16., 16., 16.]])"
      ]
     },
     "execution_count": 78,
     "metadata": {},
     "output_type": "execute_result"
    }
   ],
   "source": [
    "C0"
   ]
  },
  {
   "cell_type": "code",
   "execution_count": null,
   "id": "4f658971-0d44-4a6b-b5b8-748700c6c4d9",
   "metadata": {},
   "outputs": [],
   "source": []
  }
 ],
 "metadata": {
  "kernelspec": {
   "display_name": "Python 3",
   "language": "python",
   "name": "python3"
  },
  "language_info": {
   "codemirror_mode": {
    "name": "ipython",
    "version": 3
   },
   "file_extension": ".py",
   "mimetype": "text/x-python",
   "name": "python",
   "nbconvert_exporter": "python",
   "pygments_lexer": "ipython3",
   "version": "3.9.2"
  }
 },
 "nbformat": 4,
 "nbformat_minor": 5
}
