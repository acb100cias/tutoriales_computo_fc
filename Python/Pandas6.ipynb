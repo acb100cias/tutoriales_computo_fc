{
 "cells": [
  {
   "cell_type": "code",
   "execution_count": 2,
   "id": "497f8393-8cc1-442e-80f8-f0d4b2237ddb",
   "metadata": {
    "tags": []
   },
   "outputs": [],
   "source": [
    "from pandas import *"
   ]
  },
  {
   "cell_type": "code",
   "execution_count": 5,
   "id": "9c1883ae-29ae-42df-aecf-4dba51bd4e56",
   "metadata": {},
   "outputs": [
    {
     "data": {
      "text/html": [
       "<div>\n",
       "<style scoped>\n",
       "    .dataframe tbody tr th:only-of-type {\n",
       "        vertical-align: middle;\n",
       "    }\n",
       "\n",
       "    .dataframe tbody tr th {\n",
       "        vertical-align: top;\n",
       "    }\n",
       "\n",
       "    .dataframe thead th {\n",
       "        text-align: right;\n",
       "    }\n",
       "</style>\n",
       "<table border=\"1\" class=\"dataframe\">\n",
       "  <thead>\n",
       "    <tr style=\"text-align: right;\">\n",
       "      <th></th>\n",
       "      <th>FECHA_ACTUALIZACION</th>\n",
       "      <th>ID_REGISTRO</th>\n",
       "      <th>ORIGEN</th>\n",
       "      <th>SECTOR</th>\n",
       "      <th>ENTIDAD_UM</th>\n",
       "      <th>SEXO</th>\n",
       "      <th>ENTIDAD_NAC</th>\n",
       "      <th>ENTIDAD_RES</th>\n",
       "      <th>MUNICIPIO_RES</th>\n",
       "      <th>TIPO_PACIENTE</th>\n",
       "      <th>...</th>\n",
       "      <th>OTRO_CASO</th>\n",
       "      <th>TOMA_MUESTRA_LAB</th>\n",
       "      <th>RESULTADO_LAB</th>\n",
       "      <th>TOMA_MUESTRA_ANTIGENO</th>\n",
       "      <th>RESULTADO_ANTIGENO</th>\n",
       "      <th>CLASIFICACION_FINAL</th>\n",
       "      <th>MIGRANTE</th>\n",
       "      <th>PAIS_NACIONALIDAD</th>\n",
       "      <th>PAIS_ORIGEN</th>\n",
       "      <th>UCI</th>\n",
       "    </tr>\n",
       "  </thead>\n",
       "  <tbody>\n",
       "    <tr>\n",
       "      <th>0</th>\n",
       "      <td>2023-04-11</td>\n",
       "      <td>1a4a8d</td>\n",
       "      <td>1</td>\n",
       "      <td>12</td>\n",
       "      <td>23</td>\n",
       "      <td>2</td>\n",
       "      <td>27</td>\n",
       "      <td>23</td>\n",
       "      <td>8</td>\n",
       "      <td>1</td>\n",
       "      <td>...</td>\n",
       "      <td>2</td>\n",
       "      <td>2</td>\n",
       "      <td>97</td>\n",
       "      <td>1</td>\n",
       "      <td>2</td>\n",
       "      <td>7</td>\n",
       "      <td>99</td>\n",
       "      <td>México</td>\n",
       "      <td>97</td>\n",
       "      <td>97</td>\n",
       "    </tr>\n",
       "    <tr>\n",
       "      <th>1</th>\n",
       "      <td>2023-04-11</td>\n",
       "      <td>06e951</td>\n",
       "      <td>1</td>\n",
       "      <td>12</td>\n",
       "      <td>24</td>\n",
       "      <td>2</td>\n",
       "      <td>24</td>\n",
       "      <td>24</td>\n",
       "      <td>28</td>\n",
       "      <td>1</td>\n",
       "      <td>...</td>\n",
       "      <td>2</td>\n",
       "      <td>2</td>\n",
       "      <td>97</td>\n",
       "      <td>1</td>\n",
       "      <td>2</td>\n",
       "      <td>7</td>\n",
       "      <td>99</td>\n",
       "      <td>México</td>\n",
       "      <td>97</td>\n",
       "      <td>97</td>\n",
       "    </tr>\n",
       "    <tr>\n",
       "      <th>2</th>\n",
       "      <td>2023-04-11</td>\n",
       "      <td>1dc542</td>\n",
       "      <td>1</td>\n",
       "      <td>6</td>\n",
       "      <td>12</td>\n",
       "      <td>1</td>\n",
       "      <td>12</td>\n",
       "      <td>12</td>\n",
       "      <td>29</td>\n",
       "      <td>1</td>\n",
       "      <td>...</td>\n",
       "      <td>1</td>\n",
       "      <td>2</td>\n",
       "      <td>97</td>\n",
       "      <td>1</td>\n",
       "      <td>2</td>\n",
       "      <td>7</td>\n",
       "      <td>99</td>\n",
       "      <td>México</td>\n",
       "      <td>97</td>\n",
       "      <td>97</td>\n",
       "    </tr>\n",
       "    <tr>\n",
       "      <th>3</th>\n",
       "      <td>2023-04-11</td>\n",
       "      <td>0f43ef</td>\n",
       "      <td>1</td>\n",
       "      <td>12</td>\n",
       "      <td>22</td>\n",
       "      <td>1</td>\n",
       "      <td>9</td>\n",
       "      <td>22</td>\n",
       "      <td>14</td>\n",
       "      <td>1</td>\n",
       "      <td>...</td>\n",
       "      <td>1</td>\n",
       "      <td>1</td>\n",
       "      <td>2</td>\n",
       "      <td>1</td>\n",
       "      <td>2</td>\n",
       "      <td>7</td>\n",
       "      <td>99</td>\n",
       "      <td>México</td>\n",
       "      <td>97</td>\n",
       "      <td>97</td>\n",
       "    </tr>\n",
       "    <tr>\n",
       "      <th>4</th>\n",
       "      <td>2023-04-11</td>\n",
       "      <td>135f85</td>\n",
       "      <td>2</td>\n",
       "      <td>12</td>\n",
       "      <td>5</td>\n",
       "      <td>1</td>\n",
       "      <td>5</td>\n",
       "      <td>5</td>\n",
       "      <td>30</td>\n",
       "      <td>1</td>\n",
       "      <td>...</td>\n",
       "      <td>1</td>\n",
       "      <td>2</td>\n",
       "      <td>97</td>\n",
       "      <td>1</td>\n",
       "      <td>2</td>\n",
       "      <td>7</td>\n",
       "      <td>99</td>\n",
       "      <td>México</td>\n",
       "      <td>97</td>\n",
       "      <td>97</td>\n",
       "    </tr>\n",
       "    <tr>\n",
       "      <th>...</th>\n",
       "      <td>...</td>\n",
       "      <td>...</td>\n",
       "      <td>...</td>\n",
       "      <td>...</td>\n",
       "      <td>...</td>\n",
       "      <td>...</td>\n",
       "      <td>...</td>\n",
       "      <td>...</td>\n",
       "      <td>...</td>\n",
       "      <td>...</td>\n",
       "      <td>...</td>\n",
       "      <td>...</td>\n",
       "      <td>...</td>\n",
       "      <td>...</td>\n",
       "      <td>...</td>\n",
       "      <td>...</td>\n",
       "      <td>...</td>\n",
       "      <td>...</td>\n",
       "      <td>...</td>\n",
       "      <td>...</td>\n",
       "      <td>...</td>\n",
       "    </tr>\n",
       "    <tr>\n",
       "      <th>99995</th>\n",
       "      <td>2023-04-11</td>\n",
       "      <td>76b574</td>\n",
       "      <td>2</td>\n",
       "      <td>4</td>\n",
       "      <td>9</td>\n",
       "      <td>2</td>\n",
       "      <td>9</td>\n",
       "      <td>9</td>\n",
       "      <td>7</td>\n",
       "      <td>1</td>\n",
       "      <td>...</td>\n",
       "      <td>1</td>\n",
       "      <td>2</td>\n",
       "      <td>97</td>\n",
       "      <td>1</td>\n",
       "      <td>1</td>\n",
       "      <td>3</td>\n",
       "      <td>99</td>\n",
       "      <td>México</td>\n",
       "      <td>97</td>\n",
       "      <td>97</td>\n",
       "    </tr>\n",
       "    <tr>\n",
       "      <th>99996</th>\n",
       "      <td>2023-04-11</td>\n",
       "      <td>815015</td>\n",
       "      <td>2</td>\n",
       "      <td>4</td>\n",
       "      <td>9</td>\n",
       "      <td>1</td>\n",
       "      <td>9</td>\n",
       "      <td>15</td>\n",
       "      <td>58</td>\n",
       "      <td>1</td>\n",
       "      <td>...</td>\n",
       "      <td>2</td>\n",
       "      <td>2</td>\n",
       "      <td>97</td>\n",
       "      <td>1</td>\n",
       "      <td>1</td>\n",
       "      <td>3</td>\n",
       "      <td>99</td>\n",
       "      <td>México</td>\n",
       "      <td>97</td>\n",
       "      <td>97</td>\n",
       "    </tr>\n",
       "    <tr>\n",
       "      <th>99997</th>\n",
       "      <td>2023-04-11</td>\n",
       "      <td>80caaf</td>\n",
       "      <td>2</td>\n",
       "      <td>12</td>\n",
       "      <td>3</td>\n",
       "      <td>2</td>\n",
       "      <td>3</td>\n",
       "      <td>3</td>\n",
       "      <td>3</td>\n",
       "      <td>1</td>\n",
       "      <td>...</td>\n",
       "      <td>1</td>\n",
       "      <td>2</td>\n",
       "      <td>97</td>\n",
       "      <td>1</td>\n",
       "      <td>1</td>\n",
       "      <td>3</td>\n",
       "      <td>99</td>\n",
       "      <td>México</td>\n",
       "      <td>97</td>\n",
       "      <td>97</td>\n",
       "    </tr>\n",
       "    <tr>\n",
       "      <th>99998</th>\n",
       "      <td>2023-04-11</td>\n",
       "      <td>c0aa60</td>\n",
       "      <td>1</td>\n",
       "      <td>12</td>\n",
       "      <td>9</td>\n",
       "      <td>1</td>\n",
       "      <td>9</td>\n",
       "      <td>9</td>\n",
       "      <td>13</td>\n",
       "      <td>1</td>\n",
       "      <td>...</td>\n",
       "      <td>2</td>\n",
       "      <td>2</td>\n",
       "      <td>97</td>\n",
       "      <td>1</td>\n",
       "      <td>2</td>\n",
       "      <td>7</td>\n",
       "      <td>99</td>\n",
       "      <td>México</td>\n",
       "      <td>97</td>\n",
       "      <td>97</td>\n",
       "    </tr>\n",
       "    <tr>\n",
       "      <th>99999</th>\n",
       "      <td>2023-04-11</td>\n",
       "      <td>a729ba</td>\n",
       "      <td>2</td>\n",
       "      <td>4</td>\n",
       "      <td>25</td>\n",
       "      <td>1</td>\n",
       "      <td>25</td>\n",
       "      <td>25</td>\n",
       "      <td>6</td>\n",
       "      <td>1</td>\n",
       "      <td>...</td>\n",
       "      <td>2</td>\n",
       "      <td>2</td>\n",
       "      <td>97</td>\n",
       "      <td>1</td>\n",
       "      <td>2</td>\n",
       "      <td>7</td>\n",
       "      <td>99</td>\n",
       "      <td>México</td>\n",
       "      <td>97</td>\n",
       "      <td>97</td>\n",
       "    </tr>\n",
       "  </tbody>\n",
       "</table>\n",
       "<p>100000 rows × 40 columns</p>\n",
       "</div>"
      ],
      "text/plain": [
       "      FECHA_ACTUALIZACION ID_REGISTRO  ORIGEN  SECTOR  ENTIDAD_UM  SEXO  \\\n",
       "0              2023-04-11      1a4a8d       1      12          23     2   \n",
       "1              2023-04-11      06e951       1      12          24     2   \n",
       "2              2023-04-11      1dc542       1       6          12     1   \n",
       "3              2023-04-11      0f43ef       1      12          22     1   \n",
       "4              2023-04-11      135f85       2      12           5     1   \n",
       "...                   ...         ...     ...     ...         ...   ...   \n",
       "99995          2023-04-11      76b574       2       4           9     2   \n",
       "99996          2023-04-11      815015       2       4           9     1   \n",
       "99997          2023-04-11      80caaf       2      12           3     2   \n",
       "99998          2023-04-11      c0aa60       1      12           9     1   \n",
       "99999          2023-04-11      a729ba       2       4          25     1   \n",
       "\n",
       "       ENTIDAD_NAC  ENTIDAD_RES  MUNICIPIO_RES  TIPO_PACIENTE  ... OTRO_CASO  \\\n",
       "0               27           23              8              1  ...         2   \n",
       "1               24           24             28              1  ...         2   \n",
       "2               12           12             29              1  ...         1   \n",
       "3                9           22             14              1  ...         1   \n",
       "4                5            5             30              1  ...         1   \n",
       "...            ...          ...            ...            ...  ...       ...   \n",
       "99995            9            9              7              1  ...         1   \n",
       "99996            9           15             58              1  ...         2   \n",
       "99997            3            3              3              1  ...         1   \n",
       "99998            9            9             13              1  ...         2   \n",
       "99999           25           25              6              1  ...         2   \n",
       "\n",
       "      TOMA_MUESTRA_LAB RESULTADO_LAB  TOMA_MUESTRA_ANTIGENO  \\\n",
       "0                    2            97                      1   \n",
       "1                    2            97                      1   \n",
       "2                    2            97                      1   \n",
       "3                    1             2                      1   \n",
       "4                    2            97                      1   \n",
       "...                ...           ...                    ...   \n",
       "99995                2            97                      1   \n",
       "99996                2            97                      1   \n",
       "99997                2            97                      1   \n",
       "99998                2            97                      1   \n",
       "99999                2            97                      1   \n",
       "\n",
       "       RESULTADO_ANTIGENO  CLASIFICACION_FINAL  MIGRANTE  PAIS_NACIONALIDAD  \\\n",
       "0                       2                    7        99             México   \n",
       "1                       2                    7        99             México   \n",
       "2                       2                    7        99             México   \n",
       "3                       2                    7        99             México   \n",
       "4                       2                    7        99             México   \n",
       "...                   ...                  ...       ...                ...   \n",
       "99995                   1                    3        99             México   \n",
       "99996                   1                    3        99             México   \n",
       "99997                   1                    3        99             México   \n",
       "99998                   2                    7        99             México   \n",
       "99999                   2                    7        99             México   \n",
       "\n",
       "       PAIS_ORIGEN  UCI  \n",
       "0               97   97  \n",
       "1               97   97  \n",
       "2               97   97  \n",
       "3               97   97  \n",
       "4               97   97  \n",
       "...            ...  ...  \n",
       "99995           97   97  \n",
       "99996           97   97  \n",
       "99997           97   97  \n",
       "99998           97   97  \n",
       "99999           97   97  \n",
       "\n",
       "[100000 rows x 40 columns]"
      ]
     },
     "execution_count": 5,
     "metadata": {},
     "output_type": "execute_result"
    }
   ],
   "source": [
    "read_csv('/home/augusto/Descargas/datos abiertos/230411COVID19MEXICO.csv',low_memory=False,nrows=100000)"
   ]
  },
  {
   "cell_type": "code",
   "execution_count": 9,
   "id": "7e3fa35f-62ae-4d04-b5dc-f5f9e66fe4a1",
   "metadata": {
    "tags": []
   },
   "outputs": [],
   "source": [
    "sumli=read_excel('/home/augusto/wrb/SUMLI17.xlsx',sheet_name='2017')"
   ]
  },
  {
   "cell_type": "code",
   "execution_count": 10,
   "id": "aae61c93-abdc-4a70-ad67-1da17e675e8f",
   "metadata": {
    "tags": []
   },
   "outputs": [
    {
     "data": {
      "text/plain": [
       "Index(['NAUNICO', 'CEDOID', 'ESTADO', 'CMUNID', 'MUNICIPIO', 'CLOCID',\n",
       "       'LOCALIDAD', 'INICIO', 'OSNE', 'CSIS_ID', 'SISTEMA', 'IDVERT',\n",
       "       'VERTIENTE', 'CREC_ID', 'RECURSO', 'REGPER', 'NOREGPER', 'FCH_NAC',\n",
       "       'EDAD', 'GPOEDAD', 'SEXO', 'ESTADO_CIVIL', 'CAPACIDAD_DIFERENTE',\n",
       "       'CESC_IDESCOL', 'ESCOLARIDAD', 'LENGUA_INDIGENA', 'ATENDIDO',\n",
       "       'COLOCADO', 'ESTADO_NACIO', 'CEDOID_VIVE', 'ESTADO_VIVE', 'CMUMID_VIVE',\n",
       "       'MUNICIPIO_VIVE', 'CLOCID_VIVE', 'LOCALIDAD_VIVE', 'FOLIO_VACANTE',\n",
       "       'FCH_INI_PERIODO', 'FCH_FIN_PERIODO', 'FCH_ALTAVAC', 'CEDOID_VAC',\n",
       "       'ESTADO_VAC', 'CMUNID_VAC', 'MPO_VAC', 'CLOCID_VAC', 'LOC_VAC'],\n",
       "      dtype='object')"
      ]
     },
     "execution_count": 10,
     "metadata": {},
     "output_type": "execute_result"
    }
   ],
   "source": [
    "sumli.keys()"
   ]
  },
  {
   "cell_type": "code",
   "execution_count": 18,
   "id": "a26a50b6-79d8-4c29-8d1b-a5c14935acfe",
   "metadata": {
    "tags": []
   },
   "outputs": [
    {
     "data": {
      "text/plain": [
       "26"
      ]
     },
     "execution_count": 18,
     "metadata": {},
     "output_type": "execute_result"
    }
   ],
   "source": [
    "sumli['CEDOID'][0]"
   ]
  },
  {
   "cell_type": "code",
   "execution_count": 23,
   "id": "fc11f0f5-ccd7-46d2-af92-452b46af86e6",
   "metadata": {
    "tags": []
   },
   "outputs": [],
   "source": [
    "covid_nlogo=read_csv('/home/augusto/escritos/covid19-art/CoVid_abm_0.5 Quarantine3-table.csv',low_memory=False,skiprows=6)"
   ]
  },
  {
   "cell_type": "code",
   "execution_count": 24,
   "id": "ff031438-601c-4e3f-94a9-1b38aacd42f8",
   "metadata": {
    "tags": []
   },
   "outputs": [
    {
     "data": {
      "text/plain": [
       "Index(['[run number]', 'qt', 'N', 'mb', 'strategy', 'quarantine', 'M',\n",
       "       '[step]', 'count personas', 'infectados * 100', 'suceptibles * 100',\n",
       "       'recuperados * 100', 'sintomaticos * 100', 'asintomaticos * 100',\n",
       "       'hospitalized * 100'],\n",
       "      dtype='object')"
      ]
     },
     "execution_count": 24,
     "metadata": {},
     "output_type": "execute_result"
    }
   ],
   "source": [
    "covid_nlogo.keys()"
   ]
  },
  {
   "cell_type": "code",
   "execution_count": 26,
   "id": "ecf60e73-0194-41aa-a52b-757d3e57dd1a",
   "metadata": {
    "tags": []
   },
   "outputs": [],
   "source": [
    "covid_nlogo=covid_nlogo.drop(['qt', 'N', 'mb', 'strategy', 'quarantine', 'M'],axis=1)"
   ]
  },
  {
   "cell_type": "code",
   "execution_count": 28,
   "id": "1e85e922-371b-43ea-b9ed-9b3d93372e71",
   "metadata": {
    "tags": []
   },
   "outputs": [],
   "source": [
    "covid_nlogo=covid_nlogo.rename(columns={'[run number]':'run','[step]':'step'})"
   ]
  },
  {
   "cell_type": "code",
   "execution_count": 32,
   "id": "9a896fe6-c060-4717-8851-556900edae1d",
   "metadata": {
    "tags": []
   },
   "outputs": [],
   "source": [
    "RunCov=DataFrame(covid_nlogo.groupby('run'))"
   ]
  },
  {
   "cell_type": "code",
   "execution_count": 39,
   "id": "2622e83f-7e95-4adf-a729-73ff1985b7d9",
   "metadata": {
    "tags": []
   },
   "outputs": [
    {
     "data": {
      "text/plain": [
       "<AxesSubplot:>"
      ]
     },
     "execution_count": 39,
     "metadata": {},
     "output_type": "execute_result"
    },
    {
     "data": {
      "image/png": "[encoded data removed]",
      "text/plain": [
       "<Figure size 432x288 with 1 Axes>"
      ]
     },
     "metadata": {
      "needs_background": "light"
     },
     "output_type": "display_data"
    }
   ],
   "source": [
    "RunCov[1][200].filter(['infectados * 100','suceptibles * 100']).plot()"
   ]
  },
  {
   "cell_type": "code",
   "execution_count": 40,
   "id": "aae11bd6-bef3-45be-9117-77185306e4fc",
   "metadata": {
    "tags": []
   },
   "outputs": [],
   "source": [
    "StepCov=DataFrame(covid_nlogo.groupby('step'))"
   ]
  },
  {
   "cell_type": "code",
   "execution_count": 53,
   "id": "79def47e-b1bf-4244-b236-cbcf0ea80f14",
   "metadata": {
    "tags": []
   },
   "outputs": [
    {
     "data": {
      "text/plain": [
       "<AxesSubplot:xlabel='step'>"
      ]
     },
     "execution_count": 53,
     "metadata": {},
     "output_type": "execute_result"
    },
    {
     "data": {
      "image/png": "[encoded data removed]",
      "text/plain": [
       "<Figure size 432x288 with 1 Axes>"
      ]
     },
     "metadata": {
      "needs_background": "light"
     },
     "output_type": "display_data"
    }
   ],
   "source": [
    "covid_nlogo.groupby('step')['infectados * 100'].mean().plot()\n",
    "covid_nlogo.groupby('step')['suceptibles * 100'].mean().plot()"
   ]
  },
  {
   "cell_type": "code",
   "execution_count": null,
   "id": "40e44dc4-5af7-4dff-9ff9-3824402ddcd3",
   "metadata": {},
   "outputs": [],
   "source": []
  }
 ],
 "metadata": {
  "kernelspec": {
   "display_name": "Python 3",
   "language": "python",
   "name": "python3"
  },
  "language_info": {
   "codemirror_mode": {
    "name": "ipython",
    "version": 3
   },
   "file_extension": ".py",
   "mimetype": "text/x-python",
   "name": "python",
   "nbconvert_exporter": "python",
   "pygments_lexer": "ipython3",
   "version": "3.9.2"
  }
 },
 "nbformat": 4,
 "nbformat_minor": 5
}
