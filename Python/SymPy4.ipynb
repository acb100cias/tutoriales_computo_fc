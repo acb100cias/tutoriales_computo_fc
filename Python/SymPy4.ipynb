{
 "cells": [
  {
   "cell_type": "code",
   "execution_count": 14,
   "id": "altered-employment",
   "metadata": {
    "collapsed": false
   },
   "outputs": [],
   "source": [
    "from sympy import *\n",
    "x,y,z =symbols('x y z')\n",
    "init_printing(use_latex=False) \n"
   ]
  },
  {
   "cell_type": "code",
   "execution_count": 15,
   "id": "complex-martial",
   "metadata": {
    "collapsed": false
   },
   "outputs": [
    {
     "data": {
      "text/plain": [
       "-sin(x)"
      ]
     },
     "execution_count": 15,
     "metadata": {},
     "output_type": "execute_result"
    }
   ],
   "source": [
    "diff(cos(x),x)"
   ]
  },
  {
   "cell_type": "code",
   "execution_count": 16,
   "id": "certified-advisory",
   "metadata": {
    "collapsed": false
   },
   "outputs": [
    {
     "data": {
      "text/plain": [
       "     ⎛ 2⎞\n",
       "     ⎝x ⎠\n",
       "2⋅x⋅ℯ    "
      ]
     },
     "execution_count": 16,
     "metadata": {},
     "output_type": "execute_result"
    }
   ],
   "source": [
    "diff(exp(x**2),x)\n"
   ]
  },
  {
   "cell_type": "code",
   "execution_count": 17,
   "id": "circular-leeds",
   "metadata": {
    "collapsed": false
   },
   "outputs": [
    {
     "data": {
      "text/plain": [
       "24⋅x"
      ]
     },
     "execution_count": 17,
     "metadata": {},
     "output_type": "execute_result"
    }
   ],
   "source": [
    "diff(x**4,x,x,x)"
   ]
  },
  {
   "cell_type": "code",
   "execution_count": 18,
   "id": "suspended-thailand",
   "metadata": {
    "collapsed": false
   },
   "outputs": [
    {
     "data": {
      "text/plain": [
       "24⋅x"
      ]
     },
     "execution_count": 18,
     "metadata": {},
     "output_type": "execute_result"
    }
   ],
   "source": [
    "diff(x**4,x,3)"
   ]
  },
  {
   "cell_type": "code",
   "execution_count": 21,
   "id": "appreciated-hawaiian",
   "metadata": {
    "collapsed": false
   },
   "outputs": [],
   "source": [
    "expr=exp(x*y*z)"
   ]
  },
  {
   "cell_type": "code",
   "execution_count": 22,
   "id": "molecular-asbestos",
   "metadata": {
    "collapsed": false
   },
   "outputs": [
    {
     "data": {
      "text/plain": [
       " x⋅y⋅z\n",
       "ℯ     "
      ]
     },
     "execution_count": 22,
     "metadata": {},
     "output_type": "execute_result"
    }
   ],
   "source": [
    "expr"
   ]
  },
  {
   "cell_type": "code",
   "execution_count": 23,
   "id": "subject-corps",
   "metadata": {
    "collapsed": false
   },
   "outputs": [
    {
     "data": {
      "text/plain": [
       "     x⋅y⋅z\n",
       "y⋅z⋅ℯ     "
      ]
     },
     "execution_count": 23,
     "metadata": {},
     "output_type": "execute_result"
    }
   ],
   "source": [
    "diff(expr,x)"
   ]
  },
  {
   "cell_type": "code",
   "execution_count": 24,
   "id": "accurate-timothy",
   "metadata": {
    "collapsed": false
   },
   "outputs": [
    {
     "data": {
      "text/plain": [
       "               x⋅y⋅z\n",
       "z⋅(x⋅y⋅z + 1)⋅ℯ     "
      ]
     },
     "execution_count": 24,
     "metadata": {},
     "output_type": "execute_result"
    }
   ],
   "source": [
    "diff(expr,x,y)"
   ]
  },
  {
   "cell_type": "code",
   "execution_count": 25,
   "id": "rural-filename",
   "metadata": {
    "collapsed": false
   },
   "outputs": [
    {
     "data": {
      "text/plain": [
       "    ⎛ 2  2  2              ⎞  x⋅y⋅z\n",
       "y⋅z⋅⎝x ⋅y ⋅z  + 5⋅x⋅y⋅z + 4⎠⋅ℯ     "
      ]
     },
     "execution_count": 25,
     "metadata": {},
     "output_type": "execute_result"
    }
   ],
   "source": [
    "diff(expr,x,y,z,x)"
   ]
  },
  {
   "cell_type": "code",
   "execution_count": 26,
   "id": "spiritual-cache",
   "metadata": {
    "collapsed": false
   },
   "outputs": [
    {
     "data": {
      "text/plain": [
       "     x⋅y⋅z\n",
       "y⋅z⋅ℯ     "
      ]
     },
     "execution_count": 26,
     "metadata": {},
     "output_type": "execute_result"
    }
   ],
   "source": [
    "expr.diff(x)"
   ]
  },
  {
   "cell_type": "code",
   "execution_count": 27,
   "id": "infectious-teaching",
   "metadata": {
    "collapsed": false
   },
   "outputs": [
    {
     "data": {
      "text/plain": [
       "     x⋅y⋅z\n",
       "x⋅z⋅ℯ     "
      ]
     },
     "execution_count": 27,
     "metadata": {},
     "output_type": "execute_result"
    }
   ],
   "source": [
    "expr.diff(y)"
   ]
  },
  {
   "cell_type": "code",
   "execution_count": 28,
   "id": "controlling-handy",
   "metadata": {
    "collapsed": false
   },
   "outputs": [
    {
     "data": {
      "text/plain": [
       "    ⎛ 2  2  2              ⎞  x⋅y⋅z\n",
       "y⋅z⋅⎝x ⋅y ⋅z  + 5⋅x⋅y⋅z + 4⎠⋅ℯ     "
      ]
     },
     "execution_count": 28,
     "metadata": {},
     "output_type": "execute_result"
    }
   ],
   "source": [
    "expr.diff(x,y,z,x)"
   ]
  },
  {
   "cell_type": "code",
   "execution_count": 29,
   "id": "weird-spending",
   "metadata": {
    "collapsed": false
   },
   "outputs": [],
   "source": [
    "deriv=Derivative(expr,x)"
   ]
  },
  {
   "cell_type": "code",
   "execution_count": 31,
   "id": "yellow-darkness",
   "metadata": {
    "collapsed": false
   },
   "outputs": [
    {
     "data": {
      "text/plain": [
       "     x⋅y⋅z\n",
       "y⋅z⋅ℯ     "
      ]
     },
     "execution_count": 31,
     "metadata": {},
     "output_type": "execute_result"
    }
   ],
   "source": [
    "deriv.doit()"
   ]
  },
  {
   "cell_type": "code",
   "execution_count": 34,
   "id": "jewish-brunswick",
   "metadata": {
    "collapsed": false
   },
   "outputs": [],
   "source": [
    "deriv2=Derivative(expr,x,y,z,x)"
   ]
  },
  {
   "cell_type": "code",
   "execution_count": 36,
   "id": "viral-armor",
   "metadata": {
    "collapsed": false
   },
   "outputs": [
    {
     "data": {
      "text/plain": [
       "    ⎛ 2  2  2              ⎞  x⋅y⋅z\n",
       "y⋅z⋅⎝x ⋅y ⋅z  + 5⋅x⋅y⋅z + 4⎠⋅ℯ     "
      ]
     },
     "execution_count": 36,
     "metadata": {},
     "output_type": "execute_result"
    }
   ],
   "source": [
    "deriv2.doit()\n"
   ]
  },
  {
   "cell_type": "code",
   "execution_count": 37,
   "id": "rapid-gallery",
   "metadata": {
    "collapsed": false
   },
   "outputs": [],
   "source": [
    "n,m,a,b=symbols('m n a b')"
   ]
  },
  {
   "cell_type": "code",
   "execution_count": 38,
   "id": "wired-orchestra",
   "metadata": {
    "collapsed": false
   },
   "outputs": [],
   "source": [
    "expr=(a*x+b)**m"
   ]
  },
  {
   "cell_type": "code",
   "execution_count": 39,
   "id": "amended-payroll",
   "metadata": {
    "collapsed": false
   },
   "outputs": [
    {
     "data": {
      "text/plain": [
       "  m            \n",
       " ∂ ⎛         n⎞\n",
       "───⎝(a⋅x + b) ⎠\n",
       "  m            \n",
       "∂x             "
      ]
     },
     "execution_count": 39,
     "metadata": {},
     "output_type": "execute_result"
    }
   ],
   "source": [
    "expr.diff((x,n))"
   ]
  },
  {
   "cell_type": "code",
   "execution_count": 40,
   "id": "antique-finland",
   "metadata": {
    "collapsed": false
   },
   "outputs": [
    {
     "data": {
      "text/plain": [
       "sin(x)"
      ]
     },
     "execution_count": 40,
     "metadata": {},
     "output_type": "execute_result"
    }
   ],
   "source": [
    "integrate(cos(x),x)"
   ]
  },
  {
   "cell_type": "code",
   "execution_count": 45,
   "id": "united-cooler",
   "metadata": {
    "collapsed": false
   },
   "outputs": [
    {
     "data": {
      "text/plain": [
       "1"
      ]
     },
     "execution_count": 45,
     "metadata": {},
     "output_type": "execute_result"
    }
   ],
   "source": [
    "integrate(exp(-x),(x,0,oo))"
   ]
  },
  {
   "cell_type": "code",
   "execution_count": 47,
   "id": "systematic-appointment",
   "metadata": {
    "collapsed": false
   },
   "outputs": [
    {
     "data": {
      "text/plain": [
       "π"
      ]
     },
     "execution_count": 47,
     "metadata": {},
     "output_type": "execute_result"
    }
   ],
   "source": [
    "integrate(exp(-x**2-y**2),(x,-oo,oo),(y,-oo,oo))"
   ]
  },
  {
   "cell_type": "code",
   "execution_count": 54,
   "id": "focused-floor",
   "metadata": {
    "collapsed": false
   },
   "outputs": [],
   "source": [
    "expr=Integral(x**x,x)"
   ]
  },
  {
   "cell_type": "code",
   "execution_count": 55,
   "id": "exceptional-commander",
   "metadata": {
    "collapsed": false
   },
   "outputs": [],
   "source": [
    "expr2=Integral(log(x)**2,x)"
   ]
  },
  {
   "cell_type": "code",
   "execution_count": 57,
   "id": "balanced-avenue",
   "metadata": {
    "collapsed": false
   },
   "outputs": [
    {
     "data": {
      "text/plain": [
       "     2                      \n",
       "x⋅log (x) - 2⋅x⋅log(x) + 2⋅x"
      ]
     },
     "execution_count": 57,
     "metadata": {},
     "output_type": "execute_result"
    }
   ],
   "source": [
    "expr2.doit()"
   ]
  },
  {
   "cell_type": "code",
   "execution_count": 58,
   "id": "entertaining-baghdad",
   "metadata": {
    "collapsed": false
   },
   "outputs": [],
   "source": [
    "integ = Integral((x**4 + x**2*exp(x) - x**2 - 2*x*exp(x) - 2*x - exp(x))*exp(x)/((x - 1)**2*(x + 1)**2*(exp(x) + 1)), x)"
   ]
  },
  {
   "cell_type": "code",
   "execution_count": 60,
   "id": "nervous-marine",
   "metadata": {
    "collapsed": false
   },
   "outputs": [
    {
     "data": {
      "text/plain": [
       "                 x  \n",
       "   ⎛ x    ⎞     ℯ   \n",
       "log⎝ℯ  + 1⎠ + ──────\n",
       "               2    \n",
       "              x  - 1"
      ]
     },
     "execution_count": 60,
     "metadata": {},
     "output_type": "execute_result"
    }
   ],
   "source": [
    "integ.doit()"
   ]
  },
  {
   "cell_type": "code",
   "execution_count": 61,
   "id": "outstanding-raising",
   "metadata": {
    "collapsed": false
   },
   "outputs": [],
   "source": [
    "integ = Integral(sin(x**2), x)"
   ]
  },
  {
   "cell_type": "code",
   "execution_count": 62,
   "id": "considered-nickname",
   "metadata": {
    "collapsed": false
   },
   "outputs": [
    {
     "data": {
      "text/plain": [
       "         ⎛√2⋅x⎞       \n",
       "3⋅√2⋅√π⋅S⎜────⎟⋅Γ(3/4)\n",
       "         ⎝ √π ⎠       \n",
       "──────────────────────\n",
       "       8⋅Γ(7/4)       "
      ]
     },
     "execution_count": 62,
     "metadata": {},
     "output_type": "execute_result"
    }
   ],
   "source": [
    "integ.doit()"
   ]
  },
  {
   "cell_type": "code",
   "execution_count": 63,
   "id": "statewide-sandwich",
   "metadata": {
    "collapsed": false
   },
   "outputs": [],
   "source": [
    "integ = Integral(x**y*exp(-x), (x, 0, oo))"
   ]
  },
  {
   "cell_type": "code",
   "execution_count": 64,
   "id": "legislative-detail",
   "metadata": {
    "collapsed": false
   },
   "outputs": [
    {
     "data": {
      "text/plain": [
       "∞          \n",
       "⌠          \n",
       "⎮  y  -x   \n",
       "⎮ x ⋅ℯ   dx\n",
       "⌡          \n",
       "0          "
      ]
     },
     "execution_count": 64,
     "metadata": {},
     "output_type": "execute_result"
    }
   ],
   "source": [
    "integ"
   ]
  },
  {
   "cell_type": "code",
   "execution_count": 65,
   "id": "considerable-excitement",
   "metadata": {
    "collapsed": false
   },
   "outputs": [
    {
     "data": {
      "text/plain": [
       "⎧ Γ(y + 1)    for re(y) > -1\n",
       "⎪                           \n",
       "⎪∞                          \n",
       "⎪⌠                          \n",
       "⎨⎮  y  -x                   \n",
       "⎪⎮ x ⋅ℯ   dx    otherwise   \n",
       "⎪⌡                          \n",
       "⎪0                          \n",
       "⎩                           "
      ]
     },
     "execution_count": 65,
     "metadata": {},
     "output_type": "execute_result"
    }
   ],
   "source": [
    "integ.doit()"
   ]
  },
  {
   "cell_type": "code",
   "execution_count": 66,
   "id": "constitutional-operations",
   "metadata": {
    "collapsed": false
   },
   "outputs": [
    {
     "data": {
      "text/plain": [
       "1"
      ]
     },
     "execution_count": 66,
     "metadata": {},
     "output_type": "execute_result"
    }
   ],
   "source": [
    "limit(sin(x)/x, x, 0)"
   ]
  },
  {
   "cell_type": "code",
   "execution_count": 67,
   "id": "bright-logging",
   "metadata": {
    "collapsed": false
   },
   "outputs": [],
   "source": [
    "expr = x**2/exp(x)"
   ]
  },
  {
   "cell_type": "code",
   "execution_count": 68,
   "id": "handmade-anaheim",
   "metadata": {
    "collapsed": false
   },
   "outputs": [
    {
     "data": {
      "text/plain": [
       "0"
      ]
     },
     "execution_count": 68,
     "metadata": {},
     "output_type": "execute_result"
    }
   ],
   "source": [
    "limit(expr, x, oo)"
   ]
  },
  {
   "cell_type": "code",
   "execution_count": 69,
   "id": "adjusted-marketplace",
   "metadata": {
    "collapsed": false
   },
   "outputs": [],
   "source": [
    "expr = Limit((cos(x) - 1)/x, x, 0)"
   ]
  },
  {
   "cell_type": "code",
   "execution_count": 71,
   "id": "expired-guidance",
   "metadata": {
    "collapsed": false
   },
   "outputs": [
    {
     "data": {
      "text/plain": [
       "0"
      ]
     },
     "execution_count": 71,
     "metadata": {},
     "output_type": "execute_result"
    }
   ],
   "source": [
    "expr.doit()"
   ]
  },
  {
   "cell_type": "code",
   "execution_count": 72,
   "id": "joined-hughes",
   "metadata": {
    "collapsed": false
   },
   "outputs": [
    {
     "data": {
      "text/plain": [
       "∞"
      ]
     },
     "execution_count": 72,
     "metadata": {},
     "output_type": "execute_result"
    }
   ],
   "source": [
    "limit(1/x, x, 0, '+')"
   ]
  },
  {
   "cell_type": "code",
   "execution_count": 73,
   "id": "harmful-merchant",
   "metadata": {
    "collapsed": false
   },
   "outputs": [
    {
     "data": {
      "text/plain": [
       "-∞"
      ]
     },
     "execution_count": 73,
     "metadata": {},
     "output_type": "execute_result"
    }
   ],
   "source": [
    "limit(1/x, x, 0, '-')"
   ]
  },
  {
   "cell_type": "code",
   "execution_count": 74,
   "id": "wicked-cheat",
   "metadata": {
    "collapsed": false
   },
   "outputs": [],
   "source": [
    "expr = exp(sin(x))"
   ]
  },
  {
   "cell_type": "code",
   "execution_count": 77,
   "id": "excellent-parent",
   "metadata": {
    "collapsed": false
   },
   "outputs": [
    {
     "data": {
      "text/plain": [
       "  9        8    7     6    5    4    2        \n",
       " x     31⋅x    x     x    x    x    x         \n",
       "──── + ───── + ── - ─── - ── - ── + ── + x + 1\n",
       "5670    5760   90   240   15   8    2         "
      ]
     },
     "execution_count": 77,
     "metadata": {},
     "output_type": "execute_result"
    }
   ],
   "source": [
    "expr.series(x,0,10).removeO()"
   ]
  },
  {
   "cell_type": "code",
   "execution_count": 78,
   "id": "certain-spending",
   "metadata": {
    "collapsed": false
   },
   "outputs": [
    {
     "data": {
      "text/plain": [
       "            2          3          4          5                         \n",
       "     (x - 6)    (x - 6)    (x - 6)    (x - 6)         ⎛       6       ⎞\n",
       "-5 + ──────── + ──────── + ──────── + ──────── + x + O⎝(x - 6) ; x → 6⎠\n",
       "        2          6          24        120                            "
      ]
     },
     "execution_count": 78,
     "metadata": {},
     "output_type": "execute_result"
    }
   ],
   "source": [
    "exp(x - 6).series(x,x0=6)"
   ]
  },
  {
   "cell_type": "code",
   "execution_count": null,
   "id": "curious-punch",
   "metadata": {
    "collapsed": false
   },
   "outputs": [],
   "source": []
  }
 ],
 "metadata": {
  "kernelspec": {
   "argv": [
    "/usr/bin/python3",
    "-m",
    "ipykernel_launcher",
    "-f",
    "{connection_file}"
   ],
   "display_name": "Python 3",
   "env": null,
   "interrupt_mode": "signal",
   "language": "python",
   "metadata": null,
   "name": "python3"
  },
  "name": "SymPy4.ipynb"
 },
 "nbformat": 4,
 "nbformat_minor": 5
}
