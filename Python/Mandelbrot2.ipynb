{
 "cells": [
  {
   "cell_type": "code",
   "execution_count": 1,
   "id": "8b684025-c98b-4df2-b341-01efdc07cea3",
   "metadata": {
    "tags": []
   },
   "outputs": [],
   "source": [
    "import numpy as np\n",
    "import matplotlib.pyplot as plt\n",
    "from PIL import Image"
   ]
  },
  {
   "cell_type": "code",
   "execution_count": 2,
   "id": "3939bbf0-89be-453f-a2a7-cb888ff4ee15",
   "metadata": {
    "tags": []
   },
   "outputs": [],
   "source": [
    "def matComp(xmin,xmax,ymin,ymax,dens):\n",
    "    re=np.linspace(xmax,xmin,int(xmax-xmin)*dens)\n",
    "    im=np.linspace(ymax,ymin,int(ymax-ymin)*dens)\n",
    "    return re[np.newaxis,:]+im[:,np.newaxis]*1j"
   ]
  },
  {
   "cell_type": "code",
   "execution_count": 18,
   "id": "0f6e2471-5a27-45ff-a624-db525322db4b",
   "metadata": {
    "tags": []
   },
   "outputs": [],
   "source": [
    "def esEstable(c,N):\n",
    "    z=0\n",
    "    for _ in range(N):\n",
    "        z=z**2+c\n",
    "        if abs(z) > 2:\n",
    "            return False\n",
    "    return True"
   ]
  },
  {
   "cell_type": "code",
   "execution_count": 20,
   "id": "5cc648c2-9d72-43bf-9ea8-c2adb1103a7a",
   "metadata": {
    "tags": []
   },
   "outputs": [
    {
     "data": {
      "text/plain": [
       "False"
      ]
     },
     "execution_count": 20,
     "metadata": {},
     "output_type": "execute_result"
    }
   ],
   "source": [
    "esEstable(0.26,30)"
   ]
  },
  {
   "cell_type": "code",
   "execution_count": 4,
   "id": "b264b41d-4291-4801-b4ae-830f975b9625",
   "metadata": {
    "tags": []
   },
   "outputs": [],
   "source": [
    "def getMandelbrot_chafa(c,N):\n",
    "    mask=esEstable(c,N)\n",
    "    return c[mask]"
   ]
  },
  {
   "cell_type": "code",
   "execution_count": 11,
   "id": "cf859590-0795-4f88-a89c-c3d506f61aae",
   "metadata": {
    "tags": []
   },
   "outputs": [
    {
     "name": "stderr",
     "output_type": "stream",
     "text": [
      "<ipython-input-3-0f0510638f31>:4: RuntimeWarning: overflow encountered in square\n",
      "  z=z**2+c\n",
      "<ipython-input-3-0f0510638f31>:4: RuntimeWarning: invalid value encountered in square\n",
      "  z=z**2+c\n",
      "<ipython-input-3-0f0510638f31>:5: RuntimeWarning: overflow encountered in absolute\n",
      "  return abs(z) <= 2\n"
     ]
    }
   ],
   "source": [
    "c=matComp(-1,0.5,-1.5,1.5,840)\n",
    "im=Image.fromarray(~esEstable(c,20))"
   ]
  },
  {
   "cell_type": "code",
   "execution_count": 12,
   "id": "f17588b5-49e4-4042-aa09-73250787168f",
   "metadata": {
    "tags": []
   },
   "outputs": [],
   "source": [
    "im.show()"
   ]
  },
  {
   "cell_type": "code",
   "execution_count": 17,
   "id": "9fbe9286-8d47-4ed6-81cc-9294fd2d8318",
   "metadata": {
    "tags": []
   },
   "outputs": [],
   "source": [
    "Image.effect_mandelbrot((840,840),(-3,-2.5,2,2.5),25).show()"
   ]
  },
  {
   "cell_type": "code",
   "execution_count": 21,
   "id": "76bc7840-c9cd-412e-90b0-971821c003d8",
   "metadata": {
    "tags": []
   },
   "outputs": [],
   "source": [
    "from dataclasses import dataclass"
   ]
  },
  {
   "cell_type": "code",
   "execution_count": 39,
   "id": "b96826a3-b0f8-4ef4-a71c-07f3362fa8ea",
   "metadata": {
    "tags": []
   },
   "outputs": [],
   "source": [
    "@dataclass\n",
    "class ConjMandelbrot:\n",
    "    N:int\n",
    "    def __cont__(self,c):\n",
    "        z=0\n",
    "        for _ in range(self.N):\n",
    "            z=z**2+c\n",
    "            if abs(z)>2:\n",
    "                return False\n",
    "        return True\n",
    "            "
   ]
  },
  {
   "cell_type": "code",
   "execution_count": 47,
   "id": "7ed307ee-d3bb-4ce9-a162-afb87f4740fb",
   "metadata": {
    "tags": []
   },
   "outputs": [],
   "source": [
    "mandel=ConjMandelbrot(N=30)"
   ]
  },
  {
   "cell_type": "code",
   "execution_count": 44,
   "id": "a848633b-903d-450a-889a-738443ee24e8",
   "metadata": {
    "tags": []
   },
   "outputs": [
    {
     "data": {
      "text/plain": [
       "True"
      ]
     },
     "execution_count": 44,
     "metadata": {},
     "output_type": "execute_result"
    }
   ],
   "source": [
    "mandel.__cont__(0.26)"
   ]
  },
  {
   "cell_type": "code",
   "execution_count": 49,
   "id": "cf5d4869-46d7-4a71-902f-bdac7e8b7657",
   "metadata": {
    "tags": []
   },
   "outputs": [],
   "source": [
    "w, h=840,840\n",
    "scale=0.0075\n",
    "bw='1'\n",
    "image=Image.new(mode=bw,size=(w,h))\n",
    "for y in  range(h):\n",
    "    for x in range(w):\n",
    "        c=scale*complex(x-w/2,h/2-y)\n",
    "        image.putpixel((x,y), mandel.__cont__(c)==False)\n",
    "image.show()"
   ]
  },
  {
   "cell_type": "code",
   "execution_count": null,
   "id": "8c59101b-4c10-4efd-a09c-2fe377eb6131",
   "metadata": {},
   "outputs": [],
   "source": []
  }
 ],
 "metadata": {
  "kernelspec": {
   "display_name": "Python 3",
   "language": "python",
   "name": "python3"
  },
  "language_info": {
   "codemirror_mode": {
    "name": "ipython",
    "version": 3
   },
   "file_extension": ".py",
   "mimetype": "text/x-python",
   "name": "python",
   "nbconvert_exporter": "python",
   "pygments_lexer": "ipython3",
   "version": "3.9.2"
  }
 },
 "nbformat": 4,
 "nbformat_minor": 5
}
