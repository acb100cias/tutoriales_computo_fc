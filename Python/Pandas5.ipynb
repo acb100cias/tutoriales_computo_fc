{
 "cells": [
  {
   "cell_type": "code",
   "execution_count": 2,
   "id": "ddd91803-e354-44a0-b4b0-641bd2a1977a",
   "metadata": {},
   "outputs": [],
   "source": [
    "from pandas import *\n",
    "dir='/home/augusto/Descargas/data kaggle/'"
   ]
  },
  {
   "cell_type": "code",
   "execution_count": 3,
   "id": "5ec1e0e0-9711-46d2-8a15-df3c0b98eebe",
   "metadata": {
    "tags": []
   },
   "outputs": [],
   "source": [
    "MC=read_csv(dir+'marvel_reviews.csv')\n",
    "M0=read_csv('marvel_limpio.csv')"
   ]
  },
  {
   "cell_type": "code",
   "execution_count": 7,
   "id": "835f1028-706c-43f9-80c4-ce4d0aed3924",
   "metadata": {
    "tags": []
   },
   "outputs": [],
   "source": [
    "MC=MC.dropna()"
   ]
  },
  {
   "cell_type": "code",
   "execution_count": 10,
   "id": "116a25c0-4e35-4315-97cd-969e511e61b8",
   "metadata": {
    "tags": []
   },
   "outputs": [],
   "source": [
    "MC=MC.reset_index().drop('index',axis=1)"
   ]
  },
  {
   "cell_type": "code",
   "execution_count": 12,
   "id": "cf6da71c-daaf-438b-a722-191f9d6aa66f",
   "metadata": {
    "tags": []
   },
   "outputs": [
    {
     "data": {
      "text/plain": [
       "62"
      ]
     },
     "execution_count": 12,
     "metadata": {},
     "output_type": "execute_result"
    }
   ],
   "source": [
    "len(MC)"
   ]
  },
  {
   "cell_type": "code",
   "execution_count": 13,
   "id": "d3e2f5bf-c496-4430-8c4a-c25cb8da4e84",
   "metadata": {
    "tags": []
   },
   "outputs": [
    {
     "data": {
      "text/plain": [
       "63"
      ]
     },
     "execution_count": 13,
     "metadata": {},
     "output_type": "execute_result"
    }
   ],
   "source": [
    "len(M0)"
   ]
  },
  {
   "cell_type": "code",
   "execution_count": 23,
   "id": "ce9f153f-0e19-4ac8-94a8-d899467d795e",
   "metadata": {
    "tags": []
   },
   "outputs": [],
   "source": [
    "MC['RT']=MC['Rotten Tomatoes'].apply(lambda x: Series(str(x).split('%')))[0].astype('int')"
   ]
  },
  {
   "cell_type": "code",
   "execution_count": 29,
   "id": "0321d40c-b031-4454-b582-29b2d2697d36",
   "metadata": {
    "tags": []
   },
   "outputs": [],
   "source": [
    "MC['Mc']=MC['Metacritic'].apply(lambda x: Series(str(x).split()))[0].astype('int')"
   ]
  },
  {
   "cell_type": "code",
   "execution_count": 26,
   "id": "726eec85-6284-4139-b0ab-48f734bb87a5",
   "metadata": {
    "tags": []
   },
   "outputs": [
    {
     "data": {
      "text/plain": [
       "Index(['Film', 'Rotten Tomatoes', 'Metacritic', 'CinemaScore', 'RT'], dtype='object')"
      ]
     },
     "execution_count": 26,
     "metadata": {},
     "output_type": "execute_result"
    }
   ],
   "source": [
    "MC.keys()"
   ]
  },
  {
   "cell_type": "code",
   "execution_count": 36,
   "id": "2bdff772-c50c-41da-8018-7411a3fd3e33",
   "metadata": {
    "tags": []
   },
   "outputs": [],
   "source": [
    "MC['CS']=MC['CinemaScore'].apply(lambda x: Series(str(x).split('[')))[0]#.astype('int')"
   ]
  },
  {
   "cell_type": "code",
   "execution_count": 41,
   "id": "66a9ec37-8c13-4d7b-96a7-464849e8d1dc",
   "metadata": {
    "tags": []
   },
   "outputs": [],
   "source": [
    "MC=MC.rename(columns={'Film':'Title'})\n"
   ]
  },
  {
   "cell_type": "code",
   "execution_count": 109,
   "id": "f4b67e19-c9e0-446c-ad61-4fa5b85b08cb",
   "metadata": {
    "tags": []
   },
   "outputs": [],
   "source": [
    "M1=MC.filter(['Title','RT','Mc','CS'])"
   ]
  },
  {
   "cell_type": "code",
   "execution_count": 83,
   "id": "f9ecaf56-cfe8-4d4d-8223-bedd6795630c",
   "metadata": {
    "tags": []
   },
   "outputs": [
    {
     "data": {
      "text/plain": [
       "array([False, False, False, False, False, False, False, False, False,\n",
       "       False, False, False, False, False, False, False, False, False,\n",
       "       False, False, False, False, False, False, False, False, False,\n",
       "       False, False, False, False, False, False, False, False, False,\n",
       "       False, False, False, False, False, False, False, False, False,\n",
       "       False, False, False, False, False, False, False, False, False,\n",
       "       False, False, False, False, False, False, False, False,  True])"
      ]
     },
     "execution_count": 83,
     "metadata": {},
     "output_type": "execute_result"
    }
   ],
   "source": [
    "M0.Title.values==M1.Title.values.all()"
   ]
  },
  {
   "cell_type": "code",
   "execution_count": 84,
   "id": "9141c613-ac50-4b3d-80ea-61244eaa98d6",
   "metadata": {
    "tags": []
   },
   "outputs": [
    {
     "data": {
      "text/plain": [
       "0     True\n",
       "1     True\n",
       "2     True\n",
       "3     True\n",
       "4     True\n",
       "      ... \n",
       "58    True\n",
       "59    True\n",
       "60    True\n",
       "61    True\n",
       "62    True\n",
       "Name: Title, Length: 63, dtype: bool"
      ]
     },
     "execution_count": 84,
     "metadata": {},
     "output_type": "execute_result"
    }
   ],
   "source": [
    "M0.Title.apply(lambda x: x in M1.Title.values)"
   ]
  },
  {
   "cell_type": "code",
   "execution_count": 85,
   "id": "63baf5e8-a236-427f-a7c4-60bb609a646b",
   "metadata": {
    "tags": []
   },
   "outputs": [],
   "source": [
    "m=M0.Title.apply(lambda x: x in M1.Title.values)"
   ]
  },
  {
   "cell_type": "code",
   "execution_count": 86,
   "id": "27dd4e08-3db4-43e5-a275-bc4c9063014f",
   "metadata": {
    "tags": []
   },
   "outputs": [
    {
     "data": {
      "text/plain": [
       "8     False\n",
       "12    False\n",
       "38    False\n",
       "57    False\n",
       "Name: Title, dtype: bool"
      ]
     },
     "execution_count": 86,
     "metadata": {},
     "output_type": "execute_result"
    }
   ],
   "source": [
    "m.loc[m==False]"
   ]
  },
  {
   "cell_type": "code",
   "execution_count": 88,
   "id": "a385420a-18c6-4a30-87d3-9ff35a6ff795",
   "metadata": {
    "tags": []
   },
   "outputs": [
    {
     "data": {
      "text/html": [
       "<div>\n",
       "<style scoped>\n",
       "    .dataframe tbody tr th:only-of-type {\n",
       "        vertical-align: middle;\n",
       "    }\n",
       "\n",
       "    .dataframe tbody tr th {\n",
       "        vertical-align: top;\n",
       "    }\n",
       "\n",
       "    .dataframe thead th {\n",
       "        text-align: right;\n",
       "    }\n",
       "</style>\n",
       "<table border=\"1\" class=\"dataframe\">\n",
       "  <thead>\n",
       "    <tr style=\"text-align: right;\">\n",
       "      <th></th>\n",
       "      <th>Title</th>\n",
       "      <th>Dist</th>\n",
       "      <th>budget</th>\n",
       "      <th>relDate</th>\n",
       "      <th>year</th>\n",
       "      <th>month</th>\n",
       "      <th>day</th>\n",
       "      <th>Recaudado</th>\n",
       "      <th>ganancia</th>\n",
       "    </tr>\n",
       "  </thead>\n",
       "  <tbody>\n",
       "    <tr>\n",
       "      <th>8</th>\n",
       "      <td>The Punisher</td>\n",
       "      <td>Lionsgate Films</td>\n",
       "      <td>33</td>\n",
       "      <td>2004-04-16</td>\n",
       "      <td>2004</td>\n",
       "      <td>4</td>\n",
       "      <td>16</td>\n",
       "      <td>54.70</td>\n",
       "      <td>21.70</td>\n",
       "    </tr>\n",
       "    <tr>\n",
       "      <th>12</th>\n",
       "      <td>Fantastic Four</td>\n",
       "      <td>20th Century Fox</td>\n",
       "      <td>100</td>\n",
       "      <td>2005-07-08</td>\n",
       "      <td>2005</td>\n",
       "      <td>7</td>\n",
       "      <td>8</td>\n",
       "      <td>330.58</td>\n",
       "      <td>230.58</td>\n",
       "    </tr>\n",
       "    <tr>\n",
       "      <th>38</th>\n",
       "      <td>Fantastic Four</td>\n",
       "      <td>20th Century Fox</td>\n",
       "      <td>120</td>\n",
       "      <td>2015-08-07</td>\n",
       "      <td>2015</td>\n",
       "      <td>8</td>\n",
       "      <td>7</td>\n",
       "      <td>167.88</td>\n",
       "      <td>47.88</td>\n",
       "    </tr>\n",
       "    <tr>\n",
       "      <th>57</th>\n",
       "      <td>The New Mutants</td>\n",
       "      <td>20th Century Studios</td>\n",
       "      <td>67</td>\n",
       "      <td>2020-08-28</td>\n",
       "      <td>2020</td>\n",
       "      <td>8</td>\n",
       "      <td>28</td>\n",
       "      <td>48.68</td>\n",
       "      <td>-18.32</td>\n",
       "    </tr>\n",
       "  </tbody>\n",
       "</table>\n",
       "</div>"
      ],
      "text/plain": [
       "              Title                  Dist  budget     relDate  year  month  \\\n",
       "8      The Punisher       Lionsgate Films      33  2004-04-16  2004      4   \n",
       "12   Fantastic Four      20th Century Fox     100  2005-07-08  2005      7   \n",
       "38   Fantastic Four      20th Century Fox     120  2015-08-07  2015      8   \n",
       "57  The New Mutants  20th Century Studios      67  2020-08-28  2020      8   \n",
       "\n",
       "    day  Recaudado  ganancia  \n",
       "8    16      54.70     21.70  \n",
       "12    8     330.58    230.58  \n",
       "38    7     167.88     47.88  \n",
       "57   28      48.68    -18.32  "
      ]
     },
     "execution_count": 88,
     "metadata": {},
     "output_type": "execute_result"
    }
   ],
   "source": [
    "M0.loc[[8,12,38,57]]"
   ]
  },
  {
   "cell_type": "code",
   "execution_count": 110,
   "id": "21c3257f-e2b2-43eb-8e26-bcc12671a3cc",
   "metadata": {
    "tags": []
   },
   "outputs": [
    {
     "data": {
      "text/plain": [
       "8       The Punisher \n",
       "12    Fantastic Four \n",
       "38    Fantastic Four \n",
       "57        Black Widow\n",
       "Name: 0, dtype: object"
      ]
     },
     "execution_count": 110,
     "metadata": {},
     "output_type": "execute_result"
    }
   ],
   "source": [
    "M1.loc[[8,12,38,57]].Title.apply(lambda x: Series(str(x).split('(')))[0]"
   ]
  },
  {
   "cell_type": "code",
   "execution_count": 111,
   "id": "2e4db154-318d-4613-8ab7-e5c66fd67b8d",
   "metadata": {
    "tags": []
   },
   "outputs": [],
   "source": [
    "M1['Title']=M1.Title.apply(lambda x: Series(str(x).split(' (')))[0]"
   ]
  },
  {
   "cell_type": "code",
   "execution_count": 112,
   "id": "9fbe10fd-2508-4d14-b7c8-3952edf5b2cf",
   "metadata": {
    "tags": []
   },
   "outputs": [],
   "source": [
    "m=M0.Title.apply(lambda x: x in M1.Title.values)"
   ]
  },
  {
   "cell_type": "code",
   "execution_count": 113,
   "id": "4421c460-8a6c-4fe9-aaca-4179b68685f5",
   "metadata": {
    "tags": []
   },
   "outputs": [
    {
     "data": {
      "text/plain": [
       "57    False\n",
       "Name: Title, dtype: bool"
      ]
     },
     "execution_count": 113,
     "metadata": {},
     "output_type": "execute_result"
    }
   ],
   "source": [
    "m.loc[m==False]"
   ]
  },
  {
   "cell_type": "code",
   "execution_count": 115,
   "id": "e683019d-fbf9-464d-9ce7-c66e933d74d9",
   "metadata": {
    "tags": []
   },
   "outputs": [
    {
     "data": {
      "text/html": [
       "<div>\n",
       "<style scoped>\n",
       "    .dataframe tbody tr th:only-of-type {\n",
       "        vertical-align: middle;\n",
       "    }\n",
       "\n",
       "    .dataframe tbody tr th {\n",
       "        vertical-align: top;\n",
       "    }\n",
       "\n",
       "    .dataframe thead th {\n",
       "        text-align: right;\n",
       "    }\n",
       "</style>\n",
       "<table border=\"1\" class=\"dataframe\">\n",
       "  <thead>\n",
       "    <tr style=\"text-align: right;\">\n",
       "      <th></th>\n",
       "      <th>Title</th>\n",
       "      <th>Dist</th>\n",
       "      <th>budget</th>\n",
       "      <th>relDate</th>\n",
       "      <th>year</th>\n",
       "      <th>month</th>\n",
       "      <th>day</th>\n",
       "      <th>Recaudado</th>\n",
       "      <th>ganancia</th>\n",
       "      <th>Titler</th>\n",
       "      <th>RT</th>\n",
       "      <th>Mc</th>\n",
       "      <th>CS</th>\n",
       "    </tr>\n",
       "  </thead>\n",
       "  <tbody>\n",
       "    <tr>\n",
       "      <th>0</th>\n",
       "      <td>Howard the Duck</td>\n",
       "      <td>Universal Pictures</td>\n",
       "      <td>37</td>\n",
       "      <td>1986-08-01</td>\n",
       "      <td>1986</td>\n",
       "      <td>8</td>\n",
       "      <td>1</td>\n",
       "      <td>37.96</td>\n",
       "      <td>0.96</td>\n",
       "      <td>Howard the Duck</td>\n",
       "      <td>14.0</td>\n",
       "      <td>28.0</td>\n",
       "      <td>B-</td>\n",
       "    </tr>\n",
       "    <tr>\n",
       "      <th>1</th>\n",
       "      <td>Blade</td>\n",
       "      <td>New Line Cinema</td>\n",
       "      <td>45</td>\n",
       "      <td>1998-08-21</td>\n",
       "      <td>1998</td>\n",
       "      <td>8</td>\n",
       "      <td>21</td>\n",
       "      <td>131.18</td>\n",
       "      <td>86.18</td>\n",
       "      <td>Blade</td>\n",
       "      <td>57.0</td>\n",
       "      <td>47.0</td>\n",
       "      <td>A-</td>\n",
       "    </tr>\n",
       "    <tr>\n",
       "      <th>2</th>\n",
       "      <td>X-Men</td>\n",
       "      <td>20th Century Fox</td>\n",
       "      <td>75</td>\n",
       "      <td>2000-07-14</td>\n",
       "      <td>2000</td>\n",
       "      <td>7</td>\n",
       "      <td>14</td>\n",
       "      <td>296.34</td>\n",
       "      <td>221.34</td>\n",
       "      <td>X-Men</td>\n",
       "      <td>82.0</td>\n",
       "      <td>64.0</td>\n",
       "      <td>A-</td>\n",
       "    </tr>\n",
       "    <tr>\n",
       "      <th>3</th>\n",
       "      <td>Blade II</td>\n",
       "      <td>New Line Cinema</td>\n",
       "      <td>54</td>\n",
       "      <td>2002-03-22</td>\n",
       "      <td>2002</td>\n",
       "      <td>3</td>\n",
       "      <td>22</td>\n",
       "      <td>155.01</td>\n",
       "      <td>101.01</td>\n",
       "      <td>Blade II</td>\n",
       "      <td>57.0</td>\n",
       "      <td>52.0</td>\n",
       "      <td>B+</td>\n",
       "    </tr>\n",
       "    <tr>\n",
       "      <th>4</th>\n",
       "      <td>Spider-Man</td>\n",
       "      <td>Sony Pictures</td>\n",
       "      <td>139</td>\n",
       "      <td>2002-05-03</td>\n",
       "      <td>2002</td>\n",
       "      <td>5</td>\n",
       "      <td>3</td>\n",
       "      <td>821.71</td>\n",
       "      <td>682.71</td>\n",
       "      <td>Spider-Man</td>\n",
       "      <td>90.0</td>\n",
       "      <td>73.0</td>\n",
       "      <td>A-</td>\n",
       "    </tr>\n",
       "    <tr>\n",
       "      <th>...</th>\n",
       "      <td>...</td>\n",
       "      <td>...</td>\n",
       "      <td>...</td>\n",
       "      <td>...</td>\n",
       "      <td>...</td>\n",
       "      <td>...</td>\n",
       "      <td>...</td>\n",
       "      <td>...</td>\n",
       "      <td>...</td>\n",
       "      <td>...</td>\n",
       "      <td>...</td>\n",
       "      <td>...</td>\n",
       "      <td>...</td>\n",
       "    </tr>\n",
       "    <tr>\n",
       "      <th>58</th>\n",
       "      <td>Black Widow</td>\n",
       "      <td>Walt Disney Studios Motion Pictures</td>\n",
       "      <td>200</td>\n",
       "      <td>2021-07-09</td>\n",
       "      <td>2021</td>\n",
       "      <td>7</td>\n",
       "      <td>9</td>\n",
       "      <td>379.63</td>\n",
       "      <td>179.63</td>\n",
       "      <td>Shang-Chi and the Legend of the Ten Rings</td>\n",
       "      <td>91.0</td>\n",
       "      <td>71.0</td>\n",
       "      <td>A</td>\n",
       "    </tr>\n",
       "    <tr>\n",
       "      <th>59</th>\n",
       "      <td>Shang-Chi and the Legend of the Ten Rings</td>\n",
       "      <td>Walt Disney Studios Motion Pictures</td>\n",
       "      <td>150</td>\n",
       "      <td>2021-09-03</td>\n",
       "      <td>2021</td>\n",
       "      <td>9</td>\n",
       "      <td>3</td>\n",
       "      <td>432.24</td>\n",
       "      <td>282.24</td>\n",
       "      <td>Venom: Let There Be Carnage</td>\n",
       "      <td>58.0</td>\n",
       "      <td>49.0</td>\n",
       "      <td>B+</td>\n",
       "    </tr>\n",
       "    <tr>\n",
       "      <th>60</th>\n",
       "      <td>Venom: Let There Be Carnage</td>\n",
       "      <td>Sony Pictures</td>\n",
       "      <td>110</td>\n",
       "      <td>2021-10-01</td>\n",
       "      <td>2021</td>\n",
       "      <td>10</td>\n",
       "      <td>1</td>\n",
       "      <td>502.05</td>\n",
       "      <td>392.05</td>\n",
       "      <td>Eternals</td>\n",
       "      <td>47.0</td>\n",
       "      <td>52.0</td>\n",
       "      <td>B</td>\n",
       "    </tr>\n",
       "    <tr>\n",
       "      <th>61</th>\n",
       "      <td>Eternals</td>\n",
       "      <td>Walt Disney Studios Motion Pictures</td>\n",
       "      <td>200</td>\n",
       "      <td>2021-11-05</td>\n",
       "      <td>2021</td>\n",
       "      <td>11</td>\n",
       "      <td>5</td>\n",
       "      <td>402.06</td>\n",
       "      <td>202.06</td>\n",
       "      <td>Spider-Man: No Way Home</td>\n",
       "      <td>93.0</td>\n",
       "      <td>72.0</td>\n",
       "      <td>A+</td>\n",
       "    </tr>\n",
       "    <tr>\n",
       "      <th>62</th>\n",
       "      <td>Spider-Man: No Way Home</td>\n",
       "      <td>Sony Pictures</td>\n",
       "      <td>200</td>\n",
       "      <td>2021-12-17</td>\n",
       "      <td>2021</td>\n",
       "      <td>12</td>\n",
       "      <td>17</td>\n",
       "      <td>1852.42</td>\n",
       "      <td>1652.42</td>\n",
       "      <td>NaN</td>\n",
       "      <td>NaN</td>\n",
       "      <td>NaN</td>\n",
       "      <td>NaN</td>\n",
       "    </tr>\n",
       "  </tbody>\n",
       "</table>\n",
       "<p>63 rows × 13 columns</p>\n",
       "</div>"
      ],
      "text/plain": [
       "                                        Title  \\\n",
       "0                             Howard the Duck   \n",
       "1                                       Blade   \n",
       "2                                       X-Men   \n",
       "3                                    Blade II   \n",
       "4                                  Spider-Man   \n",
       "..                                        ...   \n",
       "58                                Black Widow   \n",
       "59  Shang-Chi and the Legend of the Ten Rings   \n",
       "60                Venom: Let There Be Carnage   \n",
       "61                                   Eternals   \n",
       "62                    Spider-Man: No Way Home   \n",
       "\n",
       "                                   Dist  budget     relDate  year  month  day  \\\n",
       "0                    Universal Pictures      37  1986-08-01  1986      8    1   \n",
       "1                       New Line Cinema      45  1998-08-21  1998      8   21   \n",
       "2                      20th Century Fox      75  2000-07-14  2000      7   14   \n",
       "3                       New Line Cinema      54  2002-03-22  2002      3   22   \n",
       "4                         Sony Pictures     139  2002-05-03  2002      5    3   \n",
       "..                                  ...     ...         ...   ...    ...  ...   \n",
       "58  Walt Disney Studios Motion Pictures     200  2021-07-09  2021      7    9   \n",
       "59  Walt Disney Studios Motion Pictures     150  2021-09-03  2021      9    3   \n",
       "60                        Sony Pictures     110  2021-10-01  2021     10    1   \n",
       "61  Walt Disney Studios Motion Pictures     200  2021-11-05  2021     11    5   \n",
       "62                        Sony Pictures     200  2021-12-17  2021     12   17   \n",
       "\n",
       "    Recaudado  ganancia                                     Titler    RT  \\\n",
       "0       37.96      0.96                            Howard the Duck  14.0   \n",
       "1      131.18     86.18                                      Blade  57.0   \n",
       "2      296.34    221.34                                      X-Men  82.0   \n",
       "3      155.01    101.01                                   Blade II  57.0   \n",
       "4      821.71    682.71                                 Spider-Man  90.0   \n",
       "..        ...       ...                                        ...   ...   \n",
       "58     379.63    179.63  Shang-Chi and the Legend of the Ten Rings  91.0   \n",
       "59     432.24    282.24                Venom: Let There Be Carnage  58.0   \n",
       "60     502.05    392.05                                   Eternals  47.0   \n",
       "61     402.06    202.06                    Spider-Man: No Way Home  93.0   \n",
       "62    1852.42   1652.42                                        NaN   NaN   \n",
       "\n",
       "      Mc   CS  \n",
       "0   28.0   B-  \n",
       "1   47.0   A-  \n",
       "2   64.0   A-  \n",
       "3   52.0   B+  \n",
       "4   73.0   A-  \n",
       "..   ...  ...  \n",
       "58  71.0    A  \n",
       "59  49.0   B+  \n",
       "60  52.0    B  \n",
       "61  72.0   A+  \n",
       "62   NaN  NaN  \n",
       "\n",
       "[63 rows x 13 columns]"
      ]
     },
     "execution_count": 115,
     "metadata": {},
     "output_type": "execute_result"
    }
   ],
   "source": [
    "M0.join(M1,rsuffix='r')"
   ]
  },
  {
   "cell_type": "code",
   "execution_count": 155,
   "id": "8020c5e4-ffbf-4a09-b092-586498479cb5",
   "metadata": {
    "tags": []
   },
   "outputs": [],
   "source": [
    "Mar1=M0.merge(M1,on='Title')#,validate='one_to_one')"
   ]
  },
  {
   "cell_type": "code",
   "execution_count": 151,
   "id": "cd1dcdcf-663d-451a-ac20-fd3fb8c98311",
   "metadata": {
    "tags": []
   },
   "outputs": [
    {
     "data": {
      "text/plain": [
       "array(['Howard the Duck', 'Blade', 'X-Men', 'Blade II', 'Spider-Man',\n",
       "       'Daredevil', 'X2', 'Hulk', 'The Punisher', 'Spider-Man 2',\n",
       "       'Blade: Trinity', 'Elektra', 'Fantastic Four',\n",
       "       'X-Men: The Last Stand', 'Ghost Rider', 'Spider-Man 3',\n",
       "       'Fantastic Four: Rise of the Silver Surfer', 'Iron Man',\n",
       "       'The Incredible Hulk', 'Punisher: War Zone',\n",
       "       'X-Men Origins: Wolverine', 'Iron Man 2', 'Thor',\n",
       "       'X-Men: First Class', 'Captain America: The First Avenger',\n",
       "       'Ghost Rider: Spirit of Vengeance', 'The Avengers',\n",
       "       'The Amazing Spider-Man', 'Iron Man 3', 'The Wolverine',\n",
       "       'Thor: The Dark World', 'Captain America: The Winter Soldier',\n",
       "       'The Amazing Spider-Man 2', 'X-Men: Days of Future Past',\n",
       "       'Guardians of the Galaxy', 'Big Hero 6', 'Avengers: Age of Ultron',\n",
       "       'Ant-Man', 'Fantastic Four', 'Deadpool',\n",
       "       'Captain America: Civil War', 'X-Men: Apocalypse',\n",
       "       'Doctor Strange', 'Logan', 'Guardians of the Galaxy Vol. 2',\n",
       "       'Spider-Man: Homecoming', 'Thor: Ragnarok', 'Black Panther',\n",
       "       'Avengers: Infinity War', 'Deadpool 2', 'Ant-Man and the Wasp',\n",
       "       'Venom', 'Spider-Man: Into the Spider-Verse', 'Captain Marvel',\n",
       "       'Avengers: Endgame', 'Dark Phoenix', 'Spider-Man: Far From Home',\n",
       "       'The New Mutants', 'Black Widow',\n",
       "       'Shang-Chi and the Legend of the Ten Rings',\n",
       "       'Venom: Let There Be Carnage', 'Eternals',\n",
       "       'Spider-Man: No Way Home'], dtype=object)"
      ]
     },
     "execution_count": 151,
     "metadata": {},
     "output_type": "execute_result"
    }
   ],
   "source": [
    "M0.Title.values\n"
   ]
  },
  {
   "cell_type": "code",
   "execution_count": 154,
   "id": "8aaa86da-34b5-4497-a6de-e34b2b7eca2e",
   "metadata": {
    "tags": []
   },
   "outputs": [],
   "source": [
    "Mar2=M0.drop(57,axis=0).reset_index().drop('index',axis=1).join(M1.drop('Title',axis=1))"
   ]
  },
  {
   "cell_type": "code",
   "execution_count": 162,
   "id": "f4bc6ed7-cde9-473c-b07b-ea9c224aae6b",
   "metadata": {
    "tags": []
   },
   "outputs": [
    {
     "data": {
      "text/html": [
       "<div>\n",
       "<style scoped>\n",
       "    .dataframe tbody tr th:only-of-type {\n",
       "        vertical-align: middle;\n",
       "    }\n",
       "\n",
       "    .dataframe tbody tr th {\n",
       "        vertical-align: top;\n",
       "    }\n",
       "\n",
       "    .dataframe thead th {\n",
       "        text-align: right;\n",
       "    }\n",
       "</style>\n",
       "<table border=\"1\" class=\"dataframe\">\n",
       "  <thead>\n",
       "    <tr style=\"text-align: right;\">\n",
       "      <th></th>\n",
       "      <th>ganancia</th>\n",
       "      <th>RT</th>\n",
       "    </tr>\n",
       "  </thead>\n",
       "  <tbody>\n",
       "    <tr>\n",
       "      <th>54</th>\n",
       "      <td>285.54</td>\n",
       "      <td>97</td>\n",
       "    </tr>\n",
       "  </tbody>\n",
       "</table>\n",
       "</div>"
      ],
      "text/plain": [
       "    ganancia  RT\n",
       "54    285.54  97"
      ]
     },
     "execution_count": 162,
     "metadata": {},
     "output_type": "execute_result"
    }
   ],
   "source": [
    "Mar1.filter(['ganancia','RT']).loc[Mar1['RT']==97]"
   ]
  },
  {
   "cell_type": "code",
   "execution_count": 163,
   "id": "49c2ad03-036d-4981-9dc6-48327388799f",
   "metadata": {
    "tags": []
   },
   "outputs": [
    {
     "data": {
      "text/plain": [
       "Title        Spider-Man: Into the Spider-Verse\n",
       "Dist                             Sony Pictures\n",
       "budget                                      90\n",
       "relDate                             2018-12-14\n",
       "year                                      2018\n",
       "month                                       12\n",
       "day                                         14\n",
       "Recaudado                               375.54\n",
       "ganancia                                285.54\n",
       "RT                                          97\n",
       "Mc                                          87\n",
       "CS                                          A+\n",
       "Name: 54, dtype: object"
      ]
     },
     "execution_count": 163,
     "metadata": {},
     "output_type": "execute_result"
    }
   ],
   "source": [
    "Mar1.loc[54]"
   ]
  },
  {
   "cell_type": "code",
   "execution_count": 165,
   "id": "5ea2096f-72ce-4d82-a64d-cf3a0e6ac1a1",
   "metadata": {
    "tags": []
   },
   "outputs": [
    {
     "data": {
      "text/html": [
       "<div>\n",
       "<style scoped>\n",
       "    .dataframe tbody tr th:only-of-type {\n",
       "        vertical-align: middle;\n",
       "    }\n",
       "\n",
       "    .dataframe tbody tr th {\n",
       "        vertical-align: top;\n",
       "    }\n",
       "\n",
       "    .dataframe thead th {\n",
       "        text-align: right;\n",
       "    }\n",
       "</style>\n",
       "<table border=\"1\" class=\"dataframe\">\n",
       "  <thead>\n",
       "    <tr style=\"text-align: right;\">\n",
       "      <th></th>\n",
       "      <th>Title</th>\n",
       "      <th>Dist</th>\n",
       "      <th>budget</th>\n",
       "      <th>relDate</th>\n",
       "      <th>year</th>\n",
       "      <th>month</th>\n",
       "      <th>day</th>\n",
       "      <th>Recaudado</th>\n",
       "      <th>ganancia</th>\n",
       "      <th>RT</th>\n",
       "      <th>Mc</th>\n",
       "      <th>CS</th>\n",
       "    </tr>\n",
       "  </thead>\n",
       "  <tbody>\n",
       "    <tr>\n",
       "      <th>56</th>\n",
       "      <td>Avengers: Endgame</td>\n",
       "      <td>Walt Disney Studios Motion Pictures</td>\n",
       "      <td>356</td>\n",
       "      <td>2019-04-26</td>\n",
       "      <td>2019</td>\n",
       "      <td>4</td>\n",
       "      <td>26</td>\n",
       "      <td>2797.8</td>\n",
       "      <td>2441.8</td>\n",
       "      <td>94</td>\n",
       "      <td>78</td>\n",
       "      <td>A+</td>\n",
       "    </tr>\n",
       "  </tbody>\n",
       "</table>\n",
       "</div>"
      ],
      "text/plain": [
       "                Title                                 Dist  budget  \\\n",
       "56  Avengers: Endgame  Walt Disney Studios Motion Pictures     356   \n",
       "\n",
       "       relDate  year  month  day  Recaudado  ganancia  RT  Mc  CS  \n",
       "56  2019-04-26  2019      4   26     2797.8    2441.8  94  78  A+  "
      ]
     },
     "execution_count": 165,
     "metadata": {},
     "output_type": "execute_result"
    }
   ],
   "source": [
    "Mar1.loc[Mar1['ganancia']==Mar1.ganancia.max()]"
   ]
  },
  {
   "cell_type": "code",
   "execution_count": 167,
   "id": "ee8d16dd-5211-4d70-b6eb-e56c1027c8d8",
   "metadata": {
    "tags": []
   },
   "outputs": [
    {
     "data": {
      "text/html": [
       "<div>\n",
       "<style scoped>\n",
       "    .dataframe tbody tr th:only-of-type {\n",
       "        vertical-align: middle;\n",
       "    }\n",
       "\n",
       "    .dataframe tbody tr th {\n",
       "        vertical-align: top;\n",
       "    }\n",
       "\n",
       "    .dataframe thead th {\n",
       "        text-align: right;\n",
       "    }\n",
       "</style>\n",
       "<table border=\"1\" class=\"dataframe\">\n",
       "  <thead>\n",
       "    <tr style=\"text-align: right;\">\n",
       "      <th></th>\n",
       "      <th>Title</th>\n",
       "      <th>Dist</th>\n",
       "      <th>budget</th>\n",
       "      <th>relDate</th>\n",
       "      <th>year</th>\n",
       "      <th>month</th>\n",
       "      <th>day</th>\n",
       "      <th>Recaudado</th>\n",
       "      <th>ganancia</th>\n",
       "      <th>RT</th>\n",
       "      <th>Mc</th>\n",
       "      <th>CS</th>\n",
       "    </tr>\n",
       "  </thead>\n",
       "  <tbody>\n",
       "    <tr>\n",
       "      <th>52</th>\n",
       "      <td>Spider-Man: Into the Spider-Verse</td>\n",
       "      <td>Sony Pictures</td>\n",
       "      <td>90</td>\n",
       "      <td>2018-12-14</td>\n",
       "      <td>2018</td>\n",
       "      <td>12</td>\n",
       "      <td>14</td>\n",
       "      <td>375.54</td>\n",
       "      <td>285.54</td>\n",
       "      <td>97</td>\n",
       "      <td>87</td>\n",
       "      <td>A+</td>\n",
       "    </tr>\n",
       "  </tbody>\n",
       "</table>\n",
       "</div>"
      ],
      "text/plain": [
       "                                Title           Dist  budget     relDate  \\\n",
       "52  Spider-Man: Into the Spider-Verse  Sony Pictures      90  2018-12-14   \n",
       "\n",
       "    year  month  day  Recaudado  ganancia  RT  Mc  CS  \n",
       "52  2018     12   14     375.54    285.54  97  87  A+  "
      ]
     },
     "execution_count": 167,
     "metadata": {},
     "output_type": "execute_result"
    }
   ],
   "source": [
    "Mar2.loc[Mar2['RT']==Mar2.RT.max()]"
   ]
  },
  {
   "cell_type": "code",
   "execution_count": 187,
   "id": "d868475a-0204-4d25-9b86-1882c2617cac",
   "metadata": {
    "tags": []
   },
   "outputs": [
    {
     "data": {
      "text/plain": [
       "<AxesSubplot:xlabel='year'>"
      ]
     },
     "execution_count": 187,
     "metadata": {},
     "output_type": "execute_result"
    },
    {
     "data": {
      "image/png": "[encoded data removed]",
      "text/plain": [
       "<Figure size 432x288 with 1 Axes>"
      ]
     },
     "metadata": {
      "needs_background": "light"
     },
     "output_type": "display_data"
    }
   ],
   "source": [
    "Mar2.filter(['year','ganancia','RT','Mc','CS']).pivot_table(index='year').round(2).plot()"
   ]
  },
  {
   "cell_type": "code",
   "execution_count": 188,
   "id": "69ed6274-2e1e-4cde-b197-a0ab4be58976",
   "metadata": {
    "tags": []
   },
   "outputs": [
    {
     "data": {
      "text/plain": [
       "<AxesSubplot:xlabel='year'>"
      ]
     },
     "execution_count": 188,
     "metadata": {},
     "output_type": "execute_result"
    },
    {
     "data": {
      "image/png": "[encoded data removed]",
      "text/plain": [
       "<Figure size 432x288 with 1 Axes>"
      ]
     },
     "metadata": {
      "needs_background": "light"
     },
     "output_type": "display_data"
    }
   ],
   "source": [
    "Mar2.filter(['year','RT','Mc','CS']).pivot_table(index='year').round(2).plot()"
   ]
  },
  {
   "cell_type": "code",
   "execution_count": null,
   "id": "4b8cdd0d-7222-4856-aba8-9810acab8102",
   "metadata": {},
   "outputs": [],
   "source": []
  }
 ],
 "metadata": {
  "kernelspec": {
   "display_name": "Python 3",
   "language": "python",
   "name": "python3"
  },
  "language_info": {
   "codemirror_mode": {
    "name": "ipython",
    "version": 3
   },
   "file_extension": ".py",
   "mimetype": "text/x-python",
   "name": "python",
   "nbconvert_exporter": "python",
   "pygments_lexer": "ipython3",
   "version": "3.9.2"
  }
 },
 "nbformat": 4,
 "nbformat_minor": 5
}
