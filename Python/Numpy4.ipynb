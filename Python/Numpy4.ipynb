{
 "cells": [
  {
   "cell_type": "code",
   "execution_count": 1,
   "id": "43dcf3d4-58a8-4729-a59d-857bb3ae5f51",
   "metadata": {},
   "outputs": [],
   "source": [
    "import numpy as np"
   ]
  },
  {
   "cell_type": "code",
   "execution_count": 4,
   "id": "54de6351-c207-4d05-abb6-05ec24a36848",
   "metadata": {
    "tags": []
   },
   "outputs": [],
   "source": [
    "A1=np.array(range(100))\n",
    "A2=np.array(range(100,200))"
   ]
  },
  {
   "cell_type": "code",
   "execution_count": 8,
   "id": "6aeb8e0c-d655-4966-8066-6756ebda8a07",
   "metadata": {
    "tags": []
   },
   "outputs": [
    {
     "data": {
      "text/plain": [
       "array([100, 101, 102, 103, 104, 105, 106, 107, 108, 109, 110, 111, 112,\n",
       "       113, 114, 115, 116, 117, 118, 119, 120, 121, 122, 123, 124, 125,\n",
       "       126, 127, 128, 129, 130, 131, 132, 133, 134, 135, 136, 137, 138,\n",
       "       139, 140, 141, 142, 143, 144, 145, 146, 147, 148, 149, 150, 151,\n",
       "       152, 153, 154, 155, 156, 157, 158, 159, 160, 161, 162, 163, 164,\n",
       "       165, 166, 167, 168, 169, 170, 171, 172, 173, 174, 175, 176, 177,\n",
       "       178, 179, 180, 181, 182, 183, 184, 185, 186, 187, 188, 189, 190,\n",
       "       191, 192, 193, 194, 195, 196, 197, 198, 199])"
      ]
     },
     "execution_count": 8,
     "metadata": {},
     "output_type": "execute_result"
    }
   ],
   "source": [
    "A2"
   ]
  },
  {
   "cell_type": "code",
   "execution_count": 9,
   "id": "46749576-4a06-4c58-bc10-0f53df5f9ea2",
   "metadata": {
    "tags": []
   },
   "outputs": [],
   "source": [
    "A3=np.concatenate((A1,A2))"
   ]
  },
  {
   "cell_type": "code",
   "execution_count": 10,
   "id": "94d6d65d-d0b2-4cb0-b1e9-91ab0c235d1d",
   "metadata": {
    "tags": []
   },
   "outputs": [
    {
     "data": {
      "text/plain": [
       "array([  0,   1,   2,   3,   4,   5,   6,   7,   8,   9,  10,  11,  12,\n",
       "        13,  14,  15,  16,  17,  18,  19,  20,  21,  22,  23,  24,  25,\n",
       "        26,  27,  28,  29,  30,  31,  32,  33,  34,  35,  36,  37,  38,\n",
       "        39,  40,  41,  42,  43,  44,  45,  46,  47,  48,  49,  50,  51,\n",
       "        52,  53,  54,  55,  56,  57,  58,  59,  60,  61,  62,  63,  64,\n",
       "        65,  66,  67,  68,  69,  70,  71,  72,  73,  74,  75,  76,  77,\n",
       "        78,  79,  80,  81,  82,  83,  84,  85,  86,  87,  88,  89,  90,\n",
       "        91,  92,  93,  94,  95,  96,  97,  98,  99, 100, 101, 102, 103,\n",
       "       104, 105, 106, 107, 108, 109, 110, 111, 112, 113, 114, 115, 116,\n",
       "       117, 118, 119, 120, 121, 122, 123, 124, 125, 126, 127, 128, 129,\n",
       "       130, 131, 132, 133, 134, 135, 136, 137, 138, 139, 140, 141, 142,\n",
       "       143, 144, 145, 146, 147, 148, 149, 150, 151, 152, 153, 154, 155,\n",
       "       156, 157, 158, 159, 160, 161, 162, 163, 164, 165, 166, 167, 168,\n",
       "       169, 170, 171, 172, 173, 174, 175, 176, 177, 178, 179, 180, 181,\n",
       "       182, 183, 184, 185, 186, 187, 188, 189, 190, 191, 192, 193, 194,\n",
       "       195, 196, 197, 198, 199])"
      ]
     },
     "execution_count": 10,
     "metadata": {},
     "output_type": "execute_result"
    }
   ],
   "source": [
    "A3\n"
   ]
  },
  {
   "cell_type": "code",
   "execution_count": 12,
   "id": "e690a498-1d0c-4ce1-8b12-e2859447765d",
   "metadata": {
    "tags": []
   },
   "outputs": [
    {
     "data": {
      "text/plain": [
       "array([  0,   1,   2,   3,   4,   5,   6,   7,   8,   9,  10,  11,  12,\n",
       "        13,  14,  15,  16,  17,  18,  19,  20,  21,  22,  23,  24,  25,\n",
       "        26,  27,  28,  29,  30,  31,  32,  33,  34,  35,  36,  37,  38,\n",
       "        39,  40,  41,  42,  43,  44,  45,  46,  47,  48,  49,  50,  51,\n",
       "        52,  53,  54,  55,  56,  57,  58,  59,  60,  61,  62,  63,  64,\n",
       "        65,  66,  67,  68,  69,  70,  71,  72,  73,  74,  75,  76,  77,\n",
       "        78,  79,  80,  81,  82,  83,  84,  85,  86,  87,  88,  89,  90,\n",
       "        91,  92,  93,  94,  95,  96,  97,  98,  99, 100, 101, 102, 103,\n",
       "       104, 105, 106, 107, 108, 109, 110, 111, 112, 113, 114, 115, 116,\n",
       "       117, 118, 119, 120, 121, 122, 123, 124, 125, 126, 127, 128, 129,\n",
       "       130, 131, 132, 133, 134, 135, 136, 137, 138, 139, 140, 141, 142,\n",
       "       143, 144, 145, 146, 147, 148, 149, 150, 151, 152, 153, 154, 155,\n",
       "       156, 157, 158, 159, 160, 161, 162, 163, 164, 165, 166, 167, 168,\n",
       "       169, 170, 171, 172, 173, 174, 175, 176, 177, 178, 179, 180, 181,\n",
       "       182, 183, 184, 185, 186, 187, 188, 189, 190, 191, 192, 193, 194,\n",
       "       195, 196, 197, 198, 199])"
      ]
     },
     "execution_count": 12,
     "metadata": {},
     "output_type": "execute_result"
    }
   ],
   "source": [
    "np.concatenate([A1,A2])"
   ]
  },
  {
   "cell_type": "code",
   "execution_count": 13,
   "id": "e8911a0a-06c7-4ead-9d6d-759502793f3a",
   "metadata": {
    "tags": []
   },
   "outputs": [],
   "source": [
    "A5=np.array(range(8))"
   ]
  },
  {
   "cell_type": "code",
   "execution_count": 16,
   "id": "3fac4a23-f7ea-4f58-b65d-7debb18425f1",
   "metadata": {
    "tags": []
   },
   "outputs": [],
   "source": [
    "A5=A5.reshape(2,4)"
   ]
  },
  {
   "cell_type": "code",
   "execution_count": 24,
   "id": "fe6d06fc-640d-422d-9376-b60593991d04",
   "metadata": {
    "tags": []
   },
   "outputs": [
    {
     "data": {
      "text/plain": [
       "array([[0, 1, 2, 3],\n",
       "       [4, 5, 6, 7]])"
      ]
     },
     "execution_count": 24,
     "metadata": {},
     "output_type": "execute_result"
    }
   ],
   "source": [
    "A5"
   ]
  },
  {
   "cell_type": "code",
   "execution_count": 17,
   "id": "892ac5b5-6349-4262-b50f-9484540ff60a",
   "metadata": {
    "tags": []
   },
   "outputs": [],
   "source": [
    "A6=np.array(range(8,16)).reshape(2,4)"
   ]
  },
  {
   "cell_type": "code",
   "execution_count": 18,
   "id": "958a00bd-721b-4d34-b3df-108c55a81a7f",
   "metadata": {
    "tags": []
   },
   "outputs": [
    {
     "data": {
      "text/plain": [
       "array([[ 8,  9, 10, 11],\n",
       "       [12, 13, 14, 15]])"
      ]
     },
     "execution_count": 18,
     "metadata": {},
     "output_type": "execute_result"
    }
   ],
   "source": [
    "A6"
   ]
  },
  {
   "cell_type": "code",
   "execution_count": 20,
   "id": "6d28992b-c3bf-4a39-b718-23da0b607f57",
   "metadata": {
    "tags": []
   },
   "outputs": [],
   "source": [
    "A7=np.concatenate((A5,A6))"
   ]
  },
  {
   "cell_type": "code",
   "execution_count": 21,
   "id": "f951d02b-0b04-48bf-815a-2661c6e43063",
   "metadata": {
    "tags": []
   },
   "outputs": [
    {
     "data": {
      "text/plain": [
       "array([[ 0,  1,  2,  3],\n",
       "       [ 4,  5,  6,  7],\n",
       "       [ 8,  9, 10, 11],\n",
       "       [12, 13, 14, 15]])"
      ]
     },
     "execution_count": 21,
     "metadata": {},
     "output_type": "execute_result"
    }
   ],
   "source": [
    "A7"
   ]
  },
  {
   "cell_type": "code",
   "execution_count": 29,
   "id": "acac4f24-5cfe-44bc-b0d9-f80d2e5a0f1a",
   "metadata": {
    "tags": []
   },
   "outputs": [],
   "source": [
    "A8=np.concatenate((A5,A6),axis=1)"
   ]
  },
  {
   "cell_type": "code",
   "execution_count": 30,
   "id": "0b522870-82ec-4825-ac46-e932e5d223f8",
   "metadata": {
    "tags": []
   },
   "outputs": [
    {
     "data": {
      "text/plain": [
       "array([[ 0,  1,  2,  3,  8,  9, 10, 11],\n",
       "       [ 4,  5,  6,  7, 12, 13, 14, 15]])"
      ]
     },
     "execution_count": 30,
     "metadata": {},
     "output_type": "execute_result"
    }
   ],
   "source": [
    "A8"
   ]
  },
  {
   "cell_type": "code",
   "execution_count": 32,
   "id": "eabb276c-3fdb-45d3-89a7-78b09d7984ee",
   "metadata": {
    "tags": []
   },
   "outputs": [],
   "source": [
    "A9=np.stack((A5,A6))"
   ]
  },
  {
   "cell_type": "code",
   "execution_count": 37,
   "id": "e14da005-044b-4a93-aa25-8a549630d9ca",
   "metadata": {
    "tags": []
   },
   "outputs": [
    {
     "data": {
      "text/plain": [
       "3"
      ]
     },
     "execution_count": 37,
     "metadata": {},
     "output_type": "execute_result"
    }
   ],
   "source": [
    "A9.ndim"
   ]
  },
  {
   "cell_type": "code",
   "execution_count": 40,
   "id": "369a17ac-6a5b-47ad-8f4b-f918b8097930",
   "metadata": {
    "tags": []
   },
   "outputs": [
    {
     "data": {
      "text/plain": [
       "2"
      ]
     },
     "execution_count": 40,
     "metadata": {},
     "output_type": "execute_result"
    }
   ],
   "source": [
    "A8.ndim"
   ]
  },
  {
   "cell_type": "code",
   "execution_count": 45,
   "id": "4479ab78-dd5f-4564-a0cf-9e4f445392b2",
   "metadata": {
    "tags": []
   },
   "outputs": [],
   "source": [
    "A10=np.stack((A5,A6))"
   ]
  },
  {
   "cell_type": "code",
   "execution_count": 48,
   "id": "b5ffaff8-f972-4a1e-98e7-e5aca2c7a6d9",
   "metadata": {
    "tags": []
   },
   "outputs": [
    {
     "data": {
      "text/plain": [
       "3"
      ]
     },
     "execution_count": 48,
     "metadata": {},
     "output_type": "execute_result"
    }
   ],
   "source": [
    "A10.ndim"
   ]
  },
  {
   "cell_type": "code",
   "execution_count": 49,
   "id": "8f92960b-76d8-436a-82cc-fc864ed09a91",
   "metadata": {
    "tags": []
   },
   "outputs": [],
   "source": [
    "A11=np.hstack((A5,A6))"
   ]
  },
  {
   "cell_type": "code",
   "execution_count": 51,
   "id": "37f9d4c2-4cd2-450d-b6ef-c827384f1fb2",
   "metadata": {
    "tags": []
   },
   "outputs": [
    {
     "data": {
      "text/plain": [
       "2"
      ]
     },
     "execution_count": 51,
     "metadata": {},
     "output_type": "execute_result"
    }
   ],
   "source": [
    "A11.ndim"
   ]
  },
  {
   "cell_type": "code",
   "execution_count": 52,
   "id": "df88f083-de9b-4bbe-a3c7-25efd3ae338a",
   "metadata": {
    "tags": []
   },
   "outputs": [],
   "source": [
    "A12=np.vstack((A5,A6))"
   ]
  },
  {
   "cell_type": "code",
   "execution_count": 53,
   "id": "930d9ca9-468c-44a0-8310-b7ba21c30ab1",
   "metadata": {
    "tags": []
   },
   "outputs": [
    {
     "data": {
      "text/plain": [
       "array([[ 0,  1,  2,  3],\n",
       "       [ 4,  5,  6,  7],\n",
       "       [ 8,  9, 10, 11],\n",
       "       [12, 13, 14, 15]])"
      ]
     },
     "execution_count": 53,
     "metadata": {},
     "output_type": "execute_result"
    }
   ],
   "source": [
    "A12"
   ]
  },
  {
   "cell_type": "code",
   "execution_count": 54,
   "id": "0835cebc-5b2f-47e5-84f7-de2892fd3d3d",
   "metadata": {
    "tags": []
   },
   "outputs": [],
   "source": [
    "A13=np.dstack((A5,A6))"
   ]
  },
  {
   "cell_type": "code",
   "execution_count": 55,
   "id": "a378a2bf-4be4-4635-baf8-c08890a445b3",
   "metadata": {
    "tags": []
   },
   "outputs": [
    {
     "data": {
      "text/plain": [
       "array([[[ 0,  8],\n",
       "        [ 1,  9],\n",
       "        [ 2, 10],\n",
       "        [ 3, 11]],\n",
       "\n",
       "       [[ 4, 12],\n",
       "        [ 5, 13],\n",
       "        [ 6, 14],\n",
       "        [ 7, 15]]])"
      ]
     },
     "execution_count": 55,
     "metadata": {},
     "output_type": "execute_result"
    }
   ],
   "source": [
    "A13"
   ]
  },
  {
   "cell_type": "code",
   "execution_count": 57,
   "id": "89d79d19-699c-4b64-a1a8-48e61941085d",
   "metadata": {
    "tags": []
   },
   "outputs": [
    {
     "data": {
      "text/plain": [
       "array([[ 8, 12],\n",
       "       [ 9, 13],\n",
       "       [10, 14],\n",
       "       [11, 15]])"
      ]
     },
     "execution_count": 57,
     "metadata": {},
     "output_type": "execute_result"
    }
   ],
   "source": [
    "A6.T"
   ]
  },
  {
   "cell_type": "code",
   "execution_count": 66,
   "id": "085d7f69-262b-4650-9f58-967dc9776694",
   "metadata": {
    "tags": []
   },
   "outputs": [],
   "source": [
    "A14=np.array_split(A1,4)"
   ]
  },
  {
   "cell_type": "code",
   "execution_count": 68,
   "id": "c53774f0-5dbf-4e32-89e7-2a3972165df0",
   "metadata": {
    "tags": []
   },
   "outputs": [
    {
     "data": {
      "text/plain": [
       "[array([ 0,  1,  2,  3,  4,  5,  6,  7,  8,  9, 10, 11, 12, 13, 14, 15, 16,\n",
       "        17, 18, 19, 20, 21, 22, 23, 24]),\n",
       " array([25, 26, 27, 28, 29, 30, 31, 32, 33, 34, 35, 36, 37, 38, 39, 40, 41,\n",
       "        42, 43, 44, 45, 46, 47, 48, 49]),\n",
       " array([50, 51, 52, 53, 54, 55, 56, 57, 58, 59, 60, 61, 62, 63, 64, 65, 66,\n",
       "        67, 68, 69, 70, 71, 72, 73, 74]),\n",
       " array([75, 76, 77, 78, 79, 80, 81, 82, 83, 84, 85, 86, 87, 88, 89, 90, 91,\n",
       "        92, 93, 94, 95, 96, 97, 98, 99])]"
      ]
     },
     "execution_count": 68,
     "metadata": {},
     "output_type": "execute_result"
    }
   ],
   "source": [
    "A14"
   ]
  },
  {
   "cell_type": "code",
   "execution_count": 79,
   "id": "6d8d07fe-e7a3-4d15-9bea-a28fe602fb9d",
   "metadata": {
    "tags": []
   },
   "outputs": [],
   "source": [
    "A15=np.array_split(A5.T,2)"
   ]
  },
  {
   "cell_type": "code",
   "execution_count": 80,
   "id": "3e501108-a85e-44af-a24a-ba52c0d85335",
   "metadata": {
    "tags": []
   },
   "outputs": [
    {
     "data": {
      "text/plain": [
       "[array([[0, 4],\n",
       "        [1, 5]]),\n",
       " array([[2, 6],\n",
       "        [3, 7]])]"
      ]
     },
     "execution_count": 80,
     "metadata": {},
     "output_type": "execute_result"
    }
   ],
   "source": [
    "A15"
   ]
  },
  {
   "cell_type": "code",
   "execution_count": 83,
   "id": "bdfba3b4-61b2-4815-84b6-affb34c04195",
   "metadata": {
    "tags": []
   },
   "outputs": [],
   "source": [
    "A16=np.hsplit(A5,4)"
   ]
  },
  {
   "cell_type": "code",
   "execution_count": 84,
   "id": "334910f9-2f87-45db-9ecb-4fccde88a1ee",
   "metadata": {
    "tags": []
   },
   "outputs": [
    {
     "data": {
      "text/plain": [
       "[array([[0],\n",
       "        [4]]),\n",
       " array([[1],\n",
       "        [5]]),\n",
       " array([[2],\n",
       "        [6]]),\n",
       " array([[3],\n",
       "        [7]])]"
      ]
     },
     "execution_count": 84,
     "metadata": {},
     "output_type": "execute_result"
    }
   ],
   "source": [
    "A16"
   ]
  },
  {
   "cell_type": "code",
   "execution_count": null,
   "id": "c0d6090a-7afe-404e-99f2-4cd7a5ff0208",
   "metadata": {},
   "outputs": [],
   "source": []
  }
 ],
 "metadata": {
  "kernelspec": {
   "display_name": "Python 3",
   "language": "python",
   "name": "python3"
  },
  "language_info": {
   "codemirror_mode": {
    "name": "ipython",
    "version": 3
   },
   "file_extension": ".py",
   "mimetype": "text/x-python",
   "name": "python",
   "nbconvert_exporter": "python",
   "pygments_lexer": "ipython3",
   "version": "3.9.2"
  }
 },
 "nbformat": 4,
 "nbformat_minor": 5
}
