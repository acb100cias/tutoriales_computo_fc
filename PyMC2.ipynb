{
  "nbformat": 4,
  "nbformat_minor": 0,
  "metadata": {
    "colab": {
      "private_outputs": true,
      "provenance": [],
      "authorship_tag": "ABX9TyMQgZDqvTXapcmFWHEP1AVP",
      "include_colab_link": true
    },
    "kernelspec": {
      "name": "python3",
      "display_name": "Python 3"
    },
    "language_info": {
      "name": "python"
    }
  },
  "cells": [
    {
      "cell_type": "markdown",
      "metadata": {
        "id": "view-in-github",
        "colab_type": "text"
      },
      "source": [
        "<a href=\"https://colab.research.google.com/github/acb100cias/tutoriales_computo_fc/blob/master/PyMC2.ipynb\" target=\"_parent\"><img src=\"https://colab.research.google.com/assets/colab-badge.svg\" alt=\"Open In Colab\"/></a>"
      ]
    },
    {
      "cell_type": "code",
      "execution_count": null,
      "metadata": {
        "id": "9tw9Zh_-Nav2"
      },
      "outputs": [],
      "source": [
        "!pip install pymc"
      ]
    },
    {
      "cell_type": "code",
      "source": [
        "import arviz as az\n",
        "import matplotlib.pyplot as plt\n",
        "import numpy as np\n",
        "import pandas as pd\n",
        "import pymc as pm"
      ],
      "metadata": {
        "id": "bQ0tx-AuOtZv"
      },
      "execution_count": null,
      "outputs": []
    },
    {
      "cell_type": "code",
      "source": [
        "test_scores=pd.read_csv(pm.get_data('test_scores.csv'),index_col=0)"
      ],
      "metadata": {
        "id": "PC4_h_yOO16k"
      },
      "execution_count": null,
      "outputs": []
    },
    {
      "cell_type": "code",
      "source": [
        "test_scores"
      ],
      "metadata": {
        "id": "UW8jK3GEO_0v"
      },
      "execution_count": null,
      "outputs": []
    },
    {
      "cell_type": "code",
      "source": [
        "test_scores['score'].hist()"
      ],
      "metadata": {
        "id": "_tnbx-DbPKoU"
      },
      "execution_count": null,
      "outputs": []
    },
    {
      "cell_type": "code",
      "source": [
        "X=test_scores.dropna().astype(float)"
      ],
      "metadata": {
        "id": "2BLCxElJPcfF"
      },
      "execution_count": null,
      "outputs": []
    },
    {
      "cell_type": "code",
      "source": [
        "X"
      ],
      "metadata": {
        "id": "oXVA829bPqZs"
      },
      "execution_count": null,
      "outputs": []
    },
    {
      "cell_type": "code",
      "source": [
        "Y=X.pop('score')"
      ],
      "metadata": {
        "id": "2zu_QQxkPsQW"
      },
      "execution_count": null,
      "outputs": []
    },
    {
      "cell_type": "code",
      "source": [
        "X-=X.mean()\n",
        "X/=X.std()"
      ],
      "metadata": {
        "id": "rvQF4XoDP3bO"
      },
      "execution_count": null,
      "outputs": []
    },
    {
      "cell_type": "code",
      "source": [
        "N,D=X.shape"
      ],
      "metadata": {
        "id": "7VAOgcPHQA7F"
      },
      "execution_count": null,
      "outputs": []
    },
    {
      "cell_type": "code",
      "source": [
        "X"
      ],
      "metadata": {
        "id": "BhgypEwfQRK_"
      },
      "execution_count": null,
      "outputs": []
    },
    {
      "cell_type": "code",
      "source": [
        "D0=int(D/2)"
      ],
      "metadata": {
        "id": "Itj1clQdQSSU"
      },
      "execution_count": null,
      "outputs": []
    },
    {
      "cell_type": "code",
      "source": [
        "import pytensor.tensor as pt"
      ],
      "metadata": {
        "id": "uk6Re0VoQfc9"
      },
      "execution_count": null,
      "outputs": []
    },
    {
      "cell_type": "code",
      "source": [
        "with pm.Model(coords={'predictors':X.columns.values}) as test_score_model:\n",
        "  sigma=pm.HalfNormal(\"sigma\",25)\n",
        "  tau=pm.HalfStudentT('tau',2,D0/(D-D0)*sigma/np.sqrt(N))\n",
        "  lam=pm.HalfStudentT('lam',5,dims='predictors')\n",
        "  c2=pm.InverseGamma('c2',1,1)\n",
        "  z=pm.Normal('z',0.0,1.0,dims='predictors')\n",
        "  beta=pm.Deterministic('beta',z*tau*lam*pt.sqrt(c2/(c2+tau**2*lam**2)),dims='predictors')\n",
        "  beta0=pm.Normal('beta0',100,25.0)\n",
        "  scores=pm.Normal('scores',beta0+pt.dot(X.values,beta),sigma,observed=Y.values)"
      ],
      "metadata": {
        "id": "FMXx9De1Qlum"
      },
      "execution_count": null,
      "outputs": []
    },
    {
      "cell_type": "code",
      "source": [
        "pm.model_to_graphviz(test_score_model)"
      ],
      "metadata": {
        "id": "Mq7IwSjNSes_"
      },
      "execution_count": null,
      "outputs": []
    },
    {
      "cell_type": "code",
      "source": [
        "with test_score_model:\n",
        "  prior_samples=pm.sample_prior_predictive(100)\n"
      ],
      "metadata": {
        "id": "dv1e_O68SqY_"
      },
      "execution_count": null,
      "outputs": []
    },
    {
      "cell_type": "code",
      "source": [
        "az.plot_dist(test_scores['score'].values,kind='hist',color='C1',hist_kwargs={'alpha':0.6},label='observed')\n",
        "az.plot_dist(prior_samples.prior_predictive['scores'],kind='hist',hist_kwargs={'alpha':0.6},label='simulated')\n",
        "plt.xticks(rotation=45)"
      ],
      "metadata": {
        "id": "tfs9FFH5TBh_"
      },
      "execution_count": null,
      "outputs": []
    },
    {
      "cell_type": "code",
      "source": [
        "with test_score_model:\n",
        "  idata=pm.sample(1000,tune=2000,random_seed=42)"
      ],
      "metadata": {
        "id": "fPLK4AVuUgjQ"
      },
      "execution_count": null,
      "outputs": []
    },
    {
      "cell_type": "code",
      "source": [
        "with test_score_model:\n",
        "  idata=pm.sample(1000,tune=2000,random_seed=42,target_accept=0.99)"
      ],
      "metadata": {
        "id": "aqFLPUWSUx04"
      },
      "execution_count": null,
      "outputs": []
    },
    {
      "cell_type": "code",
      "source": [
        "az.plot_trace(idata,var_names=['tau','sigma','c2'])"
      ],
      "metadata": {
        "id": "vOQuuyVgVHPw"
      },
      "execution_count": null,
      "outputs": []
    },
    {
      "cell_type": "code",
      "source": [
        "az.plot_energy(idata)"
      ],
      "metadata": {
        "id": "jhToYjN_VhMx"
      },
      "execution_count": null,
      "outputs": []
    },
    {
      "cell_type": "code",
      "source": [
        "az.plot_forest(idata,var_names=['beta'],combined=True,hdi_prob=0.95,r_hat=True)"
      ],
      "metadata": {
        "id": "Hlk-9gXfVr-q"
      },
      "execution_count": null,
      "outputs": []
    },
    {
      "cell_type": "code",
      "source": [],
      "metadata": {
        "id": "NJZdNIEJV_HZ"
      },
      "execution_count": null,
      "outputs": []
    }
  ]
}