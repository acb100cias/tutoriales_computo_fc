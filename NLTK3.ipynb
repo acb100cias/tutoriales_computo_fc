{
  "nbformat": 4,
  "nbformat_minor": 0,
  "metadata": {
    "colab": {
      "private_outputs": true,
      "provenance": [],
      "authorship_tag": "ABX9TyPUCebIAGoRN/jYM6MCZinf",
      "include_colab_link": true
    },
    "kernelspec": {
      "name": "python3",
      "display_name": "Python 3"
    },
    "language_info": {
      "name": "python"
    }
  },
  "cells": [
    {
      "cell_type": "markdown",
      "metadata": {
        "id": "view-in-github",
        "colab_type": "text"
      },
      "source": [
        "<a href=\"https://colab.research.google.com/github/acb100cias/tutoriales_computo_fc/blob/master/NLTK3.ipynb\" target=\"_parent\"><img src=\"https://colab.research.google.com/assets/colab-badge.svg\" alt=\"Open In Colab\"/></a>"
      ]
    },
    {
      "cell_type": "code",
      "execution_count": null,
      "metadata": {
        "id": "BAe14uk2pjAF"
      },
      "outputs": [],
      "source": [
        "import pandas as pd\n",
        "import nltk\n",
        "from nltk.sentiment.vader import SentimentIntensityAnalyzer\n",
        "from nltk.corpus import stopwords\n",
        "from nltk.tokenize import word_tokenize\n",
        "from nltk.stem import WordNetLemmatizer\n",
        "\n",
        "nltk.download('all')"
      ]
    },
    {
      "cell_type": "code",
      "source": [
        "df = pd.read_csv('https://raw.githubusercontent.com/pycaret/pycaret/master/datasets/amazon.csv')\n"
      ],
      "metadata": {
        "id": "VN_nURMyvOSk"
      },
      "execution_count": null,
      "outputs": []
    },
    {
      "cell_type": "code",
      "source": [
        "df"
      ],
      "metadata": {
        "id": "20l2Q2AnvpsV"
      },
      "execution_count": null,
      "outputs": []
    },
    {
      "cell_type": "code",
      "source": [
        "def preprocess_text(text):\n",
        "  tokens=word_tokenize(text.lower())\n",
        "  filtered_tokens=[token for token in tokens if token not in stopwords.words('english')]\n",
        "  lemmatizer=WordNetLemmatizer()\n",
        "  lemmatized_tokens=[lemmatizer.lemmatize(token) for token in filtered_tokens]\n",
        "  processed_text=' '.join(lemmatized_tokens)\n",
        "  return processed_text"
      ],
      "metadata": {
        "id": "-04ktK2VvqU-"
      },
      "execution_count": null,
      "outputs": []
    },
    {
      "cell_type": "code",
      "source": [
        "df['reviewText']=df['reviewText'].apply(preprocess_text)"
      ],
      "metadata": {
        "id": "JjbpA6-YwxLU"
      },
      "execution_count": null,
      "outputs": []
    },
    {
      "cell_type": "code",
      "source": [
        "analyzer=SentimentIntensityAnalyzer()\n",
        "def get_sentiment(text):\n",
        "  scores=analyzer.polarity_scores(text)\n",
        "  sentiment=1 if scores['pos'] > 0 else 0\n",
        "  return sentiment"
      ],
      "metadata": {
        "id": "SOD2Xhsbw56q"
      },
      "execution_count": null,
      "outputs": []
    },
    {
      "cell_type": "code",
      "source": [
        "df"
      ],
      "metadata": {
        "id": "2EVix1244RFh"
      },
      "execution_count": null,
      "outputs": []
    },
    {
      "cell_type": "code",
      "source": [
        "df['sentiment']=df['reviewText'].apply(get_sentiment)"
      ],
      "metadata": {
        "id": "21S-h_POx1zt"
      },
      "execution_count": null,
      "outputs": []
    },
    {
      "cell_type": "code",
      "source": [
        "df['error']=df['Positive']-df['sentiment']"
      ],
      "metadata": {
        "id": "98RDckoXyG_a"
      },
      "execution_count": null,
      "outputs": []
    },
    {
      "cell_type": "code",
      "source": [
        "df.loc[df['error']!=0]\n"
      ],
      "metadata": {
        "id": "vPrOdZ18yKCF"
      },
      "execution_count": null,
      "outputs": []
    },
    {
      "cell_type": "code",
      "source": [
        "df.loc[19999]['reviewText']\n"
      ],
      "metadata": {
        "id": "-a6H5b7uyWHq"
      },
      "execution_count": null,
      "outputs": []
    },
    {
      "cell_type": "code",
      "source": [],
      "metadata": {
        "id": "h8pR8kqFyp3s"
      },
      "execution_count": null,
      "outputs": []
    }
  ]
}