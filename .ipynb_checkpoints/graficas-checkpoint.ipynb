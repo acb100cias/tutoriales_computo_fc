{
 "cells": [
  {
   "cell_type": "code",
   "execution_count": null,
   "metadata": {
    "collapsed": true
   },
   "outputs": [],
   "source": [
    "from numpy import *\n",
    "from matplotlib.pyplot import *"
   ]
  },
  {
   "cell_type": "code",
   "execution_count": null,
   "metadata": {
    "collapsed": true
   },
   "outputs": [],
   "source": [
    "X=arange(-4,4,0.01)\n",
    "Y=arange(0.1,4,0.01)\n",
    "Z=arange(0.1,4,0.1)"
   ]
  },
  {
   "cell_type": "code",
   "execution_count": null,
   "metadata": {
    "collapsed": false
   },
   "outputs": [],
   "source": [
    "f1=figure()\n",
    "plot(sin(X),label='sen(x)')\n",
    "plot(cos(X),label='cos(x)')\n",
    "title('Sen y Cos')\n",
    "legend()\n",
    "#savefig('senocoseno.pdf')\n",
    "#show()"
   ]
  },
  {
   "cell_type": "code",
   "execution_count": null,
   "metadata": {
    "collapsed": false
   },
   "outputs": [],
   "source": [
    "f2=figure()\n",
    "plot(exp(Y),label='epx(x)')\n",
    "plot(log(Y),label='ln(x)')\n",
    "title('Exp y Log')\n",
    "legend()\n",
    "#savefig('expolog1.pdf')\n",
    "#show()"
   ]
  },
  {
   "cell_type": "code",
   "execution_count": null,
   "metadata": {
    "collapsed": false
   },
   "outputs": [],
   "source": [
    "\n",
    "f3=figure()\n",
    "plot(exp(Z),label='epx(x)',color='blue',marker='o')\n",
    "plot(log(Z),label='ln(x)',color='blue',marker='*')\n",
    "title('Exp y Log')\n",
    "legend()\n",
    "savefig('expolog2.pdf')\n",
    "#show()\n"
   ]
  },
  {
   "cell_type": "code",
   "execution_count": null,
   "metadata": {
    "collapsed": true
   },
   "outputs": [],
   "source": [
    "f4=figure()\n",
    "for i in range(9):\n",
    "    plot(exp())"
   ]
  }
 ],
 "metadata": {
  "kernelspec": {
   "display_name": "Python 3",
   "language": "python",
   "name": "python3"
  },
  "language_info": {
   "codemirror_mode": {
    "name": "ipython",
    "version": 2
   },
   "file_extension": ".py",
   "mimetype": "text/x-python",
   "name": "python",
   "nbconvert_exporter": "python",
   "pygments_lexer": "ipython2",
   "version": "2.7.13"
  }
 },
 "nbformat": 4,
 "nbformat_minor": 2
}
